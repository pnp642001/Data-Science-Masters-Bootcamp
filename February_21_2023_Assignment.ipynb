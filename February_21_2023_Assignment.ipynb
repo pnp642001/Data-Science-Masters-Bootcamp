{
  "nbformat": 4,
  "nbformat_minor": 0,
  "metadata": {
    "colab": {
      "provenance": [],
      "authorship_tag": "ABX9TyNjA3WjjKnQ7azus+ScWr+H",
      "include_colab_link": true
    },
    "kernelspec": {
      "name": "python3",
      "display_name": "Python 3"
    },
    "language_info": {
      "name": "python"
    }
  },
  "cells": [
    {
      "cell_type": "markdown",
      "metadata": {
        "id": "view-in-github",
        "colab_type": "text"
      },
      "source": [
        "<a href=\"https://colab.research.google.com/github/pnp642001/Data-Science-Masters-Bootcamp/blob/main/February_21_2023_Assignment.ipynb\" target=\"_parent\"><img src=\"https://colab.research.google.com/assets/colab-badge.svg\" alt=\"Open In Colab\"/></a>"
      ]
    },
    {
      "cell_type": "markdown",
      "source": [
        "Q1. What is Web Scraping? Why is it Used? Give three areas where Web Scraping is used to get data.<br>\n",
        "ANS:<br><br>\n",
        "Web scraping is the process of automatically extracting data from websites using software or tools. It involves parsing the HTML code of a website and then extracting the desired information from it. The extracted data can be used for various purposes such as data analysis, data mining, or even building a new application.\n",
        "\n",
        "Web scraping is used for various reasons such as:\n",
        "\n",
        "* Collecting data for research: Researchers and analysts use web scraping to collect data from different websites and analyze it for research purposes.\n",
        "\n",
        "* Business intelligence: Companies use web scraping to collect data on their competitors, customers, and market trends, which can help them make informed business decisions.\n",
        "\n",
        "* Lead generation: Web scraping can be used to collect data such as email addresses, phone numbers, and other contact information from websites, which can be used for lead generation.\n",
        "\n",
        "Some of the areas where web scraping is commonly used to get data are:\n",
        "\n",
        "* E-commerce: Web scraping is used to extract product information and pricing data from e-commerce websites.\n",
        "\n",
        "* Social media: Web scraping is used to collect data from social media platforms such as Facebook, Twitter, and Instagram, including user information, posts, and engagement data.\n",
        "\n",
        "* Research: Web scraping is used to collect data from various sources such as government websites, academic databases, and news websites for research purposes."
      ],
      "metadata": {
        "id": "C93cSYAaBBkm"
      }
    },
    {
      "cell_type": "markdown",
      "source": [
        "Q2. What are the different methods used for Web Scraping?<br>\n",
        "ANS:<br><br>\n",
        "* Parsing HTML: This involves parsing the HTML content of a web page using a parser like BeautifulSoup to extract the relevant data.\n",
        "\n",
        "* Using APIs: Many websites provide APIs (Application Programming Interfaces) that allow developers to retrieve data directly from the website's server in a structured format.\n",
        "\n",
        "* Automated web browsing: This involves using tools like Selenium or Scrapy to automate web browsing and extract data from websites.\n",
        "\n",
        "* DOM parsing: This involves parsing the Document Object Model (DOM) of a web page to extract data using libraries like PyQuery or lxml.\n",
        "\n",
        "* Regular expressions: This involves using regular expressions to extract data from web pages based on a specific pattern. However, this method can be less reliable and more error-prone compared to the other methods."
      ],
      "metadata": {
        "id": "91dGKrdtBTks"
      }
    },
    {
      "cell_type": "markdown",
      "source": [
        "Q3. What is Beautiful Soup? Why is it used?<br>\n",
        "ANS:<br><br>\n",
        "Beautiful Soup is a Python library that is used for web scraping purposes. It is a powerful tool that makes it easy to parse HTML and XML documents. It is designed to extract information from web pages in an easy, efficient, and flexible way.\n",
        "\n",
        "Beautiful Soup is used to extract data from HTML and XML documents, by navigating the parse tree that it creates. It provides several ways to navigate and search the parse tree, which makes it a flexible and powerful tool for web scraping.\n",
        "\n",
        "Some of the reasons why Beautiful Soup is widely used for web scraping are:\n",
        "\n",
        "Easy to learn: Beautiful Soup is very easy to learn, even for beginners. The library provides a simple API that makes it easy to extract data from HTML and XML documents.\n",
        "\n",
        "Flexible: Beautiful Soup provides several ways to navigate and search the parse tree, which makes it a flexible tool for web scraping.\n",
        "\n",
        "Handles bad HTML: Beautiful Soup can handle bad HTML and XML documents, which is a common occurrence on the web.\n",
        "\n",
        "Supports different parsers: Beautiful Soup supports different parsers, including the built-in Python HTML parser and external parsers like lxml and html5lib, which provides flexibility in handling different types of web pages.\n",
        "\n",
        "Open-source: Beautiful Soup is an open-source library that is free to use and distribute, making it accessible to everyone."
      ],
      "metadata": {
        "id": "V5gKCd7RBd3b"
      }
    },
    {
      "cell_type": "markdown",
      "source": [
        "Q4. Why is flask used in this Web Scraping project?<br>\n",
        "ANS:<br><br>\n",
        "Flask is a micro web framework written in Python that allows developers to build web applications. Flask is used in this Web Scraping project because it provides a lightweight and flexible framework for building web applications. In this project, Flask can be used to create a web interface to display the scraped data in a user-friendly manner. Flask can also handle user input, such as search queries or filters, and dynamically update the displayed data based on the user input. Additionally, Flask can be used to host the web application on a server, making it accessible to users over the internet."
      ],
      "metadata": {
        "id": "RdgBEOsvB4Px"
      }
    },
    {
      "cell_type": "markdown",
      "source": [
        "Q5. Write the names of AWS services used in this project. Also, explain the use of each service.<br>\n",
        "ANS:<br><br>\n",
        "The names of AWS services used in this project could vary depending on the specific implementation. However, here are some common AWS services that can be used in a web scraping project:\n",
        "\n",
        "* EC2 (Elastic Compute Cloud) - EC2 is a web service that provides resizable compute capacity in the cloud. In a web scraping project, EC2 can be used to deploy web scraping code and run it in a scalable and cost-effective manner.\n",
        "\n",
        "* S3 (Simple Storage Service) - S3 is a storage service that offers industry-leading scalability, data availability, security, and performance. In a web scraping project, S3 can be used to store the scraped data in a secure and durable manner.\n",
        "\n",
        "* Lambda - Lambda is a compute service that lets developers run code without provisioning or managing servers. In a web scraping project, Lambda can be used to trigger web scraping code based on a schedule or an event, such as a new data source being added to the target website.\n",
        "\n",
        "* CloudFormation - CloudFormation is a service that helps you model and set up your Amazon Web Services resources. In a web scraping project, CloudFormation can be used to automate the deployment of web scraping infrastructure, making it easy to replicate the setup in multiple environments.\n",
        "\n",
        "* Glue - AWS Glue is a fully-managed extract, transform, and load (ETL) service that makes it easy to move data between data stores. In a web scraping project, Glue can be used to transform and clean the scraped data before storing it in a target data store.\n",
        "\n",
        "* Athena - Athena is an interactive query service that makes it easy to analyze data in Amazon S3 using standard SQL. In a web scraping project, Athena can be used to query and analyze the scraped data, enabling the user to gain insights from the data."
      ],
      "metadata": {
        "id": "8MUf6cgcB-r5"
      }
    }
  ]
}