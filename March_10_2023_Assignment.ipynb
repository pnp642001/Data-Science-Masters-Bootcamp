{
  "nbformat": 4,
  "nbformat_minor": 0,
  "metadata": {
    "colab": {
      "provenance": [],
      "authorship_tag": "ABX9TyO15B2cxhdXeC9t9OOY/q5Y",
      "include_colab_link": true
    },
    "kernelspec": {
      "name": "python3",
      "display_name": "Python 3"
    },
    "language_info": {
      "name": "python"
    }
  },
  "cells": [
    {
      "cell_type": "markdown",
      "metadata": {
        "id": "view-in-github",
        "colab_type": "text"
      },
      "source": [
        "<a href=\"https://colab.research.google.com/github/pnp642001/Data-Science-Masters-Bootcamp/blob/main/March_10_2023_Assignment.ipynb\" target=\"_parent\"><img src=\"https://colab.research.google.com/assets/colab-badge.svg\" alt=\"Open In Colab\"/></a>"
      ]
    },
    {
      "cell_type": "markdown",
      "source": [
        "**Q1: What is Estimation Statistics? Explain point estimate and interval estimate.**<br>\n",
        "ANS:<br>\n",
        "Estimation statistics is a branch of statistics that deals with the process of estimating population parameters based on sample data. In this approach, a sample is drawn from a population of interest, and sample statistics such as mean, variance, or proportion are used to estimate the corresponding population parameters.\n",
        "\n",
        "Point estimate refers to a single value that is used to estimate the population parameter. For instance, the sample mean is commonly used as a point estimate of the population mean. Point estimates, however, may not always be accurate, and they do not provide any information about how precise the estimate is.\n",
        "\n",
        "Interval estimate, on the other hand, is a range of values that is used to estimate the population parameter. It takes into account the sampling variability and provides an indication of how precise the estimate is. The interval estimate is typically constructed around the point estimate and is based on the confidence level and the standard error of the point estimate. The confidence level refers to the probability that the interval estimate will contain the true population parameter, and it is typically set at 90%, 95%, or 99%."
      ],
      "metadata": {
        "id": "MTNGFrp9DDxC"
      }
    },
    {
      "cell_type": "markdown",
      "source": [
        "**Q2. Write a Python function to estimate the population mean using a sample mean and standard\n",
        "deviation.**<br>\n",
        "ANS:<br>\n"
      ],
      "metadata": {
        "id": "echdtcseDM7I"
      }
    },
    {
      "cell_type": "code",
      "execution_count": 1,
      "metadata": {
        "colab": {
          "base_uri": "https://localhost:8080/"
        },
        "id": "lbYq0trNC8mL",
        "outputId": "38d3ad32-e821-4913-c0a4-99542727be9a"
      },
      "outputs": [
        {
          "output_type": "stream",
          "name": "stdout",
          "text": [
            "(10, 8.734825440238911, 11.265174559761089)\n"
          ]
        }
      ],
      "source": [
        "def estimate_pop_mean(sample_mean, sample_std, sample_size):\n",
        "    # Calculate the standard error of the mean\n",
        "    std_error = sample_std / (sample_size ** 0.5)\n",
        "    \n",
        "    # Calculate the margin of error (z-score for 95% confidence level is 1.96)\n",
        "    margin_error = 1.96 * std_error\n",
        "    \n",
        "    # Calculate the lower and upper bounds of the confidence interval\n",
        "    lower_bound = sample_mean - margin_error\n",
        "    upper_bound = sample_mean + margin_error\n",
        "    \n",
        "    # Return the estimated population mean and confidence interval\n",
        "    return (sample_mean, lower_bound, upper_bound)\n",
        "\n",
        "print(estimate_pop_mean(10,5,60))"
      ]
    },
    {
      "cell_type": "markdown",
      "source": [
        "**Q3: What is Hypothesis testing? Why is it used? State the importance of Hypothesis testing.**<br>\n",
        "ANS:<br>\n",
        "Hypothesis testing is a statistical method that is used to make decisions about a population based on the analysis of sample data. It involves testing a hypothesis about the characteristics of a population, such as the population mean or proportion, using sample data.\n",
        "\n",
        "The main purpose of hypothesis testing is to make inferences or conclusions about the population based on the analysis of a representative sample. Hypothesis testing is used to determine whether an observed effect or relationship in the sample data is statistically significant, which means that it is unlikely to have occurred by chance.\n",
        "\n",
        "The importance of hypothesis testing lies in its ability to provide a systematic and objective approach to making decisions about a population based on sample data. By using hypothesis testing, researchers can avoid making decisions based on personal opinions or biases and can instead rely on statistical evidence to support their conclusions.\n",
        "\n",
        "Hypothesis testing also allows researchers to assess the level of confidence they can have in their conclusions, based on the level of statistical significance they observe. This helps to ensure that their conclusions are reliable and accurate, and can be used to inform future research or decision-making processes."
      ],
      "metadata": {
        "id": "jQDvPI0xDkAR"
      }
    },
    {
      "cell_type": "markdown",
      "source": [
        "**Q4. Create a hypothesis that states whether the average weight of male college students is greater than\n",
        "the average weight of female college students.**<br>\n",
        "ANS:<br>\n",
        "Hypothesis: The average weight of male college students is greater than the average weight of female college students."
      ],
      "metadata": {
        "id": "yqIEDBzdDuux"
      }
    },
    {
      "cell_type": "markdown",
      "source": [
        "**Q5. Write a Python script to conduct a hypothesis test on the difference between two population means,\n",
        "given a sample from each population.**<br>\n",
        "ANS:<br>\n"
      ],
      "metadata": {
        "id": "MhJmB1bfD5eh"
      }
    },
    {
      "cell_type": "code",
      "source": [
        "import numpy as np\n",
        "from scipy.stats import ttest_ind\n",
        "\n",
        "# Generate sample data\n",
        "np.random.seed(1)\n",
        "sample1 = np.random.normal(10, 2, 100)\n",
        "sample2 = np.random.normal(12, 2, 100)\n",
        "\n",
        "# Calculate sample statistics\n",
        "mean1 = np.mean(sample1)\n",
        "mean2 = np.mean(sample2)\n",
        "std1 = np.std(sample1, ddof=1)\n",
        "std2 = np.std(sample2, ddof=1)\n",
        "n1 = len(sample1)\n",
        "n2 = len(sample2)\n",
        "\n",
        "# Calculate pooled standard deviation\n",
        "pooled_std = np.sqrt(((n1 - 1) * std1 ** 2 + (n2 - 1) * std2 ** 2) / (n1 + n2 - 2))\n",
        "\n",
        "# Calculate t-statistic and p-value\n",
        "t_stat = (mean1 - mean2) / (pooled_std * np.sqrt(1 / n1 + 1 / n2))\n",
        "p_value = ttest_ind(sample1, sample2, equal_var=False)[1]\n",
        "\n",
        "# Set significance level\n",
        "alpha = 0.05\n",
        "\n",
        "# Determine whether to reject or fail to reject null hypothesis\n",
        "if p_value < alpha:\n",
        "    print(\"Reject null hypothesis\")\n",
        "else:\n",
        "    print(\"Fail to reject null hypothesis\")\n",
        "    \n",
        "# Print results\n",
        "print(\"Sample 1 mean: {:.2f}\".format(mean1))\n",
        "print(\"Sample 2 mean: {:.2f}\".format(mean2))\n",
        "print(\"Sample 1 standard deviation: {:.2f}\".format(std1))\n",
        "print(\"Sample 2 standard deviation: {:.2f}\".format(std2))\n",
        "print(\"Pooled standard deviation: {:.2f}\".format(pooled_std))\n",
        "print(\"T-statistic: {:.2f}\".format(t_stat))\n",
        "print(\"P-value: {:.4f}\".format(p_value))\n"
      ],
      "metadata": {
        "colab": {
          "base_uri": "https://localhost:8080/"
        },
        "id": "qor4OAlYDf6U",
        "outputId": "5e18c4f7-b74e-4d58-b73a-c3a73c9b7689"
      },
      "execution_count": 2,
      "outputs": [
        {
          "output_type": "stream",
          "name": "stdout",
          "text": [
            "Reject null hypothesis\n",
            "Sample 1 mean: 10.12\n",
            "Sample 2 mean: 12.31\n",
            "Sample 1 standard deviation: 1.78\n",
            "Sample 2 standard deviation: 1.87\n",
            "Pooled standard deviation: 1.83\n",
            "T-statistic: -8.45\n",
            "P-value: 0.0000\n"
          ]
        }
      ]
    },
    {
      "cell_type": "markdown",
      "source": [
        "**Q6: What is a null and alternative hypothesis? Give some examples.**<br>\n",
        "ANS:<br>\n",
        "In hypothesis testing, the null hypothesis (H0) is a statement or assumption that there is no significant difference between two or more populations or variables, while the alternative hypothesis (Ha) is a statement or assumption that there is a significant difference between them.\n",
        "\n",
        "Some examples of null and alternative hypotheses are:\n",
        "\n",
        "* Null hypothesis: There is no significant difference in the mean weight of apples from two different orchards.\n",
        "\n",
        "* Alternative hypothesis: The mean weight of apples from one orchard is significantly different from the mean weight of apples from the other orchard.\n",
        "\n",
        "\n",
        "\n",
        "---\n",
        "\n",
        "\n",
        "* Null hypothesis: The new drug has no significant effect on the blood pressure of patients.\n",
        "\n",
        "* Alternative hypothesis: The new drug has a significant effect on the blood pressure of patients.\n",
        "\n",
        "---\n",
        "\n",
        "* Null hypothesis: There is no significant difference in the proportion of men and women who prefer tea over coffee.\n",
        "\n",
        "* Alternative hypothesis: The proportion of men who prefer tea over coffee is significantly different from the proportion of women who prefer tea over coffee.\n",
        "\n"
      ],
      "metadata": {
        "id": "rTM7sx07ELpE"
      }
    },
    {
      "cell_type": "markdown",
      "source": [
        "**Q7: Write down the steps involved in hypothesis testing.**<br>\n",
        "ANS:<br>\n",
        "The steps involved in hypothesis testing are:\n",
        "\n",
        "State the null and alternative hypotheses: The null hypothesis states that there is no significant difference or relationship between two variables, while the alternative hypothesis states that there is a significant difference or relationship.\n",
        "\n",
        "* Determine the level of significance: This is the probability of rejecting the null hypothesis when it is true. It is denoted by alpha (α), and is usually set at 0.05 or 0.01.\n",
        "\n",
        "\n",
        "* Choose the appropriate test statistic: This depends on the type of data and the hypothesis being tested.\n",
        "\n",
        "\n",
        "* Calculate the test statistic: Use the formula for the chosen test statistic to calculate the value of the test statistic from the sample data.\n",
        "\n",
        "\n",
        "* Determine the p-value: This is the probability of observing a test statistic as extreme as the one calculated under the null hypothesis. It is calculated using a statistical table or software.\n",
        "\n",
        "\n",
        "* Compare the p-value with the level of significance: If the p-value is less than or equal to the level of significance, reject the null hypothesis. Otherwise, fail to reject the null hypothesis.\n",
        "\n",
        "\n",
        "* Interpret the results: If the null hypothesis is rejected, it means that there is evidence to support the alternative hypothesis. If the null hypothesis is not rejected, it means that there is not enough evidence to support the alternative hypothesis."
      ],
      "metadata": {
        "id": "38YBMAxFEfpI"
      }
    },
    {
      "cell_type": "markdown",
      "source": [
        "**Q8. Define p-value and explain its significance in hypothesis testing.**<br>\n",
        "ANS:<br>\n",
        "In hypothesis testing, the p-value is the probability of obtaining the observed result or a more extreme result if the null hypothesis is true. It measures the strength of evidence against the null hypothesis. The smaller the p-value, the stronger the evidence against the null hypothesis.\n",
        "\n",
        "The significance of the p-value is that it is used to make a decision on whether to reject or fail to reject the null hypothesis. The conventional threshold for rejecting the null hypothesis is a p-value less than or equal to 0.05. If the p-value is less than or equal to 0.05, it suggests that the observed result is unlikely to occur by chance alone and we reject the null hypothesis in favor of the alternative hypothesis. On the other hand, if the p-value is greater than 0.05, it suggests that the observed result is likely to occur by chance alone and we fail to reject the null hypothesis.\n",
        "\n",
        "Therefore, the p-value is a key component in hypothesis testing and helps us make informed decisions based on statistical evidence."
      ],
      "metadata": {
        "id": "PXdxVSWAExsK"
      }
    },
    {
      "cell_type": "markdown",
      "source": [
        "**Q9. Generate a Student's t-distribution plot using Python's matplotlib library, with the degrees of freedom\n",
        "parameter set to 10.**<br>\n",
        "ANS:<br>\n"
      ],
      "metadata": {
        "id": "Rlks_oFqE4w3"
      }
    },
    {
      "cell_type": "code",
      "source": [
        "import numpy as np\n",
        "import matplotlib.pyplot as plt\n",
        "from scipy.stats import t\n",
        "\n",
        "df = 10  # degrees of freedom\n",
        "x = np.linspace(-4, 4, 1000)  # range of values for the t-distribution\n",
        "\n",
        "plt.plot(x, t.pdf(x, df))\n",
        "plt.title(\"Student's t-distribution (df = 10)\")\n",
        "plt.xlabel('x')\n",
        "plt.ylabel('Probability density')\n",
        "plt.show()\n"
      ],
      "metadata": {
        "colab": {
          "base_uri": "https://localhost:8080/",
          "height": 472
        },
        "id": "-IV_W-FyEFyZ",
        "outputId": "44d93894-1775-4ef0-fdc5-dcd6dc164f49"
      },
      "execution_count": 3,
      "outputs": [
        {
          "output_type": "display_data",
          "data": {
            "text/plain": [
              "<Figure size 640x480 with 1 Axes>"
            ],
            "image/png": "[encoded data removed]"
          },
          "metadata": {}
        }
      ]
    },
    {
      "cell_type": "markdown",
      "source": [
        "**Q10. Write a Python program to calculate the two-sample t-test for independent samples, given two\n",
        "random samples of equal size and a null hypothesis that the population means are equal.**<br>\n",
        "ANS:"
      ],
      "metadata": {
        "id": "phmP2ufyFAtE"
      }
    },
    {
      "cell_type": "code",
      "source": [
        "import numpy as np\n",
        "from scipy.stats import t\n",
        "\n",
        "# Generate two random samples of equal size\n",
        "sample1 = np.random.normal(loc=5, scale=2, size=50)\n",
        "sample2 = np.random.normal(loc=7, scale=2, size=50)\n",
        "\n",
        "# Calculate the mean and standard deviation of the two samples\n",
        "mean1, mean2 = np.mean(sample1), np.mean(sample2)\n",
        "std1, std2 = np.std(sample1, ddof=1), np.std(sample2, ddof=1)\n",
        "\n",
        "# Calculate the standard error and degrees of freedom\n",
        "n1, n2 = len(sample1), len(sample2)\n",
        "se = np.sqrt((std1**2 / n1) + (std2**2 / n2))\n",
        "df = n1 + n2 - 2\n",
        "\n",
        "# Calculate the t-statistic and p-value\n",
        "t_stat = (mean1 - mean2) / se\n",
        "p_value = 2 * t.sf(np.abs(t_stat), df)\n",
        "\n",
        "# Print the results\n",
        "print(\"Sample 1 Mean: {:.2f}, Standard Deviation: {:.2f}\".format(mean1, std1))\n",
        "print(\"Sample 2 Mean: {:.2f}, Standard Deviation: {:.2f}\".format(mean2, std2))\n",
        "print(\"Degrees of Freedom: {}\".format(df))\n",
        "print(\"t-statistic: {:.2f}\".format(t_stat))\n",
        "print(\"p-value: {:.3f}\".format(p_value))\n"
      ],
      "metadata": {
        "colab": {
          "base_uri": "https://localhost:8080/"
        },
        "id": "wRgam3TyE9Jz",
        "outputId": "3a1262b5-1261-41e4-ff14-0e0aae7f8a95"
      },
      "execution_count": 5,
      "outputs": [
        {
          "output_type": "stream",
          "name": "stdout",
          "text": [
            "Sample 1 Mean: 4.91, Standard Deviation: 2.21\n",
            "Sample 2 Mean: 7.13, Standard Deviation: 1.82\n",
            "Degrees of Freedom: 98\n",
            "t-statistic: -5.47\n",
            "p-value: 0.000\n"
          ]
        }
      ]
    },
    {
      "cell_type": "markdown",
      "source": [
        "**Q11: What is Student’s t distribution? When to use the t-Distribution.**<br>\n",
        "ANS:<br>\n",
        "Student's t-distribution is a probability distribution that is used to estimate the population parameters when the sample size is small or the population variance is unknown. It is a continuous probability distribution that is similar to the standard normal distribution, but with heavier tails.\n",
        "\n",
        "The t-distribution is used when the sample size is small (n < 30) or when the population standard deviation is unknown. It is used to calculate the confidence intervals and hypothesis tests for the population mean. It is also used in situations where the population is normally distributed, but the sample size is small. The t-distribution is an important tool in statistical inference, particularly when working with small samples."
      ],
      "metadata": {
        "id": "8oAX4MdoFKN9"
      }
    },
    {
      "cell_type": "markdown",
      "source": [
        "**Q12: What is t-statistic? State the formula for t-statistic.**<br>\n",
        "ANS:<br>\n",
        "In statistics, t-statistic is a test statistic that is used to determine whether the means of two groups of data are significantly different from each other. The formula for t-statistic is:\n",
        "\n",
        "t = (x1 - x2) / [s^2 * (1/n1 + 1/n2)]^(1/2)\n",
        "\n",
        "where x1 and x2 are the means of the two groups, s^2 is the pooled variance of the two groups, n1 and n2 are the sample sizes of the two groups."
      ],
      "metadata": {
        "id": "FKDVfHUdFRXE"
      }
    },
    {
      "cell_type": "markdown",
      "source": [
        "**Q13. A coffee shop owner wants to estimate the average daily revenue for their shop. They take a random\n",
        "sample of 50 days and find the sample mean revenue to be 500 with a standard deviation of 50.\n",
        "Estimate the population mean revenue with a 95% confidence interval.**<br>\n",
        "ANS:<br>\n",
        "We have a sample size of n = 50, sample mean x̄ = 500, and sample standard deviation s = 50.\n",
        "\n",
        "To find the confidence interval, we first need to calculate the critical value of t for a 95% confidence level with (n-1) degrees of freedom. Using a t-table or a calculator, we find that t-critical = 2.009.\n",
        "\n",
        "Next, we calculate the standard error of the mean as:\n",
        "SE = s/√n = 50/√50 = $7.07\n",
        "\n",
        "Now we can calculate the confidence interval using the formula:\n",
        "CI = x̄ ± t-critical * SE\n",
        "\n",
        "Plugging in the values, we get:\n",
        "CI = 500 ± 2.009 * 7.07\n",
        "CI = [485.75, 514.25]\n",
        "\n",
        "Therefore, we can say with 95% confidence that the true population mean revenue of the coffee shop is between 485.75 and 514.25."
      ],
      "metadata": {
        "id": "pMOxgsCrFXwc"
      }
    },
    {
      "cell_type": "markdown",
      "source": [
        "**Q14. A researcher hypothesizes that a new drug will decrease blood pressure by 10 mmHg. They conduct a\n",
        "clinical trial with 100 patients and find that the sample mean decrease in blood pressure is 8 mmHg with a\n",
        "standard deviation of 3 mmHg. Test the hypothesis with a significance level of 0.05.**<br>\n",
        "ANS:<br>\n",
        "To test the hypothesis, we need to perform a one-sample t-test with the following:\n",
        "\n",
        "Null Hypothesis (H0): The new drug does not decrease blood pressure by 10 mmHg.\n",
        "Alternative Hypothesis (HA): The new drug decreases blood pressure by 10 mmHg.\n",
        "Significance Level (α): 0.05\n",
        "Let's calculate the t-statistic:\n",
        "\n",
        "t = (x̄ - μ) / (s / √n)\n",
        "\n",
        "where:\n",
        "x̄ = sample mean decrease in blood pressure = 8\n",
        "μ = hypothesized mean decrease in blood pressure = 10\n",
        "s = sample standard deviation = 3\n",
        "n = sample size = 100\n",
        "\n",
        "t = (8 - 10) / (3 / √100) = -6.67\n",
        "\n",
        "The degrees of freedom for the t-distribution is (n-1) = 99 at 0.05 significance level, which gives us a critical t-value of ±1.984.\n",
        "\n",
        "Since the calculated t-value (-6.67) is less than the critical t-value (-1.984), we reject the null hypothesis and conclude that the new drug decreases blood pressure by 10 mmHg with a significance level of 0.05."
      ],
      "metadata": {
        "id": "_dQRJaetFrN_"
      }
    },
    {
      "cell_type": "markdown",
      "source": [
        "**Q15. An electronics company produces a certain type of product with a mean weight of 5 pounds and a\n",
        "standard deviation of 0.5 pounds. A random sample of 25 products is taken, and the sample mean weight\n",
        "is found to be 4.8 pounds. Test the hypothesis that the true mean weight of the products is less than 5\n",
        "pounds with a significance level of 0.01.**<br>\n",
        "ANS:<br>\n",
        "To test the hypothesis that the true mean weight of the products is less than 5 pounds with a significance level of 0.01, we can use a one-tailed t-test.\n",
        "\n",
        "The null hypothesis is that the true mean weight of the products is 5 pounds, while the alternative hypothesis is that the true mean weight is less than 5 pounds.\n",
        "\n",
        "Let's calculate the t-statistic:\n",
        "\n",
        "t = (x̄ - μ) / (s / √n)\n",
        "where x̄ = sample mean, μ = population mean, s = sample standard deviation, and n = sample size.\n",
        "\n",
        "Plugging in the values, we get:\n",
        "\n",
        "t = (4.8 - 5) / (0.5 / √25) = -2\n",
        "\n",
        "The degrees of freedom for the t-distribution are n - 1 = 24.\n",
        "\n",
        "Using a t-table or a t-distribution calculator with 24 degrees of freedom, we find that the critical t-value for a one-tailed test with a significance level of 0.01 is -2.492.\n",
        "\n",
        "Since the calculated t-value (-2) is greater than the critical t-value (-2.492), we reject the null hypothesis and conclude that the true mean weight of the products is less than 5 pounds with 99% confidence."
      ],
      "metadata": {
        "id": "EzsEUMGNFzsA"
      }
    },
    {
      "cell_type": "markdown",
      "source": [
        "**Q16. Two groups of students are given different study materials to prepare for a test. The first group (n1 =\n",
        "30) has a mean score of 80 with a standard deviation of 10, and the second group (n2 = 40) has a mean\n",
        "score of 75 with a standard deviation of 8. Test the hypothesis that the population means for the two\n",
        "groups are equal with a significance level of 0.01.**<br>\n",
        "ANS:<br>\n",
        "To test the hypothesis that the population means for the two groups are equal, we can use a two-sample t-test for independent samples. The null hypothesis is that the population means are equal, and the alternative hypothesis is that they are not equal.\n",
        "\n",
        "Let's define:\n",
        "\n",
        "H0: μ1 = μ2 (the population means for the two groups are equal)\n",
        "\n",
        "Ha: μ1 ≠ μ2 (the population means for the two groups are not equal)\n",
        "\n",
        "The significance level is given as 0.01.\n",
        "\n",
        "We can calculate the test statistic t using the formula:\n",
        "\n",
        "t = (x̄1 - x̄2) / √[(s1^2 / n1) + (s2^2 / n2)]\n",
        "\n",
        "where x̄1 and x̄2 are the sample means, s1 and s2 are the sample standard deviations, and n1 and n2 are the sample sizes.\n",
        "\n",
        "Plugging in the values we have:\n",
        "\n",
        "t = (80 - 75) / √[(10^2 / 30) + (8^2 / 40)]\n",
        "t = 2.52\n",
        "\n",
        "Using a t-distribution table with degrees of freedom = n1 + n2 - 2 = 68 and a two-tailed test with α = 0.01, we find the critical values to be ±2.657.\n",
        "\n",
        "Since the calculated t-value (2.52) falls within the range of the critical values, we fail to reject the null hypothesis. Therefore, we can conclude that there is not enough evidence to suggest that the population means for the two groups are different at a significance level of 0.01."
      ],
      "metadata": {
        "id": "MMj-OjmcF898"
      }
    },
    {
      "cell_type": "markdown",
      "source": [
        "**Q17. A marketing company wants to estimate the average number of ads watched by viewers during a TV\n",
        "program. They take a random sample of 50 viewers and find that the sample mean is 4 with a standard\n",
        "deviation of 1.5. Estimate the population mean with a 99% confidence interval.**<br>\n",
        "ANS:<br>\n",
        "To estimate the population mean with a 99% confidence interval, we can use the following formula:\n",
        "\n",
        "Confidence Interval = sample mean ± margin of error\n",
        "\n",
        "where margin of error = z-score x (standard deviation / square root of sample size)\n",
        "\n",
        "We can find the z-score from the z-table for a 99% confidence level, which is 2.576.\n",
        "\n",
        "So, the confidence interval can be calculated as:\n",
        "\n",
        "Confidence Interval = 4 ± 2.576 x (1.5 / sqrt(50))\n",
        "= 4 ± 0.703\n",
        "= (3.297, 4.703)\n",
        "\n",
        "Therefore, we can say with 99% confidence that the population mean number of ads watched by viewers during a TV program is between 3.297 and 4.703."
      ],
      "metadata": {
        "id": "GqK379SbF85l"
      }
    }
  ]
}