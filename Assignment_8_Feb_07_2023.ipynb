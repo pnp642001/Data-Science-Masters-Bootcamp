{
  "nbformat": 4,
  "nbformat_minor": 0,
  "metadata": {
    "colab": {
      "provenance": [],
      "authorship_tag": "ABX9TyM+yxm6hk/om+U4+25lqodk",
      "include_colab_link": true
    },
    "kernelspec": {
      "name": "python3",
      "display_name": "Python 3"
    },
    "language_info": {
      "name": "python"
    }
  },
  "cells": [
    {
      "cell_type": "markdown",
      "metadata": {
        "id": "view-in-github",
        "colab_type": "text"
      },
      "source": [
        "<a href=\"https://colab.research.google.com/github/pnp642001/Data-Science-Masters-Bootcamp/blob/main/Assignment_8_Feb_07_2023.ipynb\" target=\"_parent\"><img src=\"https://colab.research.google.com/assets/colab-badge.svg\" alt=\"Open In Colab\"/></a>"
      ]
    },
    {
      "cell_type": "markdown",
      "source": [
        "Q1. You are writing code for a company. The requirement of the company is that you create a python\n",
        "function that will check whether the password entered by the user is correct or not. The function should\n",
        "take the password as input and return the string “Valid Password” if the entered password follows the\n",
        "below-given password guidelines else it should return “Invalid Password”.<br><br>\n",
        "\n",
        "Note: <br>\n",
        "1. The Password should contain at least two uppercase letters and at least two lowercase letters.<br>\n",
        "2. The Password should contain at least a number and three special characters.<br>\n",
        "3. The length of the password should be 10 characters long."
      ],
      "metadata": {
        "id": "TcA1pRMoD1ri"
      }
    },
    {
      "cell_type": "code",
      "execution_count": 4,
      "metadata": {
        "colab": {
          "base_uri": "https://localhost:8080/"
        },
        "id": "aEfknvEq8u_r",
        "outputId": "2e828030-2566-40f8-a375-7d602bfefee4"
      },
      "outputs": [
        {
          "output_type": "stream",
          "name": "stdout",
          "text": [
            "Valid Password\n"
          ]
        }
      ],
      "source": [
        "def password_check(str):\n",
        "  invalid_str=\"Invalid Password\"\n",
        "  valid_str=\"Valid Password\"\n",
        "  count_upper=0\n",
        "  count_lower=0\n",
        "  count_number=0\n",
        "  count_special=0\n",
        "  special_characters = '\"!@#$%^&*()-+?_=,<>/\"'\n",
        "  if len(str)!=10:\n",
        "    return invalid_str\n",
        "\n",
        "  else:\n",
        "    for ch in str:\n",
        "      if ch.isupper():\n",
        "        count_upper+=1\n",
        "      elif ch.islower():\n",
        "        count_lower+=1\n",
        "      elif ch.isnumeric():\n",
        "        count_number+=1\n",
        "      elif ch in special_characters:\n",
        "        count_special+=1\n",
        "    \n",
        "  if count_upper <2 and count_lower < 2 and count_number< 1 and count_special < 3:\n",
        "    return invalid_str\n",
        "  \n",
        "  return valid_str\n",
        "\n",
        "\n",
        "password=\"P@rt#2Pat$\"\n",
        "\n",
        "print(password_check(password))"
      ]
    },
    {
      "cell_type": "markdown",
      "source": [
        "Q2. Solve the below-given questions using at least one of the following:\n",
        "1. Lambda function\n",
        "2. Filter function\n",
        "3. Map function\n",
        "4. List Comprehension\n",
        "<br>\n",
        "* Check if the string starts with a particular letter\n",
        "* Check if the string is numeric\n",
        "* Sort a list of tuples having fruit names and their quantity. [(\"mango\",99),(\"orange\",80), (\"grapes\", 1000)]\n",
        "* Find the squares of numbers from 1 to 10\n",
        "* Find the cube root of numbers from 1 to 10\n",
        "* Check if a given number is even\n",
        "* Filter odd numbers from the given list.\n",
        "[1,2,3,4,5,6,7,8,9,10]\n",
        "* Sort a list of integers into positive and negative integers lists.\n",
        "[1,2,3,4,5,6,-1,-2,-3,-4,-5,0]"
      ],
      "metadata": {
        "id": "QLfvN209GefY"
      }
    },
    {
      "cell_type": "code",
      "source": [
        "particular_letter=\"a\"\n",
        "ans_1=map(lambda x: x==particular_letter, \"abcdef\")\n",
        "print(bool(ans_1))"
      ],
      "metadata": {
        "colab": {
          "base_uri": "https://localhost:8080/"
        },
        "id": "lzbCh9lgEW-M",
        "outputId": "ab647a00-0153-47cb-c163-c9b73183cccb"
      },
      "execution_count": 6,
      "outputs": [
        {
          "output_type": "stream",
          "name": "stdout",
          "text": [
            "True\n"
          ]
        }
      ]
    },
    {
      "cell_type": "code",
      "source": [
        "string_1=\"123455\"\n",
        "print(bool(map(lambda x: x.isnumeric(),string_1)))"
      ],
      "metadata": {
        "colab": {
          "base_uri": "https://localhost:8080/"
        },
        "id": "vIhtiig8Kat-",
        "outputId": "c8c61117-e315-412f-e7b2-087edb9586a9"
      },
      "execution_count": 8,
      "outputs": [
        {
          "output_type": "stream",
          "name": "stdout",
          "text": [
            "True\n"
          ]
        }
      ]
    },
    {
      "cell_type": "code",
      "source": [
        "list_3=[(\"mango\",99),(\"orange\",80), (\"grapes\", 1000)]\n",
        "\n",
        "list_3.sort(key= lambda x: x[1])\n",
        "print(list_3)"
      ],
      "metadata": {
        "colab": {
          "base_uri": "https://localhost:8080/"
        },
        "id": "FD0IaaZ9KnaY",
        "outputId": "d43d9a12-e100-408d-e7b1-ae786fe2de98"
      },
      "execution_count": 9,
      "outputs": [
        {
          "output_type": "stream",
          "name": "stdout",
          "text": [
            "[('orange', 80), ('mango', 99), ('grapes', 1000)]\n"
          ]
        }
      ]
    },
    {
      "cell_type": "code",
      "source": [
        "list_4=[ele**2 for ele in range(1,11)]\n",
        "print(list_4)"
      ],
      "metadata": {
        "colab": {
          "base_uri": "https://localhost:8080/"
        },
        "id": "yRglNE_ULgG_",
        "outputId": "03acbedd-0429-488d-99bb-6129eb3e348c"
      },
      "execution_count": 10,
      "outputs": [
        {
          "output_type": "stream",
          "name": "stdout",
          "text": [
            "[1, 4, 9, 16, 25, 36, 49, 64, 81, 100]\n"
          ]
        }
      ]
    },
    {
      "cell_type": "code",
      "source": [
        "list_5=[ele**3 for ele in range(1,11)]\n",
        "print(list_5)"
      ],
      "metadata": {
        "colab": {
          "base_uri": "https://localhost:8080/"
        },
        "id": "EY7AUSbaLxBa",
        "outputId": "236066d0-3d4e-4a16-d62c-24220ef104f0"
      },
      "execution_count": 11,
      "outputs": [
        {
          "output_type": "stream",
          "name": "stdout",
          "text": [
            "[1, 8, 27, 64, 125, 216, 343, 512, 729, 1000]\n"
          ]
        }
      ]
    },
    {
      "cell_type": "code",
      "source": [
        "list_6=[ele for ele in range(11)]\n",
        "\n",
        "print(list(filter(lambda x: x%2==0,list_6)))"
      ],
      "metadata": {
        "colab": {
          "base_uri": "https://localhost:8080/"
        },
        "id": "uUt1U2XEL5Uz",
        "outputId": "aa60647e-ad8b-438d-d307-8acb8868c0d6"
      },
      "execution_count": 15,
      "outputs": [
        {
          "output_type": "stream",
          "name": "stdout",
          "text": [
            "[0, 2, 4, 6, 8, 10]\n"
          ]
        }
      ]
    },
    {
      "cell_type": "code",
      "source": [
        "list_7=[1,2,3,4,5,6,7,8,9,10]\n",
        "\n",
        "print(list(filter(lambda x:x%2!=0,list_7)))"
      ],
      "metadata": {
        "colab": {
          "base_uri": "https://localhost:8080/"
        },
        "id": "_Ap-9wvSMCKf",
        "outputId": "650f42a7-6431-450d-f7cd-b818ed1b512b"
      },
      "execution_count": 16,
      "outputs": [
        {
          "output_type": "stream",
          "name": "stdout",
          "text": [
            "[1, 3, 5, 7, 9]\n"
          ]
        }
      ]
    },
    {
      "cell_type": "code",
      "source": [
        "list_8=[1,2,3,4,5,6,-1,-2,-3,-4,-5,0]\n",
        "\n",
        "list_positive=list(filter(lambda x:x>=0,list_8))\n",
        "list_negative=list(filter(lambda x:x<0,list_8))\n",
        "\n",
        "list_positive.sort()\n",
        "list_negative.sort()\n",
        "\n",
        "print(list_positive)\n",
        "print(list_negative)"
      ],
      "metadata": {
        "colab": {
          "base_uri": "https://localhost:8080/"
        },
        "id": "eQ5CCbb-NRZ7",
        "outputId": "138396f4-04b2-4f68-cb8d-54537a8ab1fe"
      },
      "execution_count": 18,
      "outputs": [
        {
          "output_type": "stream",
          "name": "stdout",
          "text": [
            "[0, 1, 2, 3, 4, 5, 6]\n",
            "[-5, -4, -3, -2, -1]\n"
          ]
        }
      ]
    },
    {
      "cell_type": "code",
      "source": [],
      "metadata": {
        "id": "nHQ1X6SZNp-g"
      },
      "execution_count": null,
      "outputs": []
    }
  ]
}