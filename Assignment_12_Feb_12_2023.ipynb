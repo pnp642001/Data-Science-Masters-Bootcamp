{
  "nbformat": 4,
  "nbformat_minor": 0,
  "metadata": {
    "colab": {
      "provenance": [],
      "authorship_tag": "ABX9TyNXQkqQiIEwK6TUAV42UqRT",
      "include_colab_link": true
    },
    "kernelspec": {
      "name": "python3",
      "display_name": "Python 3"
    },
    "language_info": {
      "name": "python"
    }
  },
  "cells": [
    {
      "cell_type": "markdown",
      "metadata": {
        "id": "view-in-github",
        "colab_type": "text"
      },
      "source": [
        "<a href=\"https://colab.research.google.com/github/pnp642001/Data-Science-Masters-Bootcamp/blob/main/Assignment_12_Feb_12_2023.ipynb\" target=\"_parent\"><img src=\"https://colab.research.google.com/assets/colab-badge.svg\" alt=\"Open In Colab\"/></a>"
      ]
    },
    {
      "cell_type": "markdown",
      "source": [
        "Q:1 What is exception in python? Write difference between exception and syntax error.<br>\n",
        "ANS:<br>\n",
        "* In Python, an exception is an error that occurs during the execution of a program. When an exception occurs, the normal flow of the program is interrupted, and the interpreter will raise an exception object.\n",
        "\n",
        "* Exceptions can occur for many reasons, such as attempting to perform an operation that is not allowed, attempting to access a resource that is not available, or trying to access an index that is out of range.\n",
        "\n",
        "* On the other hand, a syntax error is a type of error that occurs when the interpreter is unable to parse the code due to an error in the syntax. \n",
        "\n",
        "* Syntax errors occur when the programmer violates the rules of the programming language, such as using an incorrect keyword, omitting a parenthesis, or misspelling a variable name.\n",
        "\n",
        "* A syntax error occurs during the parsing of the code, while an exception occurs during the execution of the code. \n",
        "\n",
        "* A syntax error is usually caused by a mistake in the code itself, whereas an exception can be caused by a variety of reasons, such as unexpected user input, network problems, or hardware failures.\n",
        "\n",
        "* A syntax error is a type of error that is detected by the interpreter during the parsing of the code, while an exception is an error that occurs during the execution of the code.\n",
        "\n",
        "\n",
        "\n",
        "\n"
      ],
      "metadata": {
        "id": "dejYyhDcNO_u"
      }
    },
    {
      "cell_type": "markdown",
      "source": [
        "Q:2 What happens when an exception is not handled? Explain with an example.\n",
        "<br>\n",
        "ANS:<br>\n",
        "* When an exception is not handled in Python, the program will terminate and an error message will be displayed. \n",
        "\n",
        "* This can cause the program to crash and leave the user with little or no information about what went wrong. \n",
        "\n",
        "* It is important to handle exceptions in your Python code to ensure that your program can gracefully recover from errors and continue to function as expected."
      ],
      "metadata": {
        "id": "jp5LdS2uOGwo"
      }
    },
    {
      "cell_type": "code",
      "execution_count": 2,
      "metadata": {
        "colab": {
          "base_uri": "https://localhost:8080/",
          "height": 218
        },
        "id": "DGLQd4uAJqXI",
        "outputId": "33a33781-9ce1-4bfe-86ad-a55741764672"
      },
      "outputs": [
        {
          "output_type": "error",
          "ename": "ZeroDivisionError",
          "evalue": "ignored",
          "traceback": [
            "\u001b[0;31m---------------------------------------------------------------------------\u001b[0m",
            "\u001b[0;31mZeroDivisionError\u001b[0m                         Traceback (most recent call last)",
            "\u001b[0;32m<ipython-input-2-6fafea407d6e>\u001b[0m in \u001b[0;36m<module>\u001b[0;34m\u001b[0m\n\u001b[1;32m      2\u001b[0m \u001b[0ma\u001b[0m \u001b[0;34m=\u001b[0m \u001b[0;36m10\u001b[0m\u001b[0;34m\u001b[0m\u001b[0;34m\u001b[0m\u001b[0m\n\u001b[1;32m      3\u001b[0m \u001b[0mb\u001b[0m \u001b[0;34m=\u001b[0m \u001b[0;36m0\u001b[0m\u001b[0;34m\u001b[0m\u001b[0;34m\u001b[0m\u001b[0m\n\u001b[0;32m----> 4\u001b[0;31m \u001b[0mresult\u001b[0m \u001b[0;34m=\u001b[0m \u001b[0ma\u001b[0m \u001b[0;34m/\u001b[0m \u001b[0mb\u001b[0m\u001b[0;34m\u001b[0m\u001b[0;34m\u001b[0m\u001b[0m\n\u001b[0m\u001b[1;32m      5\u001b[0m \u001b[0mprint\u001b[0m\u001b[0;34m(\u001b[0m\u001b[0mresult\u001b[0m\u001b[0;34m)\u001b[0m\u001b[0;34m\u001b[0m\u001b[0;34m\u001b[0m\u001b[0m\n",
            "\u001b[0;31mZeroDivisionError\u001b[0m: division by zero"
          ]
        }
      ],
      "source": [
        "# Divide by zero error - not handling the exception\n",
        "a = 10\n",
        "b = 0\n",
        "result = a / b\n",
        "print(result)\n"
      ]
    },
    {
      "cell_type": "markdown",
      "source": [
        "Q:3 Which python statements are used to catch and handle exceptions? Explain with an example.<br>\n",
        "ANS: <br>\n",
        "*  the try statement is used to catch and handle exceptions\n",
        "* the code to handle the exception is enclosed in the except block\n"
      ],
      "metadata": {
        "id": "jtqrbJSjOgLB"
      }
    },
    {
      "cell_type": "code",
      "source": [
        "try:\n",
        "    x = int(input(\"Enter a number: \"))\n",
        "    y = 10 / x\n",
        "    print(\"The result is:\", y)\n",
        "except ValueError:\n",
        "    print(\"Invalid input. Please enter a number.\")\n",
        "except ZeroDivisionError:\n",
        "    print(\"Cannot divide by zero.\")\n"
      ],
      "metadata": {
        "colab": {
          "base_uri": "https://localhost:8080/"
        },
        "id": "njr4pBnbJ2Es",
        "outputId": "39b767f6-74ec-41a1-df04-aaf18b303ef9"
      },
      "execution_count": 3,
      "outputs": [
        {
          "output_type": "stream",
          "name": "stdout",
          "text": [
            "Enter a number: 0\n",
            "Cannot divide by zero.\n"
          ]
        }
      ]
    },
    {
      "cell_type": "markdown",
      "source": [
        "Q:4 Explain with an example: <br>\n",
        "* try and else\n",
        "* finally\n",
        "* raise\n"
      ],
      "metadata": {
        "id": "VYKu_wEGPpem"
      }
    },
    {
      "cell_type": "code",
      "source": [
        "try: \n",
        "  x=int(input(\"Enter the number: \"))\n",
        "  y=int(input(\"Enter the number: \"))\n",
        "\n",
        "  if y==0:\n",
        "    raise ZeroDivisionError(\"The denominator cannot be zero\")\n",
        "  result= x//y\n",
        "\n",
        "except ValueError:\n",
        "  print(\"Please enter valid number\")\n",
        "\n",
        "else:\n",
        "  print(\"The result is : \",result)\n",
        "\n",
        "finally:\n",
        "  print(\"The program has ended\")"
      ],
      "metadata": {
        "colab": {
          "base_uri": "https://localhost:8080/",
          "height": 287
        },
        "id": "QhtS1gBcO98B",
        "outputId": "475d6b7b-08f8-42b4-b930-06144e4f5885"
      },
      "execution_count": 4,
      "outputs": [
        {
          "output_type": "stream",
          "name": "stdout",
          "text": [
            "Enter the number: 10\n",
            "Enter the number: 0\n",
            "The program has ended\n"
          ]
        },
        {
          "output_type": "error",
          "ename": "ZeroDivisionError",
          "evalue": "ignored",
          "traceback": [
            "\u001b[0;31m---------------------------------------------------------------------------\u001b[0m",
            "\u001b[0;31mZeroDivisionError\u001b[0m                         Traceback (most recent call last)",
            "\u001b[0;32m<ipython-input-4-5145d2a8f3e6>\u001b[0m in \u001b[0;36m<module>\u001b[0;34m\u001b[0m\n\u001b[1;32m      4\u001b[0m \u001b[0;34m\u001b[0m\u001b[0m\n\u001b[1;32m      5\u001b[0m   \u001b[0;32mif\u001b[0m \u001b[0my\u001b[0m\u001b[0;34m==\u001b[0m\u001b[0;36m0\u001b[0m\u001b[0;34m:\u001b[0m\u001b[0;34m\u001b[0m\u001b[0;34m\u001b[0m\u001b[0m\n\u001b[0;32m----> 6\u001b[0;31m     \u001b[0;32mraise\u001b[0m \u001b[0mZeroDivisionError\u001b[0m\u001b[0;34m(\u001b[0m\u001b[0;34m\"The denominator cannot be zero\"\u001b[0m\u001b[0;34m)\u001b[0m\u001b[0;34m\u001b[0m\u001b[0;34m\u001b[0m\u001b[0m\n\u001b[0m\u001b[1;32m      7\u001b[0m   \u001b[0mresult\u001b[0m\u001b[0;34m=\u001b[0m \u001b[0mx\u001b[0m\u001b[0;34m//\u001b[0m\u001b[0my\u001b[0m\u001b[0;34m\u001b[0m\u001b[0;34m\u001b[0m\u001b[0m\n\u001b[1;32m      8\u001b[0m \u001b[0;34m\u001b[0m\u001b[0m\n",
            "\u001b[0;31mZeroDivisionError\u001b[0m: The denominator cannot be zero"
          ]
        }
      ]
    },
    {
      "cell_type": "code",
      "source": [
        "try: \n",
        "  x=int(input(\"Enter the number: \"))\n",
        "  y=int(input(\"Enter the number: \"))\n",
        "\n",
        "  if y==0:\n",
        "    raise ZeroDivisionError(\"The denominator cannot be zero\")\n",
        "  result= x//y\n",
        "\n",
        "except ValueError:\n",
        "  print(\"Please enter valid number\")\n",
        "\n",
        "else:\n",
        "  print(\"The result is : \",result)\n",
        "\n",
        "finally:\n",
        "  print(\"The program has ended\")"
      ],
      "metadata": {
        "colab": {
          "base_uri": "https://localhost:8080/"
        },
        "id": "mVoQFC7OQ7wj",
        "outputId": "c1b910ac-8288-408e-9b59-ab181f1883e6"
      },
      "execution_count": 5,
      "outputs": [
        {
          "output_type": "stream",
          "name": "stdout",
          "text": [
            "Enter the number: 10\n",
            "Enter the number: PA\n",
            "Please enter valid number\n",
            "The program has ended\n"
          ]
        }
      ]
    },
    {
      "cell_type": "markdown",
      "source": [
        "Q:5 What are custom exceptions? Why do we need custom exceptions? Explain with an example<br>\n",
        "ANS: <br>\n",
        "* In Python, custom exceptions are user-defined exceptions that are created by the programmer to represent specific error conditions that are not covered by the built-in exceptions. \n",
        "* These exceptions can be raised using the raise statement when a particular condition is met.\n",
        "* We need custom exceptions when we want to handle specific types of errors in our code. By creating custom exceptions, we can provide more meaningful error messages to the user and make it easier to debug our code. \n",
        "* For example, if we are working with a database application, we might create a custom exception to handle database connection errors."
      ],
      "metadata": {
        "id": "qslW-RaLRFaN"
      }
    },
    {
      "cell_type": "code",
      "source": [
        "class ConnectionError(Exception):\n",
        "    def __init__(self, message=\"Unable to connect\"):\n",
        "        self.message = message\n",
        "        super().__init__(self.message)\n",
        "\n",
        "if True:\n",
        "  raise ConnectionError"
      ],
      "metadata": {
        "colab": {
          "base_uri": "https://localhost:8080/",
          "height": 201
        },
        "id": "38eRB_BYRAv8",
        "outputId": "4d85a76c-5abb-4687-d8a0-512ad12d05f1"
      },
      "execution_count": 8,
      "outputs": [
        {
          "output_type": "error",
          "ename": "ConnectionError",
          "evalue": "ignored",
          "traceback": [
            "\u001b[0;31m---------------------------------------------------------------------------\u001b[0m",
            "\u001b[0;31mConnectionError\u001b[0m                           Traceback (most recent call last)",
            "\u001b[0;32m<ipython-input-8-f296288b2016>\u001b[0m in \u001b[0;36m<module>\u001b[0;34m\u001b[0m\n\u001b[1;32m      5\u001b[0m \u001b[0;34m\u001b[0m\u001b[0m\n\u001b[1;32m      6\u001b[0m \u001b[0;32mif\u001b[0m \u001b[0;32mTrue\u001b[0m\u001b[0;34m:\u001b[0m\u001b[0;34m\u001b[0m\u001b[0;34m\u001b[0m\u001b[0m\n\u001b[0;32m----> 7\u001b[0;31m   \u001b[0;32mraise\u001b[0m \u001b[0mConnectionError\u001b[0m\u001b[0;34m\u001b[0m\u001b[0;34m\u001b[0m\u001b[0m\n\u001b[0m",
            "\u001b[0;31mConnectionError\u001b[0m: Unable to connect"
          ]
        }
      ]
    },
    {
      "cell_type": "markdown",
      "source": [
        "Q:6 Create a custom exception class. Use this class to handle an exception"
      ],
      "metadata": {
        "id": "lbEfUZNUShDy"
      }
    },
    {
      "cell_type": "code",
      "source": [
        "class NegativeNumberError(Exception):\n",
        "    def __init__(self, message=\"Number cannot be negative.\"):\n",
        "        self.message = message\n",
        "        super().__init__(self.message)\n",
        "\n",
        "def calculate_square_root(n):\n",
        "    if n < 0:\n",
        "        raise NegativeNumberError\n",
        "    return n**0.5\n",
        "\n",
        "try:\n",
        "    result = calculate_square_root(-10)\n",
        "except NegativeNumberError as e:\n",
        "    print(e)"
      ],
      "metadata": {
        "colab": {
          "base_uri": "https://localhost:8080/"
        },
        "id": "yOY6N-q2ROJ9",
        "outputId": "cc315627-5c46-4a9f-f020-29d02f3abc9a"
      },
      "execution_count": 9,
      "outputs": [
        {
          "output_type": "stream",
          "name": "stdout",
          "text": [
            "Number cannot be negative.\n"
          ]
        }
      ]
    },
    {
      "cell_type": "code",
      "source": [],
      "metadata": {
        "id": "eWUgyfxfS3rn"
      },
      "execution_count": null,
      "outputs": []
    }
  ]
}