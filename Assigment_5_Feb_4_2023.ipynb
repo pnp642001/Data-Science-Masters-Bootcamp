{
  "nbformat": 4,
  "nbformat_minor": 0,
  "metadata": {
    "colab": {
      "provenance": [],
      "authorship_tag": "ABX9TyPOPZzbeMGLC5z4iF7AGzTj",
      "include_colab_link": true
    },
    "kernelspec": {
      "name": "python3",
      "display_name": "Python 3"
    },
    "language_info": {
      "name": "python"
    }
  },
  "cells": [
    {
      "cell_type": "markdown",
      "metadata": {
        "id": "view-in-github",
        "colab_type": "text"
      },
      "source": [
        "<a href=\"https://colab.research.google.com/github/pnp642001/Data-Science-Masters-Bootcamp/blob/main/Assigment_5_Feb_4_2023.ipynb\" target=\"_parent\"><img src=\"https://colab.research.google.com/assets/colab-badge.svg\" alt=\"Open In Colab\"/></a>"
      ]
    },
    {
      "cell_type": "markdown",
      "source": [
        "Q:1 Create a python program to sort the given list of tuples based on integer value using a\n",
        "lambda function."
      ],
      "metadata": {
        "id": "z5EBE1u-IY_4"
      }
    },
    {
      "cell_type": "code",
      "execution_count": 1,
      "metadata": {
        "colab": {
          "base_uri": "https://localhost:8080/"
        },
        "id": "YlaXy1kTGp5K",
        "outputId": "8b3d8d8f-aadf-416d-8f7b-30a5b09f997f"
      },
      "outputs": [
        {
          "output_type": "stream",
          "name": "stdout",
          "text": [
            "[('Virat Kohli', 24936), ('Jack Kallis', 25534), ('Ricky Ponting', 27483), ('Sachin Tendulkar', 34357)]\n"
          ]
        }
      ],
      "source": [
        "list_1=[('Sachin Tendulkar', 34357), ('Ricky Ponting', 27483), ('Jack Kallis', 25534), ('Virat Kohli', 24936)]\n",
        "\n",
        "list_1.sort(key=lambda x:x[1])\n",
        "\n",
        "print(list_1)"
      ]
    },
    {
      "cell_type": "markdown",
      "source": [
        "Q2. Write a Python Program to find the squares of all the numbers in the given list of integers using\n",
        "lambda and map functions.<br>\n",
        "[1, 2, 3, 4, 5, 6, 7, 8, 9, 10]"
      ],
      "metadata": {
        "id": "Psz5_hf6KLvG"
      }
    },
    {
      "cell_type": "code",
      "source": [
        "list_2=[1, 2, 3, 4, 5, 6, 7, 8, 9, 10]\n",
        "\n",
        "print(list(map(lambda x: x**2,list_2)))"
      ],
      "metadata": {
        "colab": {
          "base_uri": "https://localhost:8080/"
        },
        "id": "xbr4xE9FJ_hU",
        "outputId": "051634aa-212f-4115-fe9a-d122895c35b2"
      },
      "execution_count": 3,
      "outputs": [
        {
          "output_type": "stream",
          "name": "stdout",
          "text": [
            "[1, 4, 9, 16, 25, 36, 49, 64, 81, 100]\n"
          ]
        }
      ]
    },
    {
      "cell_type": "markdown",
      "source": [
        "Q3. Write a python program to convert the given list of integers into a tuple of strings. Use map and\n",
        "lambda functions <br>\n",
        "Given String: [1, 2, 3, 4, 5, 6, 7, 8, 9, 10]"
      ],
      "metadata": {
        "id": "dOE5_vAGKpT1"
      }
    },
    {
      "cell_type": "code",
      "source": [
        "list_3=[1, 2, 3, 4, 5, 6, 7, 8, 9, 10]\n",
        "\n",
        "print(tuple(map(lambda x: str(x),list_3)))"
      ],
      "metadata": {
        "colab": {
          "base_uri": "https://localhost:8080/"
        },
        "id": "KCatx1BeKXG4",
        "outputId": "3c1c2630-8402-4d0c-d22e-f04b296a0439"
      },
      "execution_count": 4,
      "outputs": [
        {
          "output_type": "stream",
          "name": "stdout",
          "text": [
            "('1', '2', '3', '4', '5', '6', '7', '8', '9', '10')\n"
          ]
        }
      ]
    },
    {
      "cell_type": "markdown",
      "source": [
        "Q4. Write a python program using reduce function to compute the product of a list containing numbers\n",
        "from 1 to 25."
      ],
      "metadata": {
        "id": "5BqQq2RpLzWL"
      }
    },
    {
      "cell_type": "code",
      "source": [
        "from functools import reduce\n",
        "list_4=[ele for ele in range(1,26)]\n",
        "reduce(lambda x,y:x*y,list_4)"
      ],
      "metadata": {
        "colab": {
          "base_uri": "https://localhost:8080/"
        },
        "id": "5AFghpkELPek",
        "outputId": "6dee393f-db2f-48bf-bd43-9ee897917a34"
      },
      "execution_count": 9,
      "outputs": [
        {
          "output_type": "execute_result",
          "data": {
            "text/plain": [
              "15511210043330985984000000"
            ]
          },
          "metadata": {},
          "execution_count": 9
        }
      ]
    },
    {
      "cell_type": "markdown",
      "source": [
        "Q5. Write a python program to filter the numbers in a given list that are divisible by 2 and 3 using the\n",
        "filter function.<br>\n",
        "[2, 3, 6, 9, 27, 60, 90, 120, 55, 46]"
      ],
      "metadata": {
        "id": "Q46nK1MbNELj"
      }
    },
    {
      "cell_type": "code",
      "source": [
        "list_5=[2, 3, 6, 9, 27, 60, 90, 120, 55, 46]\n",
        "\n",
        "list(filter(lambda x: x%2==0 and x%3==0,list_5))"
      ],
      "metadata": {
        "colab": {
          "base_uri": "https://localhost:8080/"
        },
        "id": "f2yYwx9zL3ls",
        "outputId": "66babb30-89ba-44c5-dc99-00938513001d"
      },
      "execution_count": 10,
      "outputs": [
        {
          "output_type": "execute_result",
          "data": {
            "text/plain": [
              "[6, 60, 90, 120]"
            ]
          },
          "metadata": {},
          "execution_count": 10
        }
      ]
    },
    {
      "cell_type": "markdown",
      "source": [
        "Q6. Write a python program to find palindromes in the given list of strings using lambda and filter\n",
        "function.<br>\n",
        "['python', 'php', 'aba', 'radar', 'level']"
      ],
      "metadata": {
        "id": "pWXJzQ0lNXOp"
      }
    },
    {
      "cell_type": "code",
      "source": [
        "list_6=['python', 'php', 'aba', 'radar', 'level']\n",
        "\n",
        "list(filter(lambda x: x==x[::-1],list_6))"
      ],
      "metadata": {
        "colab": {
          "base_uri": "https://localhost:8080/"
        },
        "id": "Nia7oUzFNSIT",
        "outputId": "1579767a-c4e8-43ca-fdd9-966e5fe6c1c7"
      },
      "execution_count": 11,
      "outputs": [
        {
          "output_type": "execute_result",
          "data": {
            "text/plain": [
              "['php', 'aba', 'radar', 'level']"
            ]
          },
          "metadata": {},
          "execution_count": 11
        }
      ]
    }
  ]
}