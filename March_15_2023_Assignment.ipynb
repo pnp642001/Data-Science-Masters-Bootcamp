{
  "nbformat": 4,
  "nbformat_minor": 0,
  "metadata": {
    "colab": {
      "provenance": [],
      "authorship_tag": "ABX9TyMq/Nqvszz9Qd06U2QgbxAP",
      "include_colab_link": true
    },
    "kernelspec": {
      "name": "python3",
      "display_name": "Python 3"
    },
    "language_info": {
      "name": "python"
    }
  },
  "cells": [
    {
      "cell_type": "markdown",
      "metadata": {
        "id": "view-in-github",
        "colab_type": "text"
      },
      "source": [
        "<a href=\"https://colab.research.google.com/github/pnp642001/Data-Science-Masters-Bootcamp/blob/main/March_15_2023_Assignment.ipynb\" target=\"_parent\"><img src=\"https://colab.research.google.com/assets/colab-badge.svg\" alt=\"Open In Colab\"/></a>"
      ]
    },
    {
      "cell_type": "markdown",
      "source": [
        "**Q-1 Explain the following with an example:**\n",
        "\n",
        "**a) Artificial Intelligence b) Machine Learning c) Deep Learning** \n",
        "\n",
        "ANS:\n",
        "\n",
        "a) Artificial Intelligence (AI) is the field of computer science that aims to create machines or software that can perform tasks that usually require human-level intelligence, such as visual perception, speech recognition, decision making, and language translation. AI can be divided into two categories: narrow or weak AI, which is designed to perform specific tasks, and general or strong AI, which is designed to perform any intellectual task that a human can do.\n",
        "\n",
        "Example: An AI-powered virtual assistant like Siri or Alexa that can understand natural language commands and respond with appropriate actions.\n",
        "\n",
        "b) Machine Learning (ML) is a subset of AI that involves the development of algorithms and statistical models that enable computers to learn from data and improve their performance on a task over time without being explicitly programmed. Machine learning can be supervised, unsupervised, or semi-supervised.\n",
        "\n",
        "Example: A spam filter that learns to distinguish between spam and legitimate emails based on examples of both types of messages.\n",
        "\n",
        "c) Deep Learning (DL) is a subset of machine learning that involves the use of artificial neural networks with many layers to learn from large amounts of data. Deep learning has enabled significant breakthroughs in areas such as computer vision, natural language processing, and speech recognition.\n",
        "\n",
        "Example: A deep learning model that can accurately recognize objects in images, such as a self-driving car that uses deep learning to detect and avoid obstacles on the road."
      ],
      "metadata": {
        "id": "mGvcifMXXKs1"
      }
    },
    {
      "cell_type": "markdown",
      "source": [
        "**Q2- What is supervised Learning? List some examples.**<br>\n",
        "ANS:<br>\n",
        "Supervised learning is a type of machine learning where the algorithm learns from labeled data that has been already categorized. The algorithm is trained using a set of input/output pairs, where the inputs are the features or attributes, and the outputs are the labels or target variables. The goal of supervised learning is to predict the output for new, unseen input values accurately.\n",
        "\n",
        "Examples of supervised learning include:\n",
        "\n",
        "Classification: predicting whether an email is spam or not based on its content or classifying images of animals into different categories (e.g., cat, dog, bird, etc.).\n",
        "\n",
        "Regression: predicting house prices based on features such as location, size, and number of rooms or predicting the age of a person based on their height, weight, and other attributes.\n",
        "\n",
        "1.   List item\n",
        "2.   List item\n",
        "\n"
      ],
      "metadata": {
        "id": "2jUZDzRJX8Px"
      }
    },
    {
      "cell_type": "markdown",
      "source": [
        "**Q3- What is unsupervised Learning? List some examples.**<br>\n",
        "ANS:<br>\n",
        "Unsupervised learning is a type of machine learning where the model is trained on a dataset without any labeled outcomes. The objective is to identify patterns, structures, and relationships in the data.\n",
        "\n",
        "Examples of unsupervised learning include:\n",
        "\n",
        "Clustering: Grouping similar data points together based on their features or characteristics.\n",
        "\n",
        "Customer segmentation is a very common example"
      ],
      "metadata": {
        "id": "KUS-hmX3YRQa"
      }
    },
    {
      "cell_type": "markdown",
      "source": [
        "**Q4 - What is difference between AI, ML , DL and DS?**<br>\n",
        "ANS:<br>\n",
        "AI (Artificial Intelligence) is a broad field of computer science that focuses on creating intelligent machines that can perform tasks that typically require human-like intelligence, such as speech recognition, natural language processing, and decision-making.\n",
        "\n",
        "ML (Machine Learning) is a subset of AI that involves training machines to learn from data, without being explicitly programmed to do so. This involves developing algorithms and statistical models that can automatically recognize patterns in data, make predictions or decisions, and improve their performance over time with additional data.\n",
        "\n",
        "DL (Deep Learning) is a subset of ML that involves training deep neural networks, which are artificial neural networks with multiple layers that can learn complex representations of data. DL has revolutionized fields such as computer vision and natural language processing by enabling machines to learn directly from raw data, without the need for manual feature engineering.\n",
        "\n",
        "DS (Data Science) is an interdisciplinary field that involves extracting insights and knowledge from data using a combination of statistical analysis, machine learning, and domain expertise. Data science involves all aspects of the data lifecycle, including data collection, cleaning, preprocessing, visualization, modeling, and interpretation.\n",
        "\n",
        "In summary, AI is a broad field of computer science focused on creating intelligent machines, ML is a subset of AI focused on training machines to learn from data, DL is a subset of ML focused on training deep neural networks, and DS is an interdisciplinary field focused on extracting insights and knowledge from data using various techniques, including ML."
      ],
      "metadata": {
        "id": "aRJQV1o7YmDx"
      }
    },
    {
      "cell_type": "markdown",
      "source": [
        "**Q5 - What is difference between Supervised, Unsupervised and semi-supervised learning?**<br>\n",
        "ANS:<br>\n",
        "The main differences between supervised, unsupervised, and semi-supervised learning are:\n",
        "\n",
        "1. Supervised Learning: It involves training a model using labeled data, where the desired output is already known. The model learns to map the inputs to the correct outputs by minimizing the error between the predicted output and the actual output. The goal of supervised learning is to create a model that can accurately predict the output for new, unseen inputs.\n",
        "Examples:\n",
        "\n",
        "* Image classification (where images are labeled with their respective classes)\n",
        "* Spam detection (where emails are labeled as spam or not spam)\n",
        "* Sentiment analysis (where text is labeled with positive, negative, or neutral sentiment)\n",
        "\n",
        "\n",
        "2. Unsupervised Learning: It involves training a model using unlabeled data, where the desired output is unknown. The model learns to find patterns and structure in the data by grouping similar data points together. The goal of unsupervised learning is to discover hidden patterns and structure in the data.\n",
        "Examples:\n",
        "\n",
        "* Clustering (where data is grouped into clusters based on their similarities)\n",
        "* Anomaly detection (where data points that do not fit the normal pattern are identified)\n",
        "* Dimensionality reduction (where the number of features in the data is reduced while preserving its structure)\n",
        "\n",
        "\n",
        "3. Semi-Supervised Learning: It is a combination of supervised and unsupervised learning. It involves training a model using a combination of labeled and unlabeled data. The model learns to make predictions based on both the labeled and unlabeled data. The goal of semi-supervised learning is to improve the accuracy of the model by using the unlabeled data to learn more about the underlying structure of the data.\n",
        "Examples:\n",
        "\n",
        "* Speech recognition (where a small amount of labeled speech data is combined with a large amount of unlabeled speech data to train the model)\n",
        "* Image segmentation (where a small amount of labeled images is combined with a large amount of unlabeled images to train the model)\n",
        "\n",
        "\n",
        "\n"
      ],
      "metadata": {
        "id": "NmFvasmwZCl6"
      }
    },
    {
      "cell_type": "markdown",
      "source": [
        "**Q6 - What is train, test and validation split? Explain importance of each term**<br>\n",
        "ANS:<br>\n",
        "\n",
        "In machine learning, the process of splitting a dataset into separate training, testing, and validation sets is known as train-test-validation split.\n",
        "\n",
        "* Training Set: \n",
        "\n",
        "It is a subset of the dataset used to train the machine learning model. The model learns the underlying patterns and relationships in the data from the training set. The model is adjusted during the training phase based on the input data and the expected output.\n",
        "\n",
        "\n",
        "* Testing Set: \n",
        "\n",
        "It is a subset of the dataset that is not used in the training phase. The purpose of the testing set is to evaluate the performance of the trained model. The model makes predictions on the testing set, and the results are compared to the actual values. This helps to estimate the accuracy and generalization of the model.\n",
        "\n",
        "* Validation Set: \n",
        "\n",
        "It is a subset of the dataset that is used to tune the hyperparameters of the model. Hyperparameters are the parameters that are not learned during the training process, but instead set before training. By tweaking these parameters, the model can be optimized for better performance on unseen data. The validation set is used to evaluate different models and hyperparameters to choose the best performing one.\n",
        "\n",
        "\n",
        "The importance of each term is as follows:\n",
        "\n",
        "\n",
        "* Training set: It is important to have a large and representative training set that captures the variation and complexity of the real-world problem. A well-designed training set ensures that the model can learn the patterns and relationships in the data, and generalize well to new, unseen data.\n",
        "\n",
        "* Testing set: It is important to have a separate testing set to evaluate the model's performance on new, unseen data. This helps to estimate the model's accuracy and generalization, and identify any overfitting or underfitting issues.\n",
        "\n",
        "* Validation set: It is important to have a validation set to tune the hyperparameters of the model. A well-tuned model ensures that it can perform well on new, unseen data and achieve the desired performance metrics."
      ],
      "metadata": {
        "id": "RJ7vZoCkZmuA"
      }
    },
    {
      "cell_type": "markdown",
      "source": [
        "**Q7 - How can unsupervised learning be used in anamoly detection?**<br>\n",
        "ANS:<br>\n",
        "Unsupervised learning can be used in anomaly detection by identifying patterns in data that deviate significantly from the norm. The basic idea is to use unsupervised algorithms to identify clusters in the data and then flag any data points that do not fit well into any of the identified clusters as potential anomalies.\n",
        "\n",
        "For example, consider a credit card fraud detection system. The system could use unsupervised learning to analyze the spending patterns of individual credit card users and identify clusters of similar transactions. Any transaction that does not fit well into any of the identified clusters could be flagged as potentially fraudulent.\n",
        "\n",
        "In this way, unsupervised learning can be a powerful tool for detecting anomalies in data without the need for labeled examples or prior knowledge of what constitutes an anomaly."
      ],
      "metadata": {
        "id": "61YqTctnaMQv"
      }
    },
    {
      "cell_type": "markdown",
      "source": [
        "**Q8 - List down some commonly used algorithms used in supervised and unsupervised learning.**<br>\n",
        "ANS:<br>\n",
        "\n",
        "Supervised Learning Algorithms:\n",
        "\n",
        "* Linear Regression\n",
        "* Logistic Regression\n",
        "* Decision Trees\n",
        "* Random Forest\n",
        "* Support Vector Machines (SVM)\n",
        "* K-Nearest Neighbors (KNN)\n",
        "* Naive Bayes\n",
        "* Gradient Boosting Machines (GBM)\n",
        "* Neural Networks\n",
        "\n",
        "\n",
        "Unsupervised Learning Algorithms:\n",
        "\n",
        "* K-Means Clustering\n",
        "* Hierarchical Clustering\n",
        "* DBSCAN\n",
        "* Gaussian Mixture Models (GMM)\n",
        "* Principal Component Analysis (PCA)\n",
        "* t-Distributed Stochastic Neighbor Embedding (t-SNE)\n",
        "* Apriori\n",
        "* Association Rules\n",
        "* Anomaly Detection"
      ],
      "metadata": {
        "id": "RS-yiHVwabfp"
      }
    }
  ]
}