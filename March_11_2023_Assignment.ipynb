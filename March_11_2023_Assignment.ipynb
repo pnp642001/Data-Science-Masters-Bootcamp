{
  "nbformat": 4,
  "nbformat_minor": 0,
  "metadata": {
    "colab": {
      "provenance": [],
      "authorship_tag": "ABX9TyO8XkcvVVI7RLe8YGXAmfnI",
      "include_colab_link": true
    },
    "kernelspec": {
      "name": "python3",
      "display_name": "Python 3"
    },
    "language_info": {
      "name": "python"
    }
  },
  "cells": [
    {
      "cell_type": "markdown",
      "metadata": {
        "id": "view-in-github",
        "colab_type": "text"
      },
      "source": [
        "<a href=\"https://colab.research.google.com/github/pnp642001/Data-Science-Masters-Bootcamp/blob/main/March_11_2023_Assignment.ipynb\" target=\"_parent\"><img src=\"https://colab.research.google.com/assets/colab-badge.svg\" alt=\"Open In Colab\"/></a>"
      ]
    },
    {
      "cell_type": "markdown",
      "source": [
        "**Q1: What is the difference between a t-test and a z-test? Provide an example scenario where you would\n",
        "use each type of test.**<br>\n",
        "ANS:<br>\n",
        "The t-test and z-test are both statistical hypothesis tests used to make inferences about population parameters based on sample data. However, the t-test is used when the sample size is small, and the population standard deviation is unknown. In contrast, the z-test is used when the sample size is large, and the population standard deviation is known or can be estimated accurately.\n",
        "\n",
        "For example, consider a scenario where a researcher wants to test whether the mean height of a sample of 30 individuals is significantly different from the population mean height of 68 inches, where the population standard deviation is unknown. In this case, the researcher would use a one-sample t-test since the sample size is small, and the population standard deviation is unknown.\n",
        "\n",
        "Now, let's assume that the population standard deviation is known to be 5 inches, and a researcher wants to test whether a sample of 100 individuals has a mean height significantly different from the population mean height of 68 inches. In this scenario, the researcher would use a one-sample z-test since the sample size is large, and the population standard deviation is known.\n",
        "\n",
        "In summary, a t-test is used when the sample size is small and the population standard deviation is unknown, while a z-test is used when the sample size is large, and the population standard deviation is known or can be estimated accurately."
      ],
      "metadata": {
        "id": "Z8Kc6AOyXJV7"
      }
    },
    {
      "cell_type": "markdown",
      "source": [
        "**Q2: Differentiate between one-tailed and two-tailed tests.**<br>\n",
        "ANS:<br>\n",
        "In hypothesis testing, a one-tailed (or one-sided) test is a statistical test in which the critical region of a distribution is only one side of the mean, while a two-tailed (or two-sided) test is a statistical test in which the critical region is split between both sides of the mean.\n",
        "\n",
        "In a one-tailed test, the null hypothesis is tested against an alternative hypothesis that the population parameter is either greater than or less than a certain value. For example, in a study on the effect of a new drug on blood pressure, a one-tailed test would be used to test whether the drug decreases blood pressure rather than whether it has any effect at all.\n",
        "\n",
        "In a two-tailed test, the null hypothesis is tested against an alternative hypothesis that the population parameter is different from a certain value. For example, in a study on the average weight of apples produced by two different farms, a two-tailed test would be used to test whether there is a significant difference in the average weight of apples between the two farms, without specifying which farm has heavier apples."
      ],
      "metadata": {
        "id": "plK6DmhfXigA"
      }
    },
    {
      "cell_type": "markdown",
      "source": [
        "**Q3: Explain the concept of Type 1 and Type 2 errors in hypothesis testing. Provide an example scenario for\n",
        "each type of error.**<br>\n",
        "ANS:<br>\n",
        "In hypothesis testing, a type 1 error occurs when the null hypothesis is rejected when it is actually true. This is also known as a false positive. The significance level of the test, denoted as alpha, is the probability of committing a type 1 error. A lower alpha value reduces the risk of making a type 1 error.\n",
        "\n",
        "For example, suppose a pharmaceutical company is testing a new drug that they believe will reduce blood pressure. The null hypothesis is that the drug has no effect on blood pressure. A type 1 error would occur if the company concludes that the drug does lower blood pressure when in reality it has no effect.\n",
        "\n",
        "A type 2 error occurs when the null hypothesis is not rejected when it is actually false. This is also known as a false negative. The probability of committing a type 2 error is denoted as beta. A higher sample size and effect size increases the power of the test, which reduces the risk of making a type 2 error.\n",
        "\n",
        "For example, suppose a manufacturer wants to test if the mean weight of its product is less than 10 pounds, with a significance level of 0.05. A type 2 error would occur if the company fails to reject the null hypothesis that the mean weight is greater than or equal to 10 pounds when in reality it is less than 10 pounds."
      ],
      "metadata": {
        "id": "B0mxGx6FXukg"
      }
    },
    {
      "cell_type": "markdown",
      "source": [
        "**Q4: Explain Bayes's theorem with an example.**<br>\n",
        "ANS:<br>\n",
        "Bayes's theorem is a mathematical formula used to calculate the probability of an event based on prior knowledge of related events. It is named after the English mathematician Thomas Bayes.\n",
        "\n",
        "Bayes's theorem states that the probability of an event A occurring given that event B has occurred is equal to the probability of event B occurring given that event A has occurred, multiplied by the prior probability of event A occurring, divided by the prior probability of event B occurring.\n",
        "\n",
        "Mathematically, Bayes's theorem can be written as:\n",
        "\n",
        "P(A|B) = P(B|A) * P(A) / P(B)\n",
        "\n",
        "where:\n",
        "P(A|B) is the probability of event A occurring given that event B has occurred\n",
        "P(B|A) is the probability of event B occurring given that event A has occurred\n",
        "P(A) is the prior probability of event A occurring\n",
        "P(B) is the prior probability of event B occurring\n",
        "\n",
        "Here's an example of how Bayes's theorem can be used in practice:\n",
        "\n",
        "Suppose a hospital wants to test a patient for a rare disease that affects 1% of the population. The test is 95% accurate, meaning that if a person has the disease, there is a 95% chance that the test will correctly identify them as having it, and if they do not have the disease, there is a 95% chance that the test will correctly identify them as not having it.\n",
        "\n",
        "Now, suppose the patient takes the test and it comes back positive. What is the probability that the patient actually has the disease?\n",
        "\n",
        "Using Bayes's theorem, we can calculate the probability as follows:\n",
        "\n",
        "Let A be the event that the patient has the disease, and let B be the event that the test is positive.\n",
        "\n",
        "P(A) = 0.01 (the prior probability of the patient having the disease)\n",
        "P(B|A) = 0.95 (the probability of the test being positive given that the patient has the disease)\n",
        "P(not A) = 0.99 (the prior probability of the patient not having the disease)\n",
        "P(B|not A) = 0.05 (the probability of the test being positive given that the patient does not have the disease)\n",
        "\n",
        "Now we can plug these values into Bayes's theorem:\n",
        "\n",
        "P(A|B) = P(B|A) * P(A) / [P(B|A) * P(A) + P(B|not A) * P(not A)]\n",
        "= 0.95 * 0.01 / [0.95 * 0.01 + 0.05 * 0.99]\n",
        "= 0.161\n",
        "\n",
        "So the probability that the patient actually has the disease, given a positive test result, is about 16.1%."
      ],
      "metadata": {
        "id": "BBMSt3jKYDQR"
      }
    },
    {
      "cell_type": "markdown",
      "source": [
        "**Q5: What is a confidence interval? How to calculate the confidence interval, explain with an example.**<br>\n",
        "ANS:<br>\n",
        "A confidence interval is a range of values that is likely to contain the true value of a population parameter with a certain degree of confidence. It is often used in inferential statistics to estimate the true value of a population parameter (such as mean or proportion) based on a sample from that population.\n",
        "\n",
        "The formula to calculate the confidence interval for a population mean is:\n",
        "\n",
        "CI = x̄ ± t*(s/√n)\n",
        "\n",
        "Where:\n",
        "CI = confidence interval\n",
        "x̄ = sample mean\n",
        "t = critical value from the t-distribution based on the desired level of confidence and degrees of freedom\n",
        "s = sample standard deviation\n",
        "n = sample size\n",
        "\n",
        "For example, suppose we want to estimate the true mean height of a certain population of adults based on a sample of 50 individuals. The sample mean height is 170 cm, and the sample standard deviation is 5 cm. We want to calculate a 95% confidence interval.\n",
        "\n",
        "The critical value for a 95% confidence interval with 49 degrees of freedom (50-1) can be found using a t-distribution table or a calculator. In this case, the critical value is approximately 2.009.\n",
        "\n",
        "Plugging in the values, we get:\n",
        "\n",
        "CI = 170 ± 2.009*(5/√50)\n",
        "= 170 ± 1.43\n",
        "= (168.57, 171.43)\n",
        "\n",
        "Therefore, we can be 95% confident that the true mean height of the population falls between 168.57 and 171.43 cm based on this sample."
      ],
      "metadata": {
        "id": "BWzJ1y2-YVi5"
      }
    },
    {
      "cell_type": "markdown",
      "source": [
        "**Q6. Use Bayes' Theorem to calculate the probability of an event occurring given prior knowledge of the\n",
        "event's probability and new evidence. Provide a sample problem and solution.**<br>\n",
        "ANS:<br>\n",
        "Suppose a certain disease affects 1 in every 1000 people in a population. A diagnostic test is available for this disease, which is 99% accurate in detecting the disease when it is present, and 95% accurate in ruling out the disease when it is not present. If a person tests positive for the disease, what is the probability that they actually have the disease?\n",
        "\n",
        "Solution:\n",
        "\n",
        "Let's use Bayes' theorem to calculate the probability that a person actually has the disease given a positive test result. We can define the following events:\n",
        "\n",
        "A: The person has the disease\n",
        "B: The person tests positive for the disease\n",
        "\n",
        "We want to calculate P(A|B), the probability that the person actually has the disease given a positive test result. Using Bayes' theorem, we have:\n",
        "\n",
        "P(A|B) = P(B|A) * P(A) / P(B)\n",
        "\n",
        "where:\n",
        "P(B|A) = 0.99, the probability of testing positive given the person has the disease\n",
        "P(A) = 0.001, the prior probability of a person having the disease\n",
        "P(B) = P(B|A) * P(A) + P(B|not A) * P(not A), the total probability of testing positive\n",
        "\n",
        "To calculate P(B|not A), the probability of testing positive given the person does not have the disease, we can use the complement of the test's accuracy in ruling out the disease, which is 1 - 0.95 = 0.05.\n",
        "\n",
        "Therefore, we have:\n",
        "\n",
        "P(B|not A) = 0.05\n",
        "P(B) = P(B|A) * P(A) + P(B|not A) * P(not A)\n",
        "= 0.99 * 0.001 + 0.05 * 0.999\n",
        "= 0.05094\n",
        "\n",
        "Finally, we can substitute these values into Bayes' theorem to obtain:\n",
        "\n",
        "P(A|B) = P(B|A) * P(A) / P(B)\n",
        "= 0.99 * 0.001 / 0.05094\n",
        "= 0.0194\n",
        "\n",
        "Therefore, given a positive test result, the probability that a person actually has the disease is approximately 1.94%."
      ],
      "metadata": {
        "id": "xkOIMQ99YkIj"
      }
    },
    {
      "cell_type": "markdown",
      "source": [
        "**Q7. Calculate the 95% confidence interval for a sample of data with a mean of 50 and a standard deviation\n",
        "of 5. Interpret the results.**<br>\n",
        "ANS:<br>\n",
        "To calculate the 95% confidence interval, we need to use the formula:\n",
        "\n",
        "CI = X̄ ± Zα/2 * (σ/√n)\n",
        "\n",
        "where CI is the confidence interval, X̄ is the sample mean, Zα/2 is the Z-score for the desired confidence level (in this case, 1.96 for 95%), σ is the population standard deviation (which we don't know, so we use the sample standard deviation instead), and n is the sample size.\n",
        "\n",
        "Plugging in the values, we get:\n",
        "\n",
        "CI = 50 ± 1.96 * (5/√n)\n",
        "\n",
        "We don't know the sample size (n), so we can't calculate the exact interval. However, we can say that if we were to take many random samples of the same size and calculate a 95% confidence interval for each one, we would expect that about 95% of those intervals would contain the true population mean.\n",
        "\n",
        "In other words, we can be 95% confident that the true population mean falls within the calculated interval, assuming that the sample is representative of the population and that the sample standard deviation is a good estimate of the population standard deviation."
      ],
      "metadata": {
        "id": "uQKE7_-rY389"
      }
    },
    {
      "cell_type": "markdown",
      "source": [
        "**Q8. What is the margin of error in a confidence interval? How does sample size affect the margin of error?\n",
        "Provide an example of a scenario where a larger sample size would result in a smaller margin of error.**<br>\n",
        "ANS:<br>\n",
        "The margin of error is a measure of the precision or accuracy of an estimate in a confidence interval. It represents the amount by which the sample statistic (e.g. mean or proportion) may deviate from the population parameter (e.g. true mean or proportion) due to sampling variability.\n",
        "\n",
        "The margin of error is affected by several factors, including the sample size, level of confidence, and standard deviation. A larger sample size generally leads to a smaller margin of error, as it reduces the sampling variability and increases the precision of the estimate.\n",
        "\n",
        "For example, consider a study aiming to estimate the proportion of people in a city who support a new policy initiative. A sample of 1000 individuals is surveyed, and the estimated proportion is found to be 0.6 with a margin of error of 0.05 at a 95% confidence level. This means that we can be 95% confident that the true proportion of supporters in the population lies between 0.55 and 0.65.\n",
        "\n",
        "If the sample size were increased to 2000 individuals, the margin of error would decrease, and we would have a more precise estimate of the population proportion. This would increase our confidence in the results and reduce the risk of making an incorrect conclusion based on the sample data."
      ],
      "metadata": {
        "id": "yeDAeLL4ZBHO"
      }
    },
    {
      "cell_type": "markdown",
      "source": [
        "**Q9. Calculate the z-score for a data point with a value of 75, a population mean of 70, and a population\n",
        "standard deviation of 5. Interpret the results.**<br>\n",
        "ANS:<br>\n",
        "To calculate the z-score, we use the formula:\n",
        "\n",
        "z = (x - mu) / sigma\n",
        "\n",
        "where x is the data point, mu is the population mean, and sigma is the population standard deviation.\n",
        "\n",
        "Substituting the given values, we get:\n",
        "\n",
        "z = (75 - 70) / 5\n",
        "\n",
        "z = 1\n",
        "\n",
        "The z-score for the data point 75 is 1. This means that the data point is one standard deviation above the population mean."
      ],
      "metadata": {
        "id": "4sTe9mBPZK8O"
      }
    },
    {
      "cell_type": "markdown",
      "source": [
        "**Q10. In a study of the effectiveness of a new weight loss drug, a sample of 50 participants lost an average\n",
        "of 6 pounds with a standard deviation of 2.5 pounds. Conduct a hypothesis test to determine if the drug is\n",
        "significantly effective at a 95% confidence level using a t-test.**<br>\n",
        "ANS:<br>\n",
        "We are given:\n",
        "\n",
        "* Sample size (n) = 50\n",
        "* Sample mean (x̄) = 6\n",
        "* Sample standard deviation (s) = 2.5\n",
        "* Confidence level = 95%\n",
        "* Degrees of freedom = n - 1 = 50 - 1 = 49\n",
        "\n",
        "Null hypothesis (H0): The drug is not significantly effective (μ <= 0).\n",
        "Alternative hypothesis (Ha): The drug is significantly effective (μ > 0).\n",
        "Since we don't know the population standard deviation, we will use a t-test to test the hypothesis. We can calculate the t-value using the formula:\n",
        "\n",
        "t = (x̄ - μ) / (s / sqrt(n))\n",
        "\n",
        "where x̄ is the sample mean, μ is the hypothesized population mean, s is the sample standard deviation, and n is the sample size.\n",
        "\n",
        "For a one-tailed test with a 95% confidence level and 49 degrees of freedom, the critical t-value can be found using a t-table or a t-distribution calculator. The critical t-value is the t-value that has an area of 0.05 in the right tail of the t-distribution. Using a t-table, we find the critical t-value to be 1.677.\n",
        "\n",
        "Now, we can calculate the t-value:\n",
        "\n",
        "t = (6 - 0) / (2.5 / sqrt(50)) = 13.4164\n",
        "\n",
        "Since our calculated t-value of 13.4164 is greater than the critical t-value of 1.677, we reject the null hypothesis. Therefore, we can conclude that the drug is significantly effective in weight loss at a 95% confidence level."
      ],
      "metadata": {
        "id": "NHIx5XWQZWmD"
      }
    },
    {
      "cell_type": "markdown",
      "source": [
        "**Q11. In a survey of 500 people, 65% reported being satisfied with their current job. Calculate the 95%\n",
        "confidence interval for the true proportion of people who are satisfied with their job.**<br>\n",
        "ANS:<br>\n",
        "\n",
        "To calculate the 95% confidence interval for the true proportion of people satisfied with their job, we can use the formula:\n",
        "\n",
        "CI = p ± z*(sqrt(p*(1-p)/n))\n",
        "\n",
        "where:\n",
        "\n",
        "p = sample proportion\n",
        "\n",
        "n = sample size\n",
        "\n",
        "z = z-score corresponding to the confidence level\n",
        "\n",
        "At 95% confidence level, the z-score is 1.96.\n",
        "\n",
        "Plugging in the values:\n",
        "\n",
        "p = 0.65\n",
        "\n",
        "n = 500\n",
        "\n",
        "z = 1.96\n",
        "\n",
        "CI = 0.65 ± 1.96*(sqrt(0.65*(1-0.65)/500))\n",
        "\n",
        "CI = 0.65 ± 0.045\n",
        "\n",
        "So the 95% confidence interval for the true proportion of people satisfied with their job is (0.605, 0.695). This means that we can be 95% confident that the true proportion of people satisfied with their job falls between 60.5% and 69.5%."
      ],
      "metadata": {
        "id": "Oe6Gd9jZZmBA"
      }
    },
    {
      "cell_type": "markdown",
      "source": [
        "**Q12. A researcher is testing the effectiveness of two different teaching methods on student performance.\n",
        "Sample A has a mean score of 85 with a standard deviation of 6, while sample B has a mean score of 82\n",
        "with a standard deviation of 5. Conduct a hypothesis test to determine if the two teaching methods have a\n",
        "significant difference in student performance using a t-test with a significance level of 0.01.**<br>\n",
        "ANS:<br>\n",
        "\n",
        "To determine if the two teaching methods have a significant difference in student performance, we can use a two-sample t-test.\n",
        "\n",
        "\n",
        "The null hypothesis is that there is no significant difference in student performance between the two teaching methods:\n",
        "\n",
        "\n",
        "H0: μA - μB = 0\n",
        "\n",
        "\n",
        "The alternative hypothesis is that there is a significant difference in student performance between the two teaching methods:\n",
        "\n",
        "Ha: μA - μB ≠ 0\n",
        "\n",
        "We can use a t-test with a significance level of 0.01, which corresponds to a confidence level of 99%.\n",
        "\n",
        "The t-statistic can be calculated using the formula:\n",
        "\n",
        "t = (x̄A - x̄B) / (SE)\n",
        "\n",
        "where x̄A and x̄B are the sample means for sample A and sample B, respectively, and SE is the standard error of the difference between the means:\n",
        "\n",
        "SE = sqrt((sA^2 / nA) + (sB^2 / nB))\n",
        "\n",
        "where sA and sB are the sample standard deviations for sample A and sample B, respectively, and nA and nB are the sample sizes for sample A and sample B, respectively.\n",
        "\n",
        "Plugging in the values from the problem, we get:\n",
        "\n",
        "x̄A = 85\n",
        "\n",
        "sA = 6\n",
        "\n",
        "nA = ?\n",
        "\n",
        "x̄B = 82\n",
        "\n",
        "sB = 5\n",
        "\n",
        "nB = ?\n",
        "\n",
        "α = 0.01 (two-tailed test)\n",
        "\n",
        "We don't know the sample sizes for the two samples, so we cannot calculate the t-statistic or the standard error. We need to assume that the sample sizes are equal and use a pooled standard deviation:\n",
        "\n",
        "s_pooled = sqrt(((nA - 1)sA^2 + (nB - 1)sB^2) / (nA + nB - 2))\n",
        "\n",
        "where sA and sB are the sample standard deviations for sample A and sample B, respectively, and nA and nB are the sample sizes for sample A and sample B, respectively.\n",
        "\n",
        "Assuming that the sample sizes are equal, we can calculate the pooled standard deviation:\n",
        "\n",
        "s_pooled = sqrt(((50 - 1)(6)^2 + (50 - 1)(5)^2) / (50 + 50 - 2)) = 5.42\n",
        "\n",
        "Using the pooled standard deviation, we can calculate the standard error:\n",
        "\n",
        "SE = s_pooled * sqrt(1/nA + 1/nB) = 5.42 * sqrt(1/50 + 1/50) = 1.93\n",
        "\n",
        "The t-statistic can be calculated as:\n",
        "\n",
        "t = (x̄A - x̄B) / SE = (85 - 82) / 1.93 = 1.55\n",
        "\n",
        "Using a t-table with 98 degrees of freedom (df = nA + nB - 2 = 100 - 2 = 98), the critical value for a two-tailed test with α = 0.01 is ±2.602. Since the calculated t-value (1.55) is less than the critical value (2.602), we fail to reject the null hypothesis.\n",
        "\n",
        "Therefore, we conclude that there is not enough evidence to suggest a significant difference in student performance between the two teaching methods at a significance level of 0.01."
      ],
      "metadata": {
        "id": "8Ncve5JTZzXP"
      }
    },
    {
      "cell_type": "markdown",
      "source": [
        "**Q13. A population has a mean of 60 and a standard deviation of 8. A sample of 50 observations has a mean\n",
        "of 65. Calculate the 90% confidence interval for the true population mean.**<br>\n",
        "ANS:<br>\n",
        "o calculate the confidence interval, we can use the following formula:\n",
        "\n",
        "Confidence interval = sample mean ± (critical value) x (standard error)\n",
        "\n",
        "where the standard error = standard deviation / √n\n",
        "\n",
        "Here, the sample mean is 65, the population mean is 60, the population standard deviation is 8, and the sample size is 50.\n",
        "\n",
        "First, we need to find the critical value for a 90% confidence level. Using a t-distribution with 49 degrees of freedom (since n-1 = 49), we can find the critical value to be approximately 1.67.\n",
        "\n",
        "Next, we can calculate the standard error:\n",
        "\n",
        "standard error = 8 / √50 = 1.131\n",
        "\n",
        "Finally, we can plug in the values to calculate the confidence interval:\n",
        "\n",
        "Confidence interval = 65 ± 1.67 x 1.131\n",
        "Confidence interval = (63.15, 66.85)\n",
        "\n",
        "Therefore, we can say with 90% confidence that the true population mean is between 63.15 and 66.85."
      ],
      "metadata": {
        "id": "MiRNuUSaiJrZ"
      }
    },
    {
      "cell_type": "markdown",
      "source": [
        "**Q14. In a study of the effects of caffeine on reaction time, a sample of 30 participants had an average\n",
        "reaction time of 0.25 seconds with a standard deviation of 0.05 seconds. Conduct a hypothesis test to\n",
        "determine if the caffeine has a significant effect on reaction time at a 90% confidence level using a t-test.**<br>\n",
        "ANS:<br>\n",
        "To test the hypothesis that caffeine has a significant effect on reaction time, we can set up the following null and alternative hypotheses:\n",
        "\n",
        "Null hypothesis: The mean reaction time for the population is equal to 0.20 seconds (no effect of caffeine): μ = 0.20\n",
        "Alternative hypothesis: The mean reaction time for the population is greater than 0.20 seconds (caffeine has an effect): μ > 0.20\n",
        "We can use a one-sample t-test to test this hypothesis. The test statistic can be calculated as:\n",
        "\n",
        "t = (x̄ - μ) / (s / √n)\n",
        "\n",
        "where x̄ is the sample mean, μ is the hypothesized population mean under the null hypothesis, s is the sample standard deviation, and n is the sample size.\n",
        "\n",
        "Plugging in the given values, we get:\n",
        "\n",
        "t = (0.25 - 0.20) / (0.05 / √30) = 5.48\n",
        "\n",
        "The degrees of freedom for this test is 29 (n-1). Using a t-distribution table with 29 degrees of freedom and a 90% confidence level, the critical t-value is 1.699.\n",
        "\n",
        "Since our calculated t-value (5.48) is greater than the critical t-value (1.699), we can reject the null hypothesis and conclude that caffeine has a significant effect on reaction time at a 90% confidence level.\n",
        "\n",
        "In other words, we can say that the reaction time of participants who consume caffeine is significantly faster than the reaction time of those who do not consume caffeine."
      ],
      "metadata": {
        "id": "lVKUdCnviSD-"
      }
    }
  ]
}