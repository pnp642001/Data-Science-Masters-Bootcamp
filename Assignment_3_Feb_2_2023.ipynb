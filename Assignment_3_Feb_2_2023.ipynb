{
  "nbformat": 4,
  "nbformat_minor": 0,
  "metadata": {
    "colab": {
      "provenance": []
    },
    "kernelspec": {
      "name": "python3",
      "display_name": "Python 3"
    },
    "language_info": {
      "name": "python"
    }
  },
  "cells": [
    {
      "cell_type": "code",
      "execution_count": 1,
      "metadata": {
        "colab": {
          "base_uri": "https://localhost:8080/"
        },
        "id": "qVgvARgF68Q5",
        "outputId": "0b5a8dda-58ef-47f8-c5b1-f32e41f2aa0f"
      },
      "outputs": [
        {
          "name": "stdout",
          "output_type": "stream",
          "text": [
            "Hello World!\n",
            "Hello World!\n",
            "Hello World!\n",
            "Hello World!\n",
            "Hello World!\n",
            "Pnp\n",
            "pn11\n",
            "end\n"
          ]
        }
      ],
      "source": [
        "#QUESTION-1: Explain with an example each when to use a for loop and a while loop.\n",
        "\n",
        "''' For loop is pre-dominently used when we know the number of iterations that must be executed (fixed number of iterations). \n",
        "While loop is used when we don't know the number of iterations for the loop. While loop will continue to iterate till the given condition \n",
        "is satisfied.\n",
        "However, for loop and while can be used interchangebly if one wants'''\n",
        "\n",
        "#For loop example: print the \"Hello World\" 5 times\n",
        "\n",
        "for i in range(5):\n",
        "  print(\"Hello World!\")\n",
        "\n",
        "#While loop: Take input from the user in the form of word till it is not equal to end\n",
        "\n",
        "str=input()\n",
        "while str != 'end':\n",
        "  str=input()\n",
        "\n",
        "#In for loop, we know the number of times the loop should be executed\n",
        "# in while loop, we don't know"
      ]
    },
    {
      "cell_type": "code",
      "source": [
        "#QUESTION-2: Write a python program to print the sum and product of the first 10 natural numbers using for and while loop.\n",
        "\n",
        "sum_for=0\n",
        "product_for=1\n",
        "sum_while=0\n",
        "product_while=1\n",
        "n=1\n",
        "\n",
        "for i in range(1,11):\n",
        "  sum_for+=i\n",
        "  product_for*=i\n",
        "\n",
        "while (n<=10):\n",
        "  sum_while+=n\n",
        "  product_while*=n\n",
        "  n+=1\n",
        "  \n",
        "print(\"Sum using for loop: \",sum_for,\" and Product using for loop: \",product_for)\n",
        "print()\n",
        "print(\"Sum using while loop: \",sum_while,\" and Product using while loop: \",product_while)"
      ],
      "metadata": {
        "colab": {
          "base_uri": "https://localhost:8080/"
        },
        "id": "fqZgrMoH8VaD",
        "outputId": "86d8db7b-95d2-46ca-ecbf-a2eac39dd23b"
      },
      "execution_count": 2,
      "outputs": [
        {
          "output_type": "stream",
          "name": "stdout",
          "text": [
            "Sum using for loop:  55  and Product using for loop:  3628800\n",
            "\n",
            "Sum using while loop:  55  and Product using while loop:  3628800\n"
          ]
        }
      ]
    },
    {
      "cell_type": "code",
      "source": [
        "''' Q3. Create a python program to compute the electricity bill for a household.\n",
        "The per-unit charges in rupees are as follows: For the first 100 units, the user will be charged Rs. 4.5 per\n",
        "unit, for the next 100 units, the user will be charged Rs. 6 per unit, and for the next 100 units, the user will\n",
        "be charged Rs. 10 per unit, After 300 units and above the user will be charged Rs. 20 per unit. '''\n",
        "\n",
        "def billCalculator(unit):\n",
        "  \n",
        "  if unit<=0:\n",
        "    return 0\n",
        "  elif unit <=100:\n",
        "    return unit*4.5\n",
        "  elif unit <=200:\n",
        "    return (100*4.5)+((unit-100)*6)\n",
        "  elif unit<=300:\n",
        "    return (100*4.5)+(100*6)+((unit-200)*10)\n",
        "  elif unit>300:\n",
        "    return (100*4.5)+(100*6)+(100*10)+((unit-300)*20)\n",
        "  \n",
        "units=int(input(\"Enter the units of electricity consumed in a month: \"))\n",
        "bill=billCalculator(units)\n",
        "\n",
        "if bill<=0:\n",
        "  print(\"Please enter valid units consumed\")\n",
        "else:\n",
        "  print(\"Your monthly electricity bill for consuming {} units is INR {}\".format(units,bill))\n"
      ],
      "metadata": {
        "colab": {
          "base_uri": "https://localhost:8080/"
        },
        "id": "qq5lqjI49WM6",
        "outputId": "09b98d9d-604c-458d-8797-655af7b1d365"
      },
      "execution_count": 4,
      "outputs": [
        {
          "output_type": "stream",
          "name": "stdout",
          "text": [
            "Enter the units of electricity consumed in a month: 310\n",
            "Your monthly electricity bill for consuming 310 units is INR 2250.0\n"
          ]
        }
      ]
    },
    {
      "cell_type": "code",
      "source": [
        "''' Q4. Create a list of numbers from 1 to 100. Use for loop and while loop to calculate the cube of each\n",
        "number and if the cube of that number is divisible by 4 or 5 then append that number in a list and print\n",
        "that list.'''\n",
        "list_1=[ele for ele in range(1,101)]\n",
        "list_for=[]\n",
        "for i in list_1:\n",
        "  if i**3 % 4==0 or i**3 % 5==0:\n",
        "    list_for.append(i)\n",
        "print(list_for)\n",
        "list_while=[]\n",
        "i=0\n",
        "length=len(list_1)\n",
        "while i<length:\n",
        "   if list_1[i]**3 % 4==0 or list_1[i]**3 % 5==0:\n",
        "    list_while.append(list_1[i])\n",
        "   i=i+1"
      ],
      "metadata": {
        "colab": {
          "base_uri": "https://localhost:8080/"
        },
        "id": "AXq21PHuAMIx",
        "outputId": "cb83e5d8-94f8-4a1e-a01e-9af5d09469ac"
      },
      "execution_count": 33,
      "outputs": [
        {
          "output_type": "stream",
          "name": "stdout",
          "text": [
            "[2, 4, 5, 6, 8, 10, 12, 14, 15, 16, 18, 20, 22, 24, 25, 26, 28, 30, 32, 34, 35, 36, 38, 40, 42, 44, 45, 46, 48, 50, 52, 54, 55, 56, 58, 60, 62, 64, 65, 66, 68, 70, 72, 74, 75, 76, 78, 80, 82, 84, 85, 86, 88, 90, 92, 94, 95, 96, 98, 100]\n"
          ]
        }
      ]
    },
    {
      "cell_type": "code",
      "source": [
        "#The logic is mentioned again in the form of comment as the code is not displayed properly on the github\n",
        "print(list_while)"
      ],
      "metadata": {
        "colab": {
          "base_uri": "https://localhost:8080/"
        },
        "id": "QpU0N0xeEoYa",
        "outputId": "cd88b3f7-f12d-4e87-f7dd-ed46391b3690"
      },
      "execution_count": 32,
      "outputs": [
        {
          "output_type": "stream",
          "name": "stdout",
          "text": [
            "[2, 4, 5, 6, 8, 10, 12, 14, 15, 16, 18, 20, 22, 24, 25, 26, 28, 30, 32, 34, 35, 36, 38, 40, 42, 44, 45, 46, 48, 50, 52, 54, 55, 56, 58, 60, 62, 64, 65, 66, 68, 70, 72, 74, 75, 76, 78, 80, 82, 84, 85, 86, 88, 90, 92, 94, 95, 96, 98, 100]\n"
          ]
        }
      ]
    },
    {
      "cell_type": "code",
      "source": [
        "# list_1=[ele for ele in range(1,101)]\n",
        "# list_while=[]\n",
        "# i=0\n",
        "# length=len(list_1)\n",
        "\n",
        "# while i<length:\n",
        "#    if list_1[i]**3 % 4==0 or list_1[i]**3 % 5==0:\n",
        "#     list_while.append(list_1[i])\n",
        "  \n",
        "#    i=i+1\n",
        "# print(list_while)\n"
      ],
      "metadata": {
        "id": "5vQQ0mcZFbY9"
      },
      "execution_count": 25,
      "outputs": []
    },
    {
      "cell_type": "code",
      "source": [
        "''' Q5. Write a program to filter count vowels in the below-given string.\n",
        "string = \"I want to become a data scientist\" '''\n",
        "\n",
        "vowels=['a','e','i','o','u']\n",
        "\n",
        "str=\" I want to become a data scientist\"\n",
        "str=str.lower()\n",
        "\n",
        "count=0\n",
        "\n",
        "for char in str:\n",
        "  if char in vowels:\n",
        "    count+=1\n",
        "\n",
        "print(\"Total vowels : \",count)"
      ],
      "metadata": {
        "colab": {
          "base_uri": "https://localhost:8080/"
        },
        "id": "v4ovPOrQA9fw",
        "outputId": "94568cc2-00c8-4f30-848a-9bbc01d6ea47"
      },
      "execution_count": 19,
      "outputs": [
        {
          "output_type": "stream",
          "name": "stdout",
          "text": [
            "Total vowels :  12\n"
          ]
        }
      ]
    }
  ]
}