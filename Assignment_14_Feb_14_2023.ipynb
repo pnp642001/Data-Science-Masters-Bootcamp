{
  "nbformat": 4,
  "nbformat_minor": 0,
  "metadata": {
    "colab": {
      "provenance": [],
      "authorship_tag": "ABX9TyMfnQmmJ6/QhEedbxkhjpio",
      "include_colab_link": true
    },
    "kernelspec": {
      "name": "python3",
      "display_name": "Python 3"
    },
    "language_info": {
      "name": "python"
    }
  },
  "cells": [
    {
      "cell_type": "markdown",
      "metadata": {
        "id": "view-in-github",
        "colab_type": "text"
      },
      "source": [
        "<a href=\"https://colab.research.google.com/github/pnp642001/Data-Science-Masters-Bootcamp/blob/main/Assignment_14_Feb_14_2023.ipynb\" target=\"_parent\"><img src=\"https://colab.research.google.com/assets/colab-badge.svg\" alt=\"Open In Colab\"/></a>"
      ]
    },
    {
      "cell_type": "markdown",
      "source": [
        "Q:1 What is multithreading in python? Why it is used? Name the module used to handle the threads in python?<br>\n",
        "ANS: <br>\n",
        "Multithreading in Python refers to the execution of multiple threads in a single program. A thread is a lightweight process that can run concurrently with other threads within the same process\n",
        "<br><br>\n",
        "Multithreading is commonly used in applications that require background processing, such as servers, graphical user interfaces, and data processing applications. By dividing a task into smaller units that can be executed concurrently, multithreading can improve the responsiveness of an application and make it more efficient.<br><br>\n",
        "In Python, the threading module is used to handle threads "
      ],
      "metadata": {
        "id": "UuIXgp8aL_QF"
      }
    },
    {
      "cell_type": "markdown",
      "source": [
        "Q:2 Why threading module is used? Write the use of following functions:<br>\n",
        " 1. activeCount()\n",
        " 2. currentThread()\n",
        " 3. enumerate()<br>\n",
        "\n",
        "ANS: <br>\n",
        "The threading module in Python is used to handle threads in a program. It provides a high-level interface for creating and managing threads, making it easy to write multithreaded applications.<br>\n",
        "<br>\n",
        "activeCount(): <br>This function returns the number of currently active threads in the program. This can be useful for monitoring the status of threads and ensuring that the program is not overloaded with too many threads<br><br>\n",
        "currentThread(): <br>This function returns the currently executing thread object. This can be useful for identifying the current thread and for passing the thread object to other functions.<br><br>\n",
        "enumerate():<br> This function returns a list of all currently active thread objects. This can be useful for monitoring the status of threads and for passing thread objects to other functions"
      ],
      "metadata": {
        "id": "HTviiC1UM0Sg"
      }
    },
    {
      "cell_type": "markdown",
      "source": [
        "Q:3 Explain the following functions in python:\n",
        " 1. run()\n",
        " 2. start()\n",
        " 3. join()\n",
        " 4. isAlive()\n",
        "\n",
        "<br>\n",
        "ANS:<br>\n",
        "run(): <br> This method is called when a Thread object is started using the start() method. <br> It is meant to be overridden by the user to define the behavior of the thread. <br> When the start() method is called, it creates a new thread and calls its run() method to start executing the code in a separate thread.<br><br>\n",
        "start(): <br>This method starts a new thread of execution by calling the run() method of the Thread object. <br>When this method is called, a new thread is created and starts executing the code in the run() method.<br><br>\n",
        "join(): <br>This method waits for a thread to finish executing before continuing with the main thread. <br>When this method is called, the main thread will block and wait for the specified thread to finish executing.<br><br>\n",
        "isAlive():<br> This method returns True if the thread is currently executing and False otherwise\n"
      ],
      "metadata": {
        "id": "CYOYmA1_Nhda"
      }
    },
    {
      "cell_type": "markdown",
      "source": [
        "Q:4 Write a python program to create two threads. Thread one must print the list of squares of numbers and thread two should print the list of cubes of numbers."
      ],
      "metadata": {
        "id": "YA_6lTLZPUDF"
      }
    },
    {
      "cell_type": "code",
      "execution_count": 1,
      "metadata": {
        "colab": {
          "base_uri": "https://localhost:8080/"
        },
        "id": "WQak6zI1L6Pg",
        "outputId": "04d2cda9-21de-495a-ea19-8519b37494ac"
      },
      "outputs": [
        {
          "output_type": "stream",
          "name": "stdout",
          "text": [
            "Squares: Cubes: [0, 1, 8, 27, 64, 125, 216, 343, 512, 729]\n",
            "[0, 1, 4, 9, 16, 25, 36, 49, 64, 81]\n",
            "Main thread finished\n"
          ]
        }
      ],
      "source": [
        "import threading\n",
        "\n",
        "def print_squares():\n",
        "    squares = [x**2 for x in range(10)]\n",
        "    print(\"Squares:\", squares)\n",
        "\n",
        "def print_cubes():\n",
        "    cubes = [x**3 for x in range(10)]\n",
        "    print(\"Cubes:\", cubes)\n",
        "\n",
        "# Create two thread objects\n",
        "t1 = threading.Thread(target=print_squares)\n",
        "t2 = threading.Thread(target=print_cubes)\n",
        "\n",
        "# Start both threads\n",
        "t1.start()\n",
        "t2.start()\n",
        "\n",
        "# Wait for both threads to finish\n",
        "t1.join()\n",
        "t2.join()\n",
        "\n",
        "print(\"Main thread finished\")"
      ]
    },
    {
      "cell_type": "markdown",
      "source": [
        "Q:5 State advantages and disadvantages of multithreading in python.<br>\n",
        "ANS: <br>\n",
        "Advantages:<br>\n",
        "1. Improved Performance\n",
        "2. Responsiveness\n",
        "3. Resource sharing\n",
        "<br>\n",
        "Disadvantages:<br>\n",
        "1. Complexity\n",
        "2. Overhead\n",
        "3. Difficult in debugging"
      ],
      "metadata": {
        "id": "-tMsa-RgP3Qr"
      }
    },
    {
      "cell_type": "markdown",
      "source": [
        "Q:6 Explain deadlocks and race conditions in python.<br>\n",
        "Ans:<br>\n",
        "A deadlock occurs when two or more threads are waiting for each other to release resources, causing all threads to become stuck and unable to make progress. Deadlocks can occur when threads acquire multiple locks in a different order, leading to a situation where each thread is waiting for the other to release a lock before it can proceed.<br><br>\n",
        "A race condition occurs when two or more threads access a shared resource at the same time, leading to unpredictable results. Race conditions can occur when one thread modifies a shared resource while another thread is reading or modifying it, leading to a situation where the final state of the resource depends on the timing and order of the thread operations."
      ],
      "metadata": {
        "id": "D2CeXTMOQZ3l"
      }
    },
    {
      "cell_type": "code",
      "source": [],
      "metadata": {
        "id": "v5T4GVeRP1vs"
      },
      "execution_count": null,
      "outputs": []
    }
  ]
}