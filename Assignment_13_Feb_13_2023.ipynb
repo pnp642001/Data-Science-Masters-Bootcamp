{
  "nbformat": 4,
  "nbformat_minor": 0,
  "metadata": {
    "colab": {
      "provenance": [],
      "authorship_tag": "ABX9TyOW0utkQ7nVARWpb6HQXdJt",
      "include_colab_link": true
    },
    "kernelspec": {
      "name": "python3",
      "display_name": "Python 3"
    },
    "language_info": {
      "name": "python"
    }
  },
  "cells": [
    {
      "cell_type": "markdown",
      "metadata": {
        "id": "view-in-github",
        "colab_type": "text"
      },
      "source": [
        "<a href=\"https://colab.research.google.com/github/pnp642001/Data-Science-Masters-Bootcamp/blob/main/Assignment_13_Feb_13_2023.ipynb\" target=\"_parent\"><img src=\"https://colab.research.google.com/assets/colab-badge.svg\" alt=\"Open In Colab\"/></a>"
      ]
    },
    {
      "cell_type": "markdown",
      "source": [
        "Q1. Explain why we have to use the Exception class while creating a Custom Exception.<br>\n",
        "ANS:<br>\n",
        "* When creating a custom exception in Python, it is recommended to inherit from the built-in Exception class or one of its subclasses (such as ValueError, TypeError, or RuntimeError). \n",
        "\n",
        "* This is because exceptions are objects that provide information about errors that occur during program execution.\n",
        "\n",
        "* By inheriting from the Exception class, we can ensure that our custom exception will have all the necessary properties and methods of the built-in Exception class.\n",
        "\n",
        "* In addition, inheriting from the Exception class allows our custom exception to be treated in the same way as any other exception in our program. "
      ],
      "metadata": {
        "id": "27ej5A2KF8sv"
      }
    },
    {
      "cell_type": "markdown",
      "source": [
        "Q2. Write a python program to print Python Exception Hierarchy."
      ],
      "metadata": {
        "id": "7NeWlwuNGiIy"
      }
    },
    {
      "cell_type": "code",
      "execution_count": 1,
      "metadata": {
        "colab": {
          "base_uri": "https://localhost:8080/"
        },
        "id": "gxqm6RtcFzU8",
        "outputId": "1bad3a79-d7c1-4e40-f04a-05f082c37769"
      },
      "outputs": [
        {
          "output_type": "stream",
          "name": "stdout",
          "text": [
            "\n",
            "ArithmeticError:\n",
            "Message: Base class for arithmetic errors.\n",
            "Exception Hierarchy: [<class 'ArithmeticError'>, <class 'Exception'>, <class 'BaseException'>, <class 'object'>]\n",
            "\n",
            "AssertionError:\n",
            "Message: Assertion failed.\n",
            "Exception Hierarchy: [<class 'AssertionError'>, <class 'Exception'>, <class 'BaseException'>, <class 'object'>]\n",
            "\n",
            "AttributeError:\n",
            "Message: Attribute not found.\n",
            "Exception Hierarchy: [<class 'AttributeError'>, <class 'Exception'>, <class 'BaseException'>, <class 'object'>]\n",
            "\n",
            "BlockingIOError:\n",
            "Message: I/O operation would block.\n",
            "Exception Hierarchy: [<class 'BlockingIOError'>, <class 'OSError'>, <class 'Exception'>, <class 'BaseException'>, <class 'object'>]\n",
            "\n",
            "BrokenPipeError:\n",
            "Message: Broken pipe.\n",
            "Exception Hierarchy: [<class 'BrokenPipeError'>, <class 'ConnectionError'>, <class 'OSError'>, <class 'Exception'>, <class 'BaseException'>, <class 'object'>]\n",
            "\n",
            "BufferError:\n",
            "Message: Buffer error.\n",
            "Exception Hierarchy: [<class 'BufferError'>, <class 'Exception'>, <class 'BaseException'>, <class 'object'>]\n",
            "\n",
            "ChildProcessError:\n",
            "Message: Child process error.\n",
            "Exception Hierarchy: [<class 'ChildProcessError'>, <class 'OSError'>, <class 'Exception'>, <class 'BaseException'>, <class 'object'>]\n",
            "\n",
            "ConnectionAbortedError:\n",
            "Message: Connection aborted.\n",
            "Exception Hierarchy: [<class 'ConnectionAbortedError'>, <class 'ConnectionError'>, <class 'OSError'>, <class 'Exception'>, <class 'BaseException'>, <class 'object'>]\n",
            "\n",
            "ConnectionError:\n",
            "Message: Connection error.\n",
            "Exception Hierarchy: [<class 'ConnectionError'>, <class 'OSError'>, <class 'Exception'>, <class 'BaseException'>, <class 'object'>]\n",
            "\n",
            "ConnectionRefusedError:\n",
            "Message: Connection refused.\n",
            "Exception Hierarchy: [<class 'ConnectionRefusedError'>, <class 'ConnectionError'>, <class 'OSError'>, <class 'Exception'>, <class 'BaseException'>, <class 'object'>]\n",
            "\n",
            "ConnectionResetError:\n",
            "Message: Connection reset.\n",
            "Exception Hierarchy: [<class 'ConnectionResetError'>, <class 'ConnectionError'>, <class 'OSError'>, <class 'Exception'>, <class 'BaseException'>, <class 'object'>]\n",
            "\n",
            "EOFError:\n",
            "Message: Read beyond end of file.\n",
            "Exception Hierarchy: [<class 'EOFError'>, <class 'Exception'>, <class 'BaseException'>, <class 'object'>]\n",
            "\n",
            "OSError:\n",
            "Message: Base class for I/O related errors.\n",
            "Exception Hierarchy: [<class 'OSError'>, <class 'Exception'>, <class 'BaseException'>, <class 'object'>]\n",
            "\n",
            "FileExistsError:\n",
            "Message: File already exists.\n",
            "Exception Hierarchy: [<class 'FileExistsError'>, <class 'OSError'>, <class 'Exception'>, <class 'BaseException'>, <class 'object'>]\n",
            "\n",
            "FileNotFoundError:\n",
            "Message: File not found.\n",
            "Exception Hierarchy: [<class 'FileNotFoundError'>, <class 'OSError'>, <class 'Exception'>, <class 'BaseException'>, <class 'object'>]\n",
            "\n",
            "FloatingPointError:\n",
            "Message: Floating point operation failed.\n",
            "Exception Hierarchy: [<class 'FloatingPointError'>, <class 'ArithmeticError'>, <class 'Exception'>, <class 'BaseException'>, <class 'object'>]\n",
            "\n",
            "OSError:\n",
            "Message: Base class for I/O related errors.\n",
            "Exception Hierarchy: [<class 'OSError'>, <class 'Exception'>, <class 'BaseException'>, <class 'object'>]\n",
            "\n",
            "ImportError:\n",
            "Message: Import can't find module, or can't find name in module.\n",
            "Exception Hierarchy: [<class 'ImportError'>, <class 'Exception'>, <class 'BaseException'>, <class 'object'>]\n",
            "\n",
            "IndentationError:\n",
            "Message: Improper indentation.\n",
            "Exception Hierarchy: [<class 'IndentationError'>, <class 'SyntaxError'>, <class 'Exception'>, <class 'BaseException'>, <class 'object'>]\n",
            "\n",
            "IndexError:\n",
            "Message: Sequence index out of range.\n",
            "Exception Hierarchy: [<class 'IndexError'>, <class 'LookupError'>, <class 'Exception'>, <class 'BaseException'>, <class 'object'>]\n",
            "\n",
            "InterruptedError:\n",
            "Message: Interrupted by signal.\n",
            "Exception Hierarchy: [<class 'InterruptedError'>, <class 'OSError'>, <class 'Exception'>, <class 'BaseException'>, <class 'object'>]\n",
            "\n",
            "IsADirectoryError:\n",
            "Message: Operation doesn't work on directories.\n",
            "Exception Hierarchy: [<class 'IsADirectoryError'>, <class 'OSError'>, <class 'Exception'>, <class 'BaseException'>, <class 'object'>]\n",
            "\n",
            "KeyError:\n",
            "Message: Mapping key not found.\n",
            "Exception Hierarchy: [<class 'KeyError'>, <class 'LookupError'>, <class 'Exception'>, <class 'BaseException'>, <class 'object'>]\n",
            "\n",
            "LookupError:\n",
            "Message: Base class for lookup errors.\n",
            "Exception Hierarchy: [<class 'LookupError'>, <class 'Exception'>, <class 'BaseException'>, <class 'object'>]\n",
            "\n",
            "MemoryError:\n",
            "Message: Out of memory.\n",
            "Exception Hierarchy: [<class 'MemoryError'>, <class 'Exception'>, <class 'BaseException'>, <class 'object'>]\n",
            "\n",
            "ModuleNotFoundError:\n",
            "Message: Module not found.\n",
            "Exception Hierarchy: [<class 'ModuleNotFoundError'>, <class 'ImportError'>, <class 'Exception'>, <class 'BaseException'>, <class 'object'>]\n",
            "\n",
            "NameError:\n",
            "Message: Name not found globally.\n",
            "Exception Hierarchy: [<class 'NameError'>, <class 'Exception'>, <class 'BaseException'>, <class 'object'>]\n",
            "\n",
            "NotADirectoryError:\n",
            "Message: Operation only works on directories.\n",
            "Exception Hierarchy: [<class 'NotADirectoryError'>, <class 'OSError'>, <class 'Exception'>, <class 'BaseException'>, <class 'object'>]\n",
            "\n",
            "NotImplementedError:\n",
            "Message: Method or function hasn't been implemented yet.\n",
            "Exception Hierarchy: [<class 'NotImplementedError'>, <class 'RuntimeError'>, <class 'Exception'>, <class 'BaseException'>, <class 'object'>]\n",
            "\n",
            "OSError:\n",
            "Message: Base class for I/O related errors.\n",
            "Exception Hierarchy: [<class 'OSError'>, <class 'Exception'>, <class 'BaseException'>, <class 'object'>]\n",
            "\n",
            "OverflowError:\n",
            "Message: Result too large to be represented.\n",
            "Exception Hierarchy: [<class 'OverflowError'>, <class 'ArithmeticError'>, <class 'Exception'>, <class 'BaseException'>, <class 'object'>]\n",
            "\n",
            "PermissionError:\n",
            "Message: Not enough permissions.\n",
            "Exception Hierarchy: [<class 'PermissionError'>, <class 'OSError'>, <class 'Exception'>, <class 'BaseException'>, <class 'object'>]\n",
            "\n",
            "ProcessLookupError:\n",
            "Message: Process not found.\n",
            "Exception Hierarchy: [<class 'ProcessLookupError'>, <class 'OSError'>, <class 'Exception'>, <class 'BaseException'>, <class 'object'>]\n",
            "\n",
            "RecursionError:\n",
            "Message: Recursion limit exceeded.\n",
            "Exception Hierarchy: [<class 'RecursionError'>, <class 'RuntimeError'>, <class 'Exception'>, <class 'BaseException'>, <class 'object'>]\n",
            "\n",
            "ReferenceError:\n",
            "Message: Weak ref proxy used after referent went away.\n",
            "Exception Hierarchy: [<class 'ReferenceError'>, <class 'Exception'>, <class 'BaseException'>, <class 'object'>]\n",
            "\n",
            "RuntimeError:\n",
            "Message: Unspecified run-time error.\n",
            "Exception Hierarchy: [<class 'RuntimeError'>, <class 'Exception'>, <class 'BaseException'>, <class 'object'>]\n",
            "\n",
            "SyntaxError:\n",
            "Message: Invalid syntax.\n",
            "Exception Hierarchy: [<class 'SyntaxError'>, <class 'Exception'>, <class 'BaseException'>, <class 'object'>]\n",
            "\n",
            "SystemError:\n",
            "Message: Internal error in the Python interpreter.\n",
            "\n",
            "Please report this to the Python maintainer, along with the traceback,\n",
            "the Python version, and the hardware/OS platform and version.\n",
            "Exception Hierarchy: [<class 'SystemError'>, <class 'Exception'>, <class 'BaseException'>, <class 'object'>]\n",
            "\n",
            "TabError:\n",
            "Message: Improper mixture of spaces and tabs.\n",
            "Exception Hierarchy: [<class 'TabError'>, <class 'IndentationError'>, <class 'SyntaxError'>, <class 'Exception'>, <class 'BaseException'>, <class 'object'>]\n",
            "\n",
            "TimeoutError:\n",
            "Message: Timeout expired.\n",
            "Exception Hierarchy: [<class 'TimeoutError'>, <class 'OSError'>, <class 'Exception'>, <class 'BaseException'>, <class 'object'>]\n",
            "\n",
            "TypeError:\n",
            "Message: Inappropriate argument type.\n",
            "Exception Hierarchy: [<class 'TypeError'>, <class 'Exception'>, <class 'BaseException'>, <class 'object'>]\n",
            "\n",
            "UnboundLocalError:\n",
            "Message: Local name referenced but not bound to a value.\n",
            "Exception Hierarchy: [<class 'UnboundLocalError'>, <class 'NameError'>, <class 'Exception'>, <class 'BaseException'>, <class 'object'>]\n",
            "\n",
            "UnicodeDecodeError:\n",
            "Message: Unicode decoding error.\n",
            "Exception Hierarchy: [<class 'UnicodeDecodeError'>, <class 'UnicodeError'>, <class 'ValueError'>, <class 'Exception'>, <class 'BaseException'>, <class 'object'>]\n",
            "\n",
            "UnicodeEncodeError:\n",
            "Message: Unicode encoding error.\n",
            "Exception Hierarchy: [<class 'UnicodeEncodeError'>, <class 'UnicodeError'>, <class 'ValueError'>, <class 'Exception'>, <class 'BaseException'>, <class 'object'>]\n",
            "\n",
            "UnicodeError:\n",
            "Message: Unicode related error.\n",
            "Exception Hierarchy: [<class 'UnicodeError'>, <class 'ValueError'>, <class 'Exception'>, <class 'BaseException'>, <class 'object'>]\n",
            "\n",
            "UnicodeTranslateError:\n",
            "Message: Unicode translation error.\n",
            "Exception Hierarchy: [<class 'UnicodeTranslateError'>, <class 'UnicodeError'>, <class 'ValueError'>, <class 'Exception'>, <class 'BaseException'>, <class 'object'>]\n",
            "\n",
            "ValueError:\n",
            "Message: Inappropriate argument value (of correct type).\n",
            "Exception Hierarchy: [<class 'ValueError'>, <class 'Exception'>, <class 'BaseException'>, <class 'object'>]\n",
            "\n",
            "ZeroDivisionError:\n",
            "Message: Second argument to a division or modulo operation was zero.\n",
            "Exception Hierarchy: [<class 'ZeroDivisionError'>, <class 'ArithmeticError'>, <class 'Exception'>, <class 'BaseException'>, <class 'object'>]\n"
          ]
        }
      ],
      "source": [
        "class CustomException(Exception):\n",
        "    pass\n",
        "\n",
        "for exception in dir(__builtins__):\n",
        "    if \"Error\" in exception:\n",
        "        try:\n",
        "            exc = getattr(__builtins__, exception)\n",
        "            print(f\"\\n{exc.__name__}:\")\n",
        "            print(f\"Message: {exc.__doc__}\")\n",
        "            print(f\"Exception Hierarchy: {exc.mro()}\")\n",
        "        except:\n",
        "            pass\n"
      ]
    },
    {
      "cell_type": "markdown",
      "source": [
        "Q3. What errors are defined in the ArithmeticError class? Explain any two with an example.<br>\n",
        "ANS: <br>\n",
        "* The ArithmeticError class in Python is a built-in exception class that is raised when an error occurs during arithmetic operations. This class is a base class for a number of arithmetic-related exceptions, including:\n",
        "\n",
        " * ZeroDivisionError: Raised when trying to divide a number by zero.\n",
        "\n",
        " * OverflowError: Raised when a calculation produces a result that is too large to be represented."
      ],
      "metadata": {
        "id": "IB2xE9tnG1fv"
      }
    },
    {
      "cell_type": "code",
      "source": [
        "a = 10\n",
        "b = 0\n",
        "\n",
        "try:\n",
        "    result = a/b\n",
        "except ZeroDivisionError as e:\n",
        "    print(\"Error:\", e)\n"
      ],
      "metadata": {
        "colab": {
          "base_uri": "https://localhost:8080/"
        },
        "id": "O54xY7ciGvES",
        "outputId": "b886362f-b132-4563-bc43-049bfea63fe9"
      },
      "execution_count": 2,
      "outputs": [
        {
          "output_type": "stream",
          "name": "stdout",
          "text": [
            "Error: division by zero\n"
          ]
        }
      ]
    },
    {
      "cell_type": "code",
      "source": [
        "a = 10\n",
        "b = 0\n",
        "\n",
        "try:\n",
        "    result = a/b\n",
        "except ZeroDivisionError as e:\n",
        "    print(\"Error:\", e)\n"
      ],
      "metadata": {
        "colab": {
          "base_uri": "https://localhost:8080/"
        },
        "id": "QT3yP1qDHmJ9",
        "outputId": "071cb9d6-711f-45b7-e168-d3dd9f068a50"
      },
      "execution_count": 3,
      "outputs": [
        {
          "output_type": "stream",
          "name": "stdout",
          "text": [
            "Error: division by zero\n"
          ]
        }
      ]
    },
    {
      "cell_type": "markdown",
      "source": [
        "Q4. Why LookupError class is used? Explain with an example KeyError and IndexError.<br>\n",
        "ANS:<br>\n",
        "* The LookupError class in Python is a built-in exception class that is raised when an index or key is not found in a sequence or mapping. This class is a base class for a number of lookup-related exceptions, including:\n",
        "\n",
        "  * IndexError: Raised when trying to access an index that is out of range in a sequence, such as a list or a tuple.\n",
        "  * KeyError: Raised when trying to access a key that is not present in a dictionary or another mapping type."
      ],
      "metadata": {
        "id": "71AandIkHqQd"
      }
    },
    {
      "cell_type": "code",
      "source": [
        "my_list = [1, 2, 3]\n",
        "\n",
        "try:\n",
        "    print(my_list[3])\n",
        "except IndexError as e:\n",
        "    print(\"Error:\", e)\n"
      ],
      "metadata": {
        "colab": {
          "base_uri": "https://localhost:8080/"
        },
        "id": "GRZJC5JKHnxW",
        "outputId": "a164e194-9e6f-4e90-ac2d-2e93ea5b7b9f"
      },
      "execution_count": 4,
      "outputs": [
        {
          "output_type": "stream",
          "name": "stdout",
          "text": [
            "Error: list index out of range\n"
          ]
        }
      ]
    },
    {
      "cell_type": "code",
      "source": [
        "my_dict = {\"a\": 1, \"b\": 2, \"c\": 3}\n",
        "\n",
        "try:\n",
        "    print(my_dict[\"d\"])\n",
        "except KeyError as e:\n",
        "    print(\"Error:\", e)\n"
      ],
      "metadata": {
        "colab": {
          "base_uri": "https://localhost:8080/"
        },
        "id": "MpN92v7DIgqR",
        "outputId": "3c41eedb-101e-4e1a-aa30-f7cb772cc86e"
      },
      "execution_count": 5,
      "outputs": [
        {
          "output_type": "stream",
          "name": "stdout",
          "text": [
            "Error: 'd'\n"
          ]
        }
      ]
    },
    {
      "cell_type": "markdown",
      "source": [
        "Q5. Explain ImportError. What is ModuleNotFoundError?<br>\n",
        "ANS: <br>\n",
        "* ImportError is a built-in exception class in Python that is raised when an imported module or a module attribute cannot be found or loaded.\n",
        "\n",
        "* There are several reasons why an ImportError can occur. Some possible reasons include:\n",
        "\n",
        " * The module name is misspelled or does not exist.\n",
        " * The module is not installed or cannot be found in the Python path.\n",
        " * The module contains syntax errors or other issues that prevent it from being loaded."
      ],
      "metadata": {
        "id": "vzlqIVcNImqQ"
      }
    },
    {
      "cell_type": "markdown",
      "source": [
        "Q6. List down some best practices for exception handling in python.<br>\n",
        "ANS:<br>\n",
        "Here are some best practices for exception handling in Python:\n",
        "<br>\n",
        " * Use specific exception types\n",
        " * Use try-except blocks for expected errors\n",
        " * Use finally blocks for cleanup code\n",
        " * Don't ignore exceptions\n",
        " * Log exceptions\n",
        " * Don't catch all exceptions\n",
        " * Raise exceptions when appropriate\n"
      ],
      "metadata": {
        "id": "gaGDid1-IycM"
      }
    },
    {
      "cell_type": "code",
      "source": [],
      "metadata": {
        "id": "S9pWcR07Ku5j"
      },
      "execution_count": null,
      "outputs": []
    }
  ]
}