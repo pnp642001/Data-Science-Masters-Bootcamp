{
  "nbformat": 4,
  "nbformat_minor": 0,
  "metadata": {
    "colab": {
      "provenance": [],
      "authorship_tag": "ABX9TyMjC3VWCYD2I5qGhj95UGKk",
      "include_colab_link": true
    },
    "kernelspec": {
      "name": "python3",
      "display_name": "Python 3"
    },
    "language_info": {
      "name": "python"
    }
  },
  "cells": [
    {
      "cell_type": "markdown",
      "metadata": {
        "id": "view-in-github",
        "colab_type": "text"
      },
      "source": [
        "<a href=\"https://colab.research.google.com/github/pnp642001/Data-Science-Masters-Bootcamp/blob/main/Assignment_4_03_Feb_2023.ipynb\" target=\"_parent\"><img src=\"https://colab.research.google.com/assets/colab-badge.svg\" alt=\"Open In Colab\"/></a>"
      ]
    },
    {
      "cell_type": "markdown",
      "source": [
        "Q1. Which keyword is used to create a function? Create a function to return a list of odd numbers in the range of 1 to 25.\n",
        "<br>\n",
        "Ans:<br>\n",
        "\n",
        "# def keyword is used to create function\n"
      ],
      "metadata": {
        "id": "wKZRh39F7CVz"
      }
    },
    {
      "cell_type": "code",
      "execution_count": null,
      "metadata": {
        "colab": {
          "base_uri": "https://localhost:8080/"
        },
        "id": "EPO8FING6HoO",
        "outputId": "a603d8f1-d1f1-4bff-fb6c-1199d6ab6821"
      },
      "outputs": [
        {
          "output_type": "stream",
          "name": "stdout",
          "text": [
            "[1, 3, 5, 7, 9, 11, 13, 15, 17, 19, 21, 23, 25]\n"
          ]
        }
      ],
      "source": [
        "\n",
        "def listOfOddNumbers():\n",
        "  list1=[]\n",
        "\n",
        "  for i in range(1,26):\n",
        "    if i%2!=0:\n",
        "      list1.append(i)\n",
        "  \n",
        "  return list1\n",
        "\n",
        "print(listOfOddNumbers())"
      ]
    },
    {
      "cell_type": "markdown",
      "source": [
        "Q2. Why *args and **kwargs is used in some functions? Create a function each for *args and **kwargs to demonstrate their use.\n",
        "\n",
        "ANS:\n",
        "\n",
        "*args in function definitions in python is used to pass a variable number of arguments to a function\n",
        "\n",
        "It is used to pass a non-key worded, variable-length argument list. \n",
        "\n",
        "**kwargs in function definitions in python is used to pass a keyworded, variable-length argument list.\n",
        "\n",
        "*args stores in tuple\n",
        "**kwargs stores in dictionary.\n"
      ],
      "metadata": {
        "id": "GDPFStnA8NBX"
      }
    },
    {
      "cell_type": "code",
      "source": [
        "# for *args\n",
        "\n",
        "def mul(*args):\n",
        "  product=1\n",
        "\n",
        "  for i in args:\n",
        "    product*=i\n",
        "  return product\n",
        "\n",
        "print(mul(1,2,3,4,5,6,7,8,9))\n",
        "print()\n",
        "print(mul(10,20,30))"
      ],
      "metadata": {
        "colab": {
          "base_uri": "https://localhost:8080/"
        },
        "id": "p9pcJMbt7tIp",
        "outputId": "58c1238a-568a-4854-8c3b-8929337cd802"
      },
      "execution_count": null,
      "outputs": [
        {
          "output_type": "stream",
          "name": "stdout",
          "text": [
            "362880\n",
            "\n",
            "6000\n"
          ]
        }
      ]
    },
    {
      "cell_type": "code",
      "source": [
        "def kwarg_function(**kid):\n",
        "  print(\"His first name is \" + kid[\"fname\"])\n",
        "\n",
        "kwarg_function(fname = \"Tom\", lname=\"Nathan\")"
      ],
      "metadata": {
        "colab": {
          "base_uri": "https://localhost:8080/"
        },
        "id": "4JeiDXV49mji",
        "outputId": "819ec744-bd5d-4d12-c7e0-15047e8530d1"
      },
      "execution_count": null,
      "outputs": [
        {
          "output_type": "stream",
          "name": "stdout",
          "text": [
            "His first name is Tom\n"
          ]
        }
      ]
    },
    {
      "cell_type": "markdown",
      "source": [
        "Q3. What is an iterator in python? Name the method used to initialise the iterator object and the method\n",
        "used for iteration. Use these methods to print the first five elements of the given list [2, 4, 6, 8, 10, 12, 14,\n",
        "16, 18, 20].\n",
        "\n",
        "ANS:\n",
        "\n",
        "An iterator is an object which can be iterated upon and it contains a countable number of values which can be traversed.\n",
        "\n",
        "iter() --> used to initialise the iterator\n",
        "\n",
        "next() --> used to iterate the object\n"
      ],
      "metadata": {
        "id": "KLE_xBET_bjz"
      }
    },
    {
      "cell_type": "code",
      "source": [
        "list1=[2,4,6,8,10,12,14,16,18,20]\n",
        "\n",
        "iterate=iter(list1)\n",
        "\n",
        "for i in range(0,5):\n",
        "  print(next(iterate))"
      ],
      "metadata": {
        "colab": {
          "base_uri": "https://localhost:8080/"
        },
        "id": "Q6q-Rnol96h6",
        "outputId": "e431e37c-28eb-4af0-cc88-4fdf698a6e0a"
      },
      "execution_count": null,
      "outputs": [
        {
          "output_type": "stream",
          "name": "stdout",
          "text": [
            "2\n",
            "4\n",
            "6\n",
            "8\n",
            "10\n"
          ]
        }
      ]
    },
    {
      "cell_type": "markdown",
      "source": [
        "Q4. What is a generator function in python? Why yield keyword is used? Give an example of a generator function.\n",
        "\n",
        "ANS:\n",
        "\n",
        "Generator function allows the user to declare a function that behaves likes an iterator, allowing programmers to make an iterator in a fast, easy, and clean way. It is a special type of function\n",
        "\n",
        "yield is a reserved keyword which is used to create a generator function.\n",
        "The yield keyword in Python is similar to a return statement used for returning values or objects in Python. However, there is a slight difference. The yield statement returns a generator object to the one who calls the function which contains yield, instead of simply returning a value\n",
        "\n",
        "\n"
      ],
      "metadata": {
        "id": "3ZuvFccQSciF"
      }
    },
    {
      "cell_type": "code",
      "source": [
        "def test_generator(num):\n",
        "  a=0\n",
        "  b=1\n",
        "  for i in range(num):\n",
        "    yield a\n",
        "    a,b=b,a+b\n",
        "\n",
        "\n",
        "test_generator(20)"
      ],
      "metadata": {
        "id": "BpPBj9xJANEq",
        "colab": {
          "base_uri": "https://localhost:8080/"
        },
        "outputId": "230a182c-d159-4d3a-f0c2-791aef69e381"
      },
      "execution_count": 1,
      "outputs": [
        {
          "output_type": "execute_result",
          "data": {
            "text/plain": [
              "<generator object test_generator at 0x7f5b6abc46d0>"
            ]
          },
          "metadata": {},
          "execution_count": 1
        }
      ]
    },
    {
      "cell_type": "code",
      "source": [
        "for data in test_generator(6):\n",
        "  print(data)"
      ],
      "metadata": {
        "colab": {
          "base_uri": "https://localhost:8080/"
        },
        "id": "gtBFza33UiBl",
        "outputId": "ebfa3862-1e9e-4445-d77c-bb163d6152c9"
      },
      "execution_count": 2,
      "outputs": [
        {
          "output_type": "stream",
          "name": "stdout",
          "text": [
            "0\n",
            "1\n",
            "1\n",
            "2\n",
            "3\n",
            "5\n"
          ]
        }
      ]
    },
    {
      "cell_type": "markdown",
      "source": [
        "Q5. Create a generator function for prime numbers less than 1000. Use the next() method to print the\n",
        "first 20 prime numbers."
      ],
      "metadata": {
        "id": "hkPqN0rZUyOi"
      }
    },
    {
      "cell_type": "code",
      "source": [
        "import math\n",
        "def generator_prime():\n",
        "\n",
        "  n=1\n",
        "  while True:\n",
        "    isPrime=True\n",
        "    n+=1\n",
        "    for i in range(2,int(math.sqrt(n))+1):\n",
        "      if n%i==0:\n",
        "        isPrime=False\n",
        "        break\n",
        "    \n",
        "    if isPrime:\n",
        "      yield n\n",
        "\n",
        "iterator_prime=generator_prime()\n",
        "\n",
        "for i in range(20):\n",
        "  print(next(iterator_prime),end=\" \")"
      ],
      "metadata": {
        "colab": {
          "base_uri": "https://localhost:8080/"
        },
        "id": "X_MOqkOUUt_Z",
        "outputId": "dfafc590-686b-48a2-908a-1d7514d664cb"
      },
      "execution_count": 11,
      "outputs": [
        {
          "output_type": "stream",
          "name": "stdout",
          "text": [
            "2 3 5 7 11 13 17 19 23 29 31 37 41 43 47 53 59 61 67 71 "
          ]
        }
      ]
    },
    {
      "cell_type": "markdown",
      "source": [
        "Q6. Write a python program to print the first 10 Fibonacci numbers using a while loop."
      ],
      "metadata": {
        "id": "rVHzHGcUVL9Q"
      }
    },
    {
      "cell_type": "code",
      "source": [
        "def generator_fibonacci():\n",
        "  a=0\n",
        "  b=1\n",
        "  while True:\n",
        "    yield a\n",
        "    a,b=b,a+b\n",
        "\n",
        "iterator=generator_fibonacci()\n",
        "for data in range(10):\n",
        "\n",
        "  print(next(iterator),end=\" \")\n",
        "  \n"
      ],
      "metadata": {
        "colab": {
          "base_uri": "https://localhost:8080/"
        },
        "id": "IhhW9ptVVMnl",
        "outputId": "948b917e-b794-41f1-bd79-f3201566abff"
      },
      "execution_count": 6,
      "outputs": [
        {
          "output_type": "stream",
          "name": "stdout",
          "text": [
            "0 1 1 2 3 5 8 13 21 34 "
          ]
        }
      ]
    },
    {
      "cell_type": "markdown",
      "source": [
        "Q7. Write a List Comprehension to iterate through the given string: ‘pwskills’.\n",
        "Expected output: ['p', 'w', 's', 'k', 'i', 'l', 'l', 's']"
      ],
      "metadata": {
        "id": "BbEE_FYdjUjc"
      }
    },
    {
      "cell_type": "code",
      "source": [
        "\n",
        "ans=[ele for ele in \"pwskills\"]\n",
        "\n",
        "print(ans)"
      ],
      "metadata": {
        "colab": {
          "base_uri": "https://localhost:8080/"
        },
        "id": "DCwvm2ULVdbF",
        "outputId": "dcea7074-7c1b-43c4-bc06-282b5627cfcd"
      },
      "execution_count": 12,
      "outputs": [
        {
          "output_type": "stream",
          "name": "stdout",
          "text": [
            "['p', 'w', 's', 'k', 'i', 'l', 'l', 's']\n"
          ]
        }
      ]
    },
    {
      "cell_type": "markdown",
      "source": [
        "Q8. Write a python program to check whether a given number is Palindrome or not using a while loop."
      ],
      "metadata": {
        "id": "sYwP__yejg6r"
      }
    },
    {
      "cell_type": "code",
      "source": [
        "num=int(input(\"Enter the number: \"))\n",
        "x=num\n",
        "temp=0\n",
        "rem=0\n",
        "while (x>0):\n",
        "  rem=x%10\n",
        "  temp=10*temp+rem\n",
        "  x=x//10\n",
        "\n",
        "if temp == num:\n",
        "  print(\"The number {} is palindrome!\".format(num))\n",
        "else:\n",
        "  print(\"The number is not palindrome\")\n",
        "\n"
      ],
      "metadata": {
        "colab": {
          "base_uri": "https://localhost:8080/"
        },
        "id": "38qO6EGcjbgC",
        "outputId": "665111cb-e443-4069-adbf-6838f135408c"
      },
      "execution_count": 21,
      "outputs": [
        {
          "output_type": "stream",
          "name": "stdout",
          "text": [
            "Enter the number: 1221\n",
            "The number 1221 is palindrome!\n"
          ]
        }
      ]
    },
    {
      "cell_type": "markdown",
      "source": [
        "Q9. Write a code to print odd numbers from 1 to 100 using list comprehension.\n",
        "Note: Use a list comprehension to create a list from 1 to 100 and use another List comprehension to filter\n",
        "out odd numbers."
      ],
      "metadata": {
        "id": "6Ga5m8ePlZbP"
      }
    },
    {
      "cell_type": "code",
      "source": [
        "list_1=[ele for ele in range(1,101)]\n",
        "\n",
        "ans=[ele for ele in list_1 if ele%2!=0]\n",
        "\n",
        "print(ans)"
      ],
      "metadata": {
        "colab": {
          "base_uri": "https://localhost:8080/"
        },
        "id": "MqlHOC7ok4BQ",
        "outputId": "6a9aca3c-2f0a-4970-f255-14bac80157cd"
      },
      "execution_count": 24,
      "outputs": [
        {
          "output_type": "stream",
          "name": "stdout",
          "text": [
            "[1, 3, 5, 7, 9, 11, 13, 15, 17, 19, 21, 23, 25, 27, 29, 31, 33, 35, 37, 39, 41, 43, 45, 47, 49, 51, 53, 55, 57, 59, 61, 63, 65, 67, 69, 71, 73, 75, 77, 79, 81, 83, 85, 87, 89, 91, 93, 95, 97, 99]\n"
          ]
        }
      ]
    }
  ]
}