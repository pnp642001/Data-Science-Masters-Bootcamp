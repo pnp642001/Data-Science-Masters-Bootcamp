{
  "nbformat": 4,
  "nbformat_minor": 0,
  "metadata": {
    "colab": {
      "provenance": [],
      "authorship_tag": "ABX9TyNcgW2xhiQWa9layGw8jihm",
      "include_colab_link": true
    },
    "kernelspec": {
      "name": "python3",
      "display_name": "Python 3"
    },
    "language_info": {
      "name": "python"
    }
  },
  "cells": [
    {
      "cell_type": "markdown",
      "metadata": {
        "id": "view-in-github",
        "colab_type": "text"
      },
      "source": [
        "<a href=\"https://colab.research.google.com/github/pnp642001/Data-Science-Masters-Bootcamp/blob/main/March_07_2023_Assignment_Statistics_Bascis.ipynb\" target=\"_parent\"><img src=\"https://colab.research.google.com/assets/colab-badge.svg\" alt=\"Open In Colab\"/></a>"
      ]
    },
    {
      "cell_type": "markdown",
      "source": [
        "Q1. What are the three measures of central tendency?<br>\n",
        "ANS:<br>\n",
        "**1. MEAN  2. MEDIAN  3. MODE**"
      ],
      "metadata": {
        "id": "6PSk2lGRi9kR"
      }
    },
    {
      "cell_type": "markdown",
      "source": [
        "Q2. What is the difference between the mean, median, and mode? How are they used to measure the\n",
        "central tendency of a dataset?<br>\n",
        "ANS:<br>\n",
        "The mean is the sum of all the values in a dataset divided by the number of observations. It represents the average value of the dataset and is sensitive to outliers. The mean is calculated by adding all the values together and dividing by the number of observations. It can be used to provide a sense of the typical value of a dataset.\n",
        "\n",
        "The median is the middle value in a dataset when the values are arranged in numerical order. It is a measure of central tendency that is not influenced by outliers. If the dataset has an even number of observations, the median is the average of the two middle values. The median is used to provide a sense of the middle value of a dataset.\n",
        "\n",
        "The mode is the value that occurs most frequently in a dataset. It represents the most common value in the dataset. The mode can be used to provide a sense of the most typical value of a dataset.\n",
        "\n",
        "Each measure of central tendency is useful in different situations. The mean is typically used when the dataset is normally distributed and there are no extreme outliers. The median is used when the dataset is skewed or has extreme outliers. The mode is used when the dataset is categorical or discrete."
      ],
      "metadata": {
        "id": "qpoM1az-jF7l"
      }
    },
    {
      "cell_type": "markdown",
      "source": [
        "Q3. Measure the three measures of central tendency for the given height data:\n",
        "[178,177,176,177,178.2,178,175,179,180,175,178.9,176.2,177,172.5,178,176.5]"
      ],
      "metadata": {
        "id": "XKBV-fbjjcgV"
      }
    },
    {
      "cell_type": "code",
      "execution_count": 9,
      "metadata": {
        "colab": {
          "base_uri": "https://localhost:8080/"
        },
        "id": "MorVD22QfXzo",
        "outputId": "b0509bcd-fa0a-40f4-84d3-eca479e4762e"
      },
      "outputs": [
        {
          "output_type": "stream",
          "name": "stdout",
          "text": [
            "Mean:  177.01875\n",
            "Median:  177.0\n",
            "Mode:         0\n",
            "0  177.0\n",
            "1  178.0\n"
          ]
        }
      ],
      "source": [
        "import pandas as pd\n",
        "data_1=[178,177,176,177,178.2,178,175,179,180,175,178.9,176.2,177,172.5,178,176.5]\n",
        "df_1=pd.DataFrame(data_1)\n",
        "\n",
        "mean=float(df_1.mean())\n",
        "median=float(df_1.median())\n",
        "mode=df_1.mode()\n",
        "\n",
        "print(\"Mean: \",mean)\n",
        "print(\"Median: \",median)\n",
        "print(\"Mode: \",mode)"
      ]
    },
    {
      "cell_type": "markdown",
      "source": [
        "Q4. Find the standard deviation for the given data:\n",
        "[178,177,176,177,178.2,178,175,179,180,175,178.9,176.2,177,172.5,178,176.5]"
      ],
      "metadata": {
        "id": "s2R6Zku2kYDQ"
      }
    },
    {
      "cell_type": "code",
      "source": [
        "data_2=[178,177,176,177,178.2,178,175,179,180,175,178.9,176.2,177,172.5,178,176.5]\n",
        "df_2=pd.DataFrame(data_2)\n",
        "\n",
        "print(float(df_2.std()))"
      ],
      "metadata": {
        "colab": {
          "base_uri": "https://localhost:8080/"
        },
        "id": "mWof_5Hbjngs",
        "outputId": "418ca3b2-70b6-4112-92e6-bbfbe9a4e707"
      },
      "execution_count": 11,
      "outputs": [
        {
          "output_type": "stream",
          "name": "stdout",
          "text": [
            "1.847238930584419\n"
          ]
        }
      ]
    },
    {
      "cell_type": "markdown",
      "source": [
        "Q5. How are measures of dispersion such as range, variance, and standard deviation used to describe\n",
        "the spread of a dataset? Provide an example.<br>\n",
        "ANS:<br>\n",
        "Range is the difference between the maximum and minimum values in a dataset. It is a simple measure of dispersion that gives an idea of how much the data varies. For example, if we have a dataset of exam scores ranging from 60 to 100, the range would be 40.\n",
        "\n",
        "Variance is the average of the squared differences from the mean. It tells us how much the data points are spread out from the mean. A high variance indicates that the data is more spread out, while a low variance indicates that the data is more tightly clustered around the mean.\n",
        "\n",
        "Standard deviation is the square root of the variance. It is a commonly used measure of dispersion that gives an idea of how much the data deviates from the mean. A high standard deviation indicates that the data is more spread out, while a low standard deviation indicates that the data is more tightly clustered around the mean.\n",
        "\n",
        "For example, suppose we have a dataset of salaries for a group of employees in a company. The mean salary is 50,000 and the standard deviation is 10,000. This indicates that the salaries are spread out around the mean, with some employees earning significantly more or less than the average salary of 50,000. If the standard deviation were much lower, say 1,000, then the salaries would be more tightly clustered around the mean, with less variation between employees' salaries."
      ],
      "metadata": {
        "id": "Us6tNEAAkmq5"
      }
    },
    {
      "cell_type": "markdown",
      "source": [
        "Q6. What is a Venn diagram?<br>\n",
        "ANS:<br>\n",
        "A Venn diagram is a graphical representation of set theory, used to visually illustrate the relationship between sets. It consists of overlapping circles or ellipses, with each circle representing a set and the overlap representing the elements that belong to both sets. Venn diagrams are commonly used in mathematics, statistics, logic, and computer science to help analyze and solve problems involving sets and their intersections. They are also used in various fields to visualize complex relationships between groups, categories, and attributes."
      ],
      "metadata": {
        "id": "BKk8dLjMk6z-"
      }
    },
    {
      "cell_type": "markdown",
      "source": [
        "Q7. For the two given sets A = (2,3,4,5,6,7) & B = (0,2,6,8,10). Find:<br>\n",
        "(i) A ∩ B<br>\n",
        "(ii) A ⋃ B<br>\n",
        "ANS:<br>\n",
        "A ∩ B = {2}<br>\n",
        "A ∪ B = {0, 2, 3, 4, 5, 6, 7, 8, 10}"
      ],
      "metadata": {
        "id": "yzeZhZQglDsK"
      }
    },
    {
      "cell_type": "markdown",
      "source": [
        "Q8. What do you understand about skewness in data?<br>\n",
        "ANS:<br>\n",
        "Skewness is a measure of the asymmetry of the probability distribution of a random variable. It is a statistical parameter that measures the deviation of a given dataset from a normal distribution. In a perfectly symmetrical distribution, the mean, median, and mode are all the same, and the skewness is zero. However, when the distribution is not symmetrical, the skewness will be non-zero, indicating the direction and degree of asymmetry. A positive skewness means that the tail of the distribution is longer on the right-hand side, and a negative skewness means that the tail is longer on the left-hand side. Skewness is an important measure in statistics as it helps to identify any deviation of data from the normal distribution and helps to understand the shape of the distribution of the data."
      ],
      "metadata": {
        "id": "8nFBGVC6lXxZ"
      }
    },
    {
      "cell_type": "markdown",
      "source": [
        "Q9. If a data is right skewed then what will be the position of median with respect to mean?<br>\n",
        "ANS:<br>\n",
        "If a data is right skewed, then the median will be less than the mean. This is because the long tail of the right-skewed data pulls the mean in its direction, making it higher than the median."
      ],
      "metadata": {
        "id": "ytoSosj5linf"
      }
    },
    {
      "cell_type": "markdown",
      "source": [
        "Q10. Explain the difference between covariance and correlation. How are these measures used in\n",
        "statistical analysis?<br>\n",
        "ANS:<br>\n",
        "Covariance and correlation are both measures of the relationship between two variables.\n",
        "\n",
        "Covariance measures how two variables vary together. It is a measure of the direction of the linear relationship between two variables, as well as the magnitude of their association. A positive covariance indicates that two variables tend to vary together in the same direction, while a negative covariance indicates that they vary in opposite directions. However, the value of covariance is dependent on the scales of the variables, making it difficult to compare covariances between variables measured in different units.\n",
        "\n",
        "On the other hand, correlation measures the strength and direction of the linear relationship between two variables, but it is scaled to always fall between -1 and 1. A correlation coefficient of 1 indicates a perfect positive linear relationship, a coefficient of -1 indicates a perfect negative linear relationship, and a coefficient of 0 indicates no linear relationship. Correlation is a standardized version of covariance and can be compared between variables measured on different scales.\n",
        "\n",
        "Both covariance and correlation are used in statistical analysis to determine the relationship between two variables. However, correlation is typically preferred over covariance because it provides a more standardized measure of the strength of the relationship that is not dependent on the scales of the variables."
      ],
      "metadata": {
        "id": "8M_h2nkploVn"
      }
    },
    {
      "cell_type": "markdown",
      "source": [
        "Q11. What is the formula for calculating the sample mean? Provide an example calculation for a\n",
        "dataset.<br>\n",
        "ANS:<br>\n",
        "x̄ = ( Σ xi )/ n<br>\n",
        "As an example, suppose we have the following dataset of exam scores: 85, 90, 75, 92, 88, 80. To find the sample mean, we would first add up all the values:\n",
        "\n",
        "85 + 90 + 75 + 92 + 88 + 80 = 510\n",
        "\n",
        "Then, we would divide the sum by the total number of values in the dataset:\n",
        "\n",
        "x̄ = 510 / 6 = 85"
      ],
      "metadata": {
        "id": "Pa3kiyfll0jm"
      }
    },
    {
      "cell_type": "markdown",
      "source": [
        "Q12. For a normal distribution data what is the relationship between its measure of central tendency?<br>\n",
        "ANS:<br>\n",
        "For a normal distribution data, the mean, median, and mode are equal to each other. This means that the measure of central tendency are same for a normal distribution. Additionally, the normal distribution has a symmetric bell-shaped curve, with half of the data lying on either side of the mean.\n"
      ],
      "metadata": {
        "id": "NYTXML5FmINX"
      }
    },
    {
      "cell_type": "markdown",
      "source": [
        "Q13. How is covariance different from correlation?<br>\n",
        "ANS:<br>\n",
        "Covariance measures the direction and strength of the linear relationship between two variables. It can take on any value, positive or negative, and its magnitude indicates the strength of the relationship. However, the scale of covariance is not standardized, making it difficult to compare covariances across different datasets or variables"
      ],
      "metadata": {
        "id": "nTJrWCuDmQa-"
      }
    },
    {
      "cell_type": "markdown",
      "source": [
        "Q14. How do outliers affect measures of central tendency and dispersion? Provide an example.<br>\n",
        "ANS:<br>\n",
        "Outliers can have a significant impact on measures of central tendency and dispersion. An outlier is an observation that is significantly different from other observations in the dataset. When outliers are present in a dataset, they can skew the distribution of the data, which in turn affects the measures of central tendency and dispersion.\n",
        "\n",
        "For example, consider the following dataset of test scores:\n",
        "\n",
        "80, 85, 90, 95, 100, 105, 110\n",
        "\n",
        "The mean of this dataset is:\n",
        "\n",
        "(80+85+90+95+100+105+110)/7 = 94.3\n",
        "\n",
        "However, if an outlier is added to this dataset:\n",
        "\n",
        "80, 85, 90, 95, 100, 105, 110, 150\n",
        "\n",
        "The mean of the dataset now becomes:\n",
        "\n",
        "(80+85+90+95+100+105+110+150)/8 = 101.25\n",
        "\n",
        "The presence of the outlier has increased the mean, indicating that the dataset has a higher central tendency than it actually does.\n",
        "\n",
        "Outliers can also affect measures of dispersion such as the range, variance, and standard deviation. The presence of outliers can increase the range, which is the difference between the largest and smallest values in the dataset. This can make the dispersion appear greater than it actually is.\n",
        "\n",
        "Similarly, outliers can affect the variance and standard deviation, which are measures of the spread of the data around the mean. If an outlier is present, the variance and standard deviation may be larger than they would be without the outlier, again making the dispersion appear greater than it actually is.\n",
        "\n",
        "\n",
        "\n"
      ],
      "metadata": {
        "id": "9P2B1qVpmZ0u"
      }
    }
  ]
}