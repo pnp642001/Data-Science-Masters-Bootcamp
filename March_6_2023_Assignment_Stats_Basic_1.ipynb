{
  "nbformat": 4,
  "nbformat_minor": 0,
  "metadata": {
    "colab": {
      "provenance": [],
      "authorship_tag": "ABX9TyPh5wVAxgarprMFdy0wg7Vi",
      "include_colab_link": true
    },
    "kernelspec": {
      "name": "python3",
      "display_name": "Python 3"
    },
    "language_info": {
      "name": "python"
    }
  },
  "cells": [
    {
      "cell_type": "markdown",
      "metadata": {
        "id": "view-in-github",
        "colab_type": "text"
      },
      "source": [
        "<a href=\"https://colab.research.google.com/github/pnp642001/Data-Science-Masters-Bootcamp/blob/main/March_6_2023_Assignment_Stats_Basic_1.ipynb\" target=\"_parent\"><img src=\"https://colab.research.google.com/assets/colab-badge.svg\" alt=\"Open In Colab\"/></a>"
      ]
    },
    {
      "cell_type": "markdown",
      "source": [
        "Q1. What is Statistics?<br>\n",
        "ANS:<br>\n",
        "statistics is a science of collecting, organizing and analyzing the data. In other way, we can say that statistics is the branch of mathematics that deals with the collection, analysis, interpretation, presentation, and organization of data. It involves the use of various techniques to extract meaning from data, make predictions and draw conclusions about populations or samples. It is widely used in different fields such as business, medicine, economics, social sciences, and many more to help understand trends, make decisions, and solve problems."
      ],
      "metadata": {
        "id": "huVtar4JClsw"
      }
    },
    {
      "cell_type": "markdown",
      "source": [
        "Q2. Define the different types of statistics and give an example of when each type might be used.<br>\n",
        "ANS:<br>\n",
        "There are two main types of statistics: descriptive and inferential.\n",
        "<br>\n",
        "**Descriptive Statistics** <br>\n",
        "\n",
        "These are used to describe and summarize data in a way that allows us to understand its main characteristics, such as its central tendency, variability, and shape. Examples of descriptive statistics include mean, median, mode, range, standard deviation, and variance. For example, if we wanted to understand the average income of a group of people, we could use the mean income to summarize the data.\n",
        "\n",
        "\n",
        "**Inferential Statistics**<br>\n",
        " These are used to make generalizations about a larger population based on a smaller sample of data. Inferential statistics involve testing hypotheses and making inferences about the population based on sample data. Examples of inferential statistics include hypothesis testing, confidence intervals, and regression analysis. For example, if we wanted to test whether a new drug is effective in reducing blood pressure, we would conduct a clinical trial on a sample of patients and use inferential statistics to generalize the results to the larger population.\n",
        "\n",
        "\n",
        "**In short, descriptive stats means organizing and summarizing the data. While inferential stats means using the data to conclude a hypothesis**"
      ],
      "metadata": {
        "id": "4hQ1-fp6C6Yh"
      }
    },
    {
      "cell_type": "markdown",
      "source": [
        "Q3. What are the different types of data and how do they differ from each other? Provide an example of\n",
        "each type of data.<br>\n",
        "ANS:<br>\n",
        "There are broadly 2 types of data:\n",
        "1. Quantitative Data\n",
        "2. Qualitative Data\n",
        "\n",
        "**Quantitative data mainly deals with numerical values, while qualitative data deals with categorical values**\n",
        "\n",
        "1. Quantitative data is data that can be measured or expressed numerically. There are two types of quantitative data:\n",
        "\n",
        " * Discrete data: \n",
        "Discrete data consists of separate, distinct values that cannot be divided into smaller units. These values are usually whole numbers and are often counted. Examples of discrete data include the number of students in a classroom, the number of cars in a parking lot, or the number of goals scored in a soccer match.\n",
        "\n",
        " * Continuous data: Continuous data is data that can take on any value within a certain range. These values are usually measured and can include decimal points. Examples of continuous data include weight, height, temperature, or time.\n",
        "\n",
        "\n",
        "2. Qualitative data refers to non-numerical data that is observed and recorded based on characteristics or attributes. There are two types of qualitative data:\n",
        "\n",
        " * Nominal Data: Nominal data are categorical data without any intrinsic order. It uses labels or names to identify different categories of data. For example, gender (male, female), eye color (blue, brown, green), types of fruits (apple, banana, orange).\n",
        "\n",
        " * Ordinal Data: Ordinal data are categorical data with a natural ordering or ranking of the categories. It uses labels or names to identify different categories of data, but the categories have an order. For example, level of education (primary, secondary, tertiary), star rating (1 star, 2 stars, 3 stars, 4 stars, 5 stars), letter grades (A, B, C, D, F)."
      ],
      "metadata": {
        "id": "LZ-7EX7DD0Bm"
      }
    },
    {
      "cell_type": "markdown",
      "source": [
        "Q4. Categorise the following datasets with respect to quantitative and qualitative data types:\n",
        "\n",
        "\n",
        "\n",
        "(i) Grading in exam: A+, A, B+, B, C+, C, D, E --> **qualitative Data**\n",
        "\n",
        "\n",
        "(ii) Colour of mangoes: yellow, green, orange, red --> **qualitative Data**\n",
        "\n",
        "\n",
        "(iii) Height data of a class: [178.9, 179, 179.5, 176, 177.2, 178.3, 175.8,...] --> **quantitative Data**\n",
        "\n",
        "\n",
        "(iv) Number of mangoes exported by a farm: [500, 600, 478, 672, ...]  --> **quantitative Data**"
      ],
      "metadata": {
        "id": "DbnjK0keE2Ls"
      }
    },
    {
      "cell_type": "markdown",
      "source": [
        "Q5. Explain the concept of levels of measurement and give an example of a variable for each level.<br>\n",
        "ANS:<br>\n",
        "\n",
        "The levels of measurement, also known as scales of measurement, refer to the different ways data can be measured and categorized. There are four levels of measurement: nominal, ordinal, interval, and ratio.\n",
        "\n",
        "* Nominal: T\n",
        "\n",
        "This is the lowest level of measurement and refers to data that is categorized or labeled without any inherent order. Examples of nominal variables include gender (male, female) and blood type (A, B, AB, O).\n",
        "\n",
        "\n",
        "* Ordinal: \n",
        "\n",
        "This level of measurement involves data that can be put in a specific order or rank, but the intervals between values are not equal. Examples of ordinal variables include socioeconomic status (low, middle, high) and educational level (elementary, high school, college, graduate).\n",
        "\n",
        "\n",
        "* Interval: \n",
        "\n",
        "This level of measurement involves data that can be ordered and the intervals between values are equal, but there is no true zero point. An example of an interval variable is temperature, where 0 degrees does not indicate a complete absence of heat, but rather the freezing point of water.\n",
        "\n",
        "\n",
        "* Ratio: \n",
        "\n",
        "This is the highest level of measurement and involves data that can be ordered, the intervals between values are equal, and there is a true zero point. Examples of ratio variables include height, weight, and income."
      ],
      "metadata": {
        "id": "jibHe73sHmqK"
      }
    },
    {
      "cell_type": "markdown",
      "source": [
        "Q6. Why is it important to understand the level of measurement when analyzing data? Provide an\n",
        "example to illustrate your answer.<br>\n",
        "ANS:<br>\n",
        "Understanding the level of measurement is important when analyzing data because it determines the types of statistical analysis and visualizations that can be used. For example, nominal data cannot be used for calculations such as mean or standard deviation as the data points cannot be ordered, whereas interval data can be used for these calculations as the data points have a numerical value and can be ordered.\n",
        "\n",
        "Let's take an example of a survey that asks participants to rate their level of satisfaction with a product on a scale of 1 to 5. If we treat this as nominal data, we can only count the number of participants who gave each rating, but cannot perform any calculations on the data. However, if we treat this as ordinal data, we can calculate the median rating, but cannot calculate the mean or standard deviation. If we treat this as interval data, we can calculate the mean rating and the standard deviation, and perform more advanced statistical analysis. Thus, understanding the level of measurement is crucial for selecting appropriate statistical techniques to analyze data."
      ],
      "metadata": {
        "id": "hwVyGnheIV2i"
      }
    },
    {
      "cell_type": "markdown",
      "source": [
        "Q7. How nominal data type is different from ordinal data type.<br>\n",
        "ANS:<br>\n",
        "Nominal data and ordinal data are both types of categorical data, but they differ in terms of the level of measurement and the type of information they provide.\n",
        "\n",
        "Nominal data is the lowest level of measurement, where data is categorized into non-ordered classes or groups. In nominal data, the categories do not have any inherent order or ranking. For example, gender (male or female), eye color (blue, brown, green), or type of car (sedan, SUV, truck) are all examples of nominal data. Nominal data can be represented using frequency tables and mode is the only measure of central tendency that can be used for nominal data.\n",
        "\n",
        "On the other hand, ordinal data is the second level of measurement where data can be placed in a specific order or ranking. However, the difference between the values cannot be determined or quantified. Examples of ordinal data include rankings (1st, 2nd, 3rd, etc.), ratings (poor, average, good, excellent), or level of satisfaction (low, medium, high). In ordinal data, we can use the median and mode as measures of central tendency, but we cannot use the mean since the values cannot be quantified.\n",
        "\n",
        "In summary, the main difference between nominal and ordinal data is that nominal data is non-ordered while ordinal data has a specific order or ranking."
      ],
      "metadata": {
        "id": "ZTX0u5fJIkXC"
      }
    },
    {
      "cell_type": "markdown",
      "source": [
        "Q8. Which type of plot can be used to display data in terms of range?<br>\n",
        "ANS:<br>\n",
        "A box plot, also known as a box-and-whisker plot, is a type of plot that can be used to display data in terms of range. "
      ],
      "metadata": {
        "id": "U78EkJdhJDhq"
      }
    },
    {
      "cell_type": "markdown",
      "source": [
        "Q9. Describe the difference between descriptive and inferential statistics. Give an example of each\n",
        "type of statistics and explain how they are used.<br>\n",
        "ANS:<br>\n",
        "Descriptive statistics involves summarizing and describing the characteristics of a dataset using numerical measures such as mean, median, mode, standard deviation, and variance, among others. The purpose of descriptive statistics is to provide a summary of the dataset in order to understand the central tendency, variability, and distribution of the data. For example, calculating the mean and standard deviation of test scores for a group of students provides a summary of the overall performance of the group.\n",
        "\n",
        "Inferential statistics involves using sample data to make generalizations about a population. It involves using probability theory to make statements about the characteristics of a population based on a sample of data. The purpose of inferential statistics is to draw conclusions and make predictions about a population using limited data. For example, if a researcher wants to know if a new drug is effective in treating a particular illness, they can conduct a study using a sample of patients and then use inferential statistics to generalize the results to the larger population of patients with the same illness."
      ],
      "metadata": {
        "id": "i_nygPgDJbA5"
      }
    },
    {
      "cell_type": "markdown",
      "source": [
        "Q10. What are some common measures of central tendency and variability used in statistics? Explain\n",
        "how each measure can be used to describe a dataset.<br>\n",
        "ANS:<br>\n",
        "Measures of central tendency and variability are important descriptive statistics used to describe the distribution of a dataset. Some common measures of central tendency and variability are:\n",
        "\n",
        "* Mean: The mean is the average of a set of values. It is calculated by adding up all the values and dividing by the number of values. The mean is often used to describe the \"typical\" value in a dataset.\n",
        "\n",
        "\n",
        "* Median: The median is the middle value in a dataset. It is calculated by arranging the values in order and finding the value that is exactly in the middle. The median is often used to describe the \"typical\" value when the dataset has extreme values or outliers.\n",
        "\n",
        "\n",
        "* Mode: The mode is the value that occurs most frequently in a dataset. It is often used to describe the most common value in a dataset.\n",
        "\n",
        "\n",
        "* Range: The range is the difference between the highest and lowest values in a dataset. It is often used to describe the spread of a dataset.\n",
        "\n",
        "\n",
        "* Variance: The variance is a measure of how spread out the values in a dataset are. It is calculated by taking the difference between each value and the mean, squaring those differences, adding them up, and dividing by the number of values minus one. A high variance indicates that the values in the dataset are spread out over a wide range.\n",
        "\n",
        "\n",
        "* Standard deviation: The standard deviation is another measure of how spread out the values in a dataset are. It is the square root of the variance. The standard deviation is often used to describe the spread of a dataset in terms of how far the values are from the mean."
      ],
      "metadata": {
        "id": "XdOxvqt4JhGZ"
      }
    }
  ]
}