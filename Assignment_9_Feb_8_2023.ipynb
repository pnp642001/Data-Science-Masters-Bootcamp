{
  "nbformat": 4,
  "nbformat_minor": 0,
  "metadata": {
    "colab": {
      "provenance": [],
      "authorship_tag": "ABX9TyMjpfQEWbJFzcLLKt23onsn",
      "include_colab_link": true
    },
    "kernelspec": {
      "name": "python3",
      "display_name": "Python 3"
    },
    "language_info": {
      "name": "python"
    }
  },
  "cells": [
    {
      "cell_type": "markdown",
      "metadata": {
        "id": "view-in-github",
        "colab_type": "text"
      },
      "source": [
        "<a href=\"https://colab.research.google.com/github/pnp642001/Data-Science-Masters-Bootcamp/blob/main/Assignment_9_Feb_8_2023.ipynb\" target=\"_parent\"><img src=\"https://colab.research.google.com/assets/colab-badge.svg\" alt=\"Open In Colab\"/></a>"
      ]
    },
    {
      "cell_type": "markdown",
      "source": [
        "Q1. What is Abstraction in OOps? Explain with an example.\n",
        "<br>\n",
        "ANS: <br>\n",
        "* Abstraction is a process of handling complexity by hiding unnecessary information from the user. <br>\n",
        "* The main purpose of abstraction is hiding the unnecessary details from the users.<br>\n",
        "* Abstraction can be done with the help of abstract classes and methods."
      ],
      "metadata": {
        "id": "B05chgyoBZrP"
      }
    },
    {
      "cell_type": "code",
      "execution_count": 2,
      "metadata": {
        "colab": {
          "base_uri": "https://localhost:8080/"
        },
        "id": "Bfl3MSqC_CVW",
        "outputId": "9dc90983-4f63-477a-e81b-779a629946d1"
      },
      "outputs": [
        {
          "output_type": "stream",
          "name": "stdout",
          "text": [
            "The mileage is 40kmph\n",
            "The mileage is 20kmph \n",
            "The mileage is 25kmph \n",
            "The mileage is 10kmph \n"
          ]
        }
      ],
      "source": [
        "from abc import ABC, abstractmethod   \n",
        "class Car(ABC):   \n",
        "    def mileage(self):   \n",
        "        pass  \n",
        "  \n",
        "class Tesla(Car):   \n",
        "    def mileage(self):   \n",
        "        print(\"The mileage is 40kmph\")   \n",
        "class Suzuki(Car):   \n",
        "    def mileage(self):   \n",
        "        print(\"The mileage is 25kmph \")   \n",
        "class Duster(Car):   \n",
        "     def mileage(self):   \n",
        "          print(\"The mileage is 10kmph \")   \n",
        "  \n",
        "class Renault(Car):   \n",
        "    def mileage(self):   \n",
        "            print(\"The mileage is 20kmph \")   \n",
        "          \n",
        "# Driver code   \n",
        "t= Tesla ()   \n",
        "t.mileage()   \n",
        "  \n",
        "r = Renault()   \n",
        "r.mileage()   \n",
        "  \n",
        "s = Suzuki()   \n",
        "s.mileage()   \n",
        "d = Duster()   \n",
        "d.mileage()  "
      ]
    },
    {
      "cell_type": "markdown",
      "source": [
        "Q2. Differentiate between Abstraction and Encapsulation. Explain with an example.<br>\n",
        "ANS: <br>\n",
        "* Abstraction shows only useful data by providing the most necessary details, whereas Encapsulation wraps code and data for necessary information.\n",
        "* Abstraction mainly focuses on what must be done, whereas encapsulation mainly focuses on how it must be done.\n",
        "\n"
      ],
      "metadata": {
        "id": "bx55TO_KCSPt"
      }
    },
    {
      "cell_type": "code",
      "source": [
        "from abc import ABC, abstractmethod   \n",
        "class Car(ABC):   \n",
        "  def mileage(self):   \n",
        "    pass  \n",
        "  \n",
        "class Tesla(Car):\n",
        "  def __init__(self):\n",
        "    self.__mileage=0\n",
        "  \n",
        "  def setMileage(self,mileage):\n",
        "    self.__mileage=mileage\n",
        "  \n",
        "  def returnMileage(self):\n",
        "    return self.__mileage\n",
        "\n",
        "obj=Tesla()\n",
        "obj.setMileage(20)\n",
        "\n",
        "print(\"Mileage: \",obj.returnMileage())\n"
      ],
      "metadata": {
        "colab": {
          "base_uri": "https://localhost:8080/"
        },
        "id": "YqKswuNf_Hj_",
        "outputId": "3cc18f2f-ef62-47b0-b90d-c788ac417e7d"
      },
      "execution_count": 3,
      "outputs": [
        {
          "output_type": "stream",
          "name": "stdout",
          "text": [
            "Mileage:  20\n"
          ]
        }
      ]
    },
    {
      "cell_type": "markdown",
      "source": [
        "Q3. What is abc module in python? Why is it used?<br>\n",
        "ANS: <br>\n",
        "The abc module in Python stands for Abstract Base Classes. It is a module that provides a way to define abstract base classes, which are classes that can't be instantiated directly, but rather serve as templates for other classes to inherit from.<br>\n",
        "\n",
        "The abc module is used to define a set of rules that must be followed by classes that inherit from the abstract base class"
      ],
      "metadata": {
        "id": "mLAeS5WUEsBv"
      }
    },
    {
      "cell_type": "markdown",
      "source": [
        "Q4. How can we achieve data abstraction?<br>\n",
        "ANS: <br>\n",
        "Data abstraction in Python can be achieved through the use of classes and objects.\n",
        "\n"
      ],
      "metadata": {
        "id": "fRI7nP8_FVRd"
      }
    },
    {
      "cell_type": "code",
      "source": [
        "class Employee:\n",
        "    def __init__(self, name, salary):\n",
        "        self._name = name\n",
        "        self._salary = salary\n",
        "\n",
        "    def display(self):\n",
        "        print(\"Name:\", self._name)\n",
        "        print(\"Salary:\", self._salary)\n",
        "\n",
        "employee = Employee(\"Rahul\", 5000)\n",
        "employee.display()\n"
      ],
      "metadata": {
        "colab": {
          "base_uri": "https://localhost:8080/"
        },
        "id": "AhAKzkgNEp5l",
        "outputId": "00bf50da-7a5c-48d7-865e-08f3a2cf6dcb"
      },
      "execution_count": 5,
      "outputs": [
        {
          "output_type": "stream",
          "name": "stdout",
          "text": [
            "Name: Rahul\n",
            "Salary: 5000\n"
          ]
        }
      ]
    },
    {
      "cell_type": "markdown",
      "source": [
        "Q5. Can we create an instance of an abstract class? Explain your answer.<br>\n",
        "ANS:<br>\n",
        "* No, we cannot create an instance of an abstract class in Python. \n",
        "*An abstract class is a class that cannot be instantiated directly, but rather serves as a template for other classes to inherit from."
      ],
      "metadata": {
        "id": "KAg0USy9F5EW"
      }
    }
  ]
}