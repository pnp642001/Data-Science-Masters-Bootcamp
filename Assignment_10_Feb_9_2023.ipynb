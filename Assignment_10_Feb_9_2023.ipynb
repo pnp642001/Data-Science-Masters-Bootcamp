{
  "nbformat": 4,
  "nbformat_minor": 0,
  "metadata": {
    "colab": {
      "provenance": [],
      "authorship_tag": "ABX9TyNnAjVjW80O7p41Cr4/f8j+",
      "include_colab_link": true
    },
    "kernelspec": {
      "name": "python3",
      "display_name": "Python 3"
    },
    "language_info": {
      "name": "python"
    }
  },
  "cells": [
    {
      "cell_type": "markdown",
      "metadata": {
        "id": "view-in-github",
        "colab_type": "text"
      },
      "source": [
        "<a href=\"https://colab.research.google.com/github/pnp642001/Data-Science-Masters-Bootcamp/blob/main/Assignment_10_Feb_9_2023.ipynb\" target=\"_parent\"><img src=\"https://colab.research.google.com/assets/colab-badge.svg\" alt=\"Open In Colab\"/></a>"
      ]
    },
    {
      "cell_type": "markdown",
      "source": [
        "Q1, Create a vehicle class with an init method having instance variables as name_of_vehicle, max_speed\n",
        "and average_of_vehicle."
      ],
      "metadata": {
        "id": "xSVtwEZkIAM4"
      }
    },
    {
      "cell_type": "code",
      "execution_count": 1,
      "metadata": {
        "colab": {
          "base_uri": "https://localhost:8080/"
        },
        "id": "duMsHW9mH2wc",
        "outputId": "684faa64-d0e5-46cf-b332-ce8c0f63912c"
      },
      "outputs": [
        {
          "output_type": "stream",
          "name": "stdout",
          "text": [
            "Name:  TATA NEXON\n",
            "Max Speed:  180\n",
            "Average:  15\n"
          ]
        }
      ],
      "source": [
        "class Vehicle():\n",
        "  def __init__(self,name,max_speed,average):\n",
        "    self.name_of_vehicle=name\n",
        "    self.max_speed=max_speed\n",
        "    self.average_of_vehicle=average\n",
        "  \n",
        "  def displayDetails(self):\n",
        "    print(\"Name: \",self.name_of_vehicle)\n",
        "    print(\"Max Speed: \",self.max_speed)\n",
        "    print(\"Average: \",self.average_of_vehicle)\n",
        "\n",
        "obj_1=Vehicle(\"TATA NEXON\",180,15)\n",
        "\n",
        "obj_1.displayDetails()\n"
      ]
    },
    {
      "cell_type": "markdown",
      "source": [
        "Q2. Create a child class car from the vehicle class created in Que 1, which will inherit the vehicle class.\n",
        "Create a method named seating_capacity which takes capacity as an argument and returns the name of\n",
        "the vehicle and its seating capacity."
      ],
      "metadata": {
        "id": "o143vRrcI49Q"
      }
    },
    {
      "cell_type": "code",
      "source": [
        "class Car(Vehicle):\n",
        "\n",
        "  def seating_capacity(self,capacity):\n",
        "    self.capacity=capacity\n",
        "    return self.name_of_vehicle,self.capacity\n",
        "\n",
        "obj_2=Car(\"TATA NEXON\",180,15)\n",
        "name,capacity=obj_2.seating_capacity(5)\n",
        "print(name,\" \",capacity)"
      ],
      "metadata": {
        "colab": {
          "base_uri": "https://localhost:8080/"
        },
        "id": "KHjs-ACuIsMB",
        "outputId": "98cf5e46-b61d-409e-8f2f-6f4faedc1a43"
      },
      "execution_count": 4,
      "outputs": [
        {
          "output_type": "stream",
          "name": "stdout",
          "text": [
            "TATA NEXON   5\n"
          ]
        }
      ]
    },
    {
      "cell_type": "markdown",
      "source": [
        "Q3. What is multiple inheritance? Write a python code to demonstrate multiple inheritance.<br>\n",
        "ANS:<br>\n",
        "* Multiple inheritance is a feature of object-oriented programming languages that allows a class to inherit attributes and methods from more than one parent class. \n",
        "\n",
        "* In multiple inheritance, a class can inherit from two or more classes at the same time, and thus inherit the attributes and methods of all of its parent classes."
      ],
      "metadata": {
        "id": "KKFoMErIJjOc"
      }
    },
    {
      "cell_type": "code",
      "source": [
        "class Employee:\n",
        "    def __init__(self, name, salary):\n",
        "        self.name = name\n",
        "        self.salary = salary\n",
        "\n",
        "    def display(self):\n",
        "        print(\"Name:\", self.name)\n",
        "        print(\"Salary:\", self.salary)\n",
        "\n",
        "class Manager:\n",
        "    def __init__(self, name, salary, department):\n",
        "        self.name = name\n",
        "        self.salary = salary\n",
        "        self.department = department\n",
        "\n",
        "    def display(self):\n",
        "        print(\"Name:\", self.name)\n",
        "        print(\"Salary:\", self.salary)\n",
        "        print(\"Department:\", self.department)\n",
        "\n",
        "class ManagerialEmployee(Employee, Manager):\n",
        "    def __init__(self, name, salary, department, title):\n",
        "        Employee.__init__(self, name, salary)\n",
        "        Manager.__init__(self, name, salary, department)\n",
        "        self.title = title\n",
        "\n",
        "    def display(self):\n",
        "        print(\"Name:\", self.name)\n",
        "        print(\"Salary:\", self.salary)\n",
        "        print(\"Department:\", self.department)\n",
        "        print(\"Title:\", self.title)\n",
        "\n",
        "employee = ManagerialEmployee(\"Rohan\", 500000, \"IT Department\", \"Data Scientist\")\n",
        "employee.display()\n"
      ],
      "metadata": {
        "colab": {
          "base_uri": "https://localhost:8080/"
        },
        "id": "DetHjSyOJPu-",
        "outputId": "bc46c46a-d04f-4ed3-9040-2618bf2c5fee"
      },
      "execution_count": 5,
      "outputs": [
        {
          "output_type": "stream",
          "name": "stdout",
          "text": [
            "Name: Rohan\n",
            "Salary: 500000\n",
            "Department: IT Department\n",
            "Title: Data Scientist\n"
          ]
        }
      ]
    },
    {
      "cell_type": "markdown",
      "source": [
        "Q4. What are getter and setter in python? Create a class and create a getter and a setter method in this\n",
        "class.<br>\n",
        "ANS: <br>\n",
        "* Getter and setter methods are used to access and modify the values of attributes in a class in a controlled way. \n",
        "\n",
        "* A getter method retrieves the value of an attribute, while a setter method sets the value of an attribute.\n",
        "\n",
        "* In Python, we can create getter and setter methods using the @property and @attribute_name.setter decorators. "
      ],
      "metadata": {
        "id": "9ufORPmgKBe7"
      }
    },
    {
      "cell_type": "code",
      "source": [
        "class Person:\n",
        "    def __init__(self, name, age):\n",
        "        self._name = name\n",
        "        self._age = age\n",
        "\n",
        "    @property\n",
        "    def name(self):\n",
        "        return self._name\n",
        "\n",
        "    @name.setter\n",
        "    def name(self, name):\n",
        "        self._name = name\n",
        "\n",
        "    @property\n",
        "    def age(self):\n",
        "        return self._age\n",
        "\n",
        "    @age.setter\n",
        "    def age(self, age):\n",
        "        self._age = age\n",
        "\n",
        "person = Person(\"Rohan\", 21)\n",
        "print(person.name) \n",
        "print(person.age) \n",
        "person.name = \"Harry\"\n",
        "person.age = 18\n",
        "\n",
        "print(person.name) \n",
        "print(person.age) \n"
      ],
      "metadata": {
        "colab": {
          "base_uri": "https://localhost:8080/"
        },
        "id": "nwSVgYVoJ7XX",
        "outputId": "01e69d0f-0373-4c90-f4be-243711e9b0b9"
      },
      "execution_count": 8,
      "outputs": [
        {
          "output_type": "stream",
          "name": "stdout",
          "text": [
            "Rohan\n",
            "21\n",
            "Harry\n",
            "18\n"
          ]
        }
      ]
    },
    {
      "cell_type": "markdown",
      "source": [
        "Q5.What is method overriding in python? Write a python code to demonstrate method overriding.<br>\n",
        "ANS:<br>\n",
        "* Method overriding is a feature of object-oriented programming that allows a subclass to provide a different implementation of a method that is already defined in its superclass. \n",
        "\n",
        "* When a method is overridden, the implementation in the subclass takes precedence over the implementation in the superclass.\n",
        "\n",
        "* In Python, method overriding is achieved by simply defining a method with the same name in the subclass that is already defined in the superclass."
      ],
      "metadata": {
        "id": "Kmmor-43KzcD"
      }
    },
    {
      "cell_type": "code",
      "source": [
        "class Shape:\n",
        "    def area(self):\n",
        "        print(\"This is the area method of the Shape class\")\n",
        "\n",
        "class Square(Shape):\n",
        "    def __init__(self, side):\n",
        "        self.side = side\n",
        "\n",
        "    def area(self):\n",
        "        print(\"The area of the square is:\", self.side ** 2)\n",
        "\n",
        "class Circle(Shape):\n",
        "    def __init__(self, radius):\n",
        "        self.radius = radius\n",
        "\n",
        "    def area(self):\n",
        "        print(\"The area of the circle is:\", 3.14 * self.radius ** 2)\n",
        "\n",
        "shape = Shape()\n",
        "square = Square(5)\n",
        "circle = Circle(2)\n",
        "\n",
        "shape.area() \n",
        "square.area() \n",
        "circle.area() \n"
      ],
      "metadata": {
        "colab": {
          "base_uri": "https://localhost:8080/"
        },
        "id": "VgoZXyrDKqKY",
        "outputId": "e47433cf-3e3a-4c95-ffeb-9663a7b73232"
      },
      "execution_count": 9,
      "outputs": [
        {
          "output_type": "stream",
          "name": "stdout",
          "text": [
            "This is the area method of the Shape class\n",
            "The area of the square is: 25\n",
            "The area of the circle is: 12.56\n"
          ]
        }
      ]
    },
    {
      "cell_type": "code",
      "source": [],
      "metadata": {
        "id": "NZ0lmr9mLI7s"
      },
      "execution_count": null,
      "outputs": []
    }
  ]
}