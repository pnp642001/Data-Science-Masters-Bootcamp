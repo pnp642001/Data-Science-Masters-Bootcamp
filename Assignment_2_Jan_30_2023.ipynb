{
  "nbformat": 4,
  "nbformat_minor": 0,
  "metadata": {
    "colab": {
      "provenance": [],
      "authorship_tag": "ABX9TyOGov1lma6IftwCc7ee0tNj",
      "include_colab_link": true
    },
    "kernelspec": {
      "name": "python3",
      "display_name": "Python 3"
    },
    "language_info": {
      "name": "python"
    }
  },
  "cells": [
    {
      "cell_type": "markdown",
      "metadata": {
        "id": "view-in-github",
        "colab_type": "text"
      },
      "source": [
        "<a href=\"https://colab.research.google.com/github/pnp642001/Data-Science-Masters-Bootcamp/blob/main/Assignment_2_Jan_30_2023.ipynb\" target=\"_parent\"><img src=\"https://colab.research.google.com/assets/colab-badge.svg\" alt=\"Open In Colab\"/></a>"
      ]
    },
    {
      "cell_type": "code",
      "execution_count": 5,
      "metadata": {
        "colab": {
          "base_uri": "https://localhost:8080/"
        },
        "id": "AR7y_OwNZtHu",
        "outputId": "e380641d-1a97-48df-c592-134521fc72a0"
      },
      "outputs": [
        {
          "output_type": "stream",
          "name": "stdout",
          "text": [
            "Enter the percentage: 81\n",
            "B\n"
          ]
        }
      ],
      "source": [
        "#Program-1\n",
        "#Accept percentage from user and then display the grades.\n",
        "\n",
        "percent=int(input(\"Enter the percentage: \"))\n",
        "\n",
        "if(percent > 90):\n",
        "  print(\"A\")\n",
        "elif (percent>80 and percent <=90):\n",
        "  print(\"B\")\n",
        "elif (percent>=60 and percent <=80):\n",
        "  print(\"C\")\n",
        "elif (percent < 60):\n",
        "  print(\"D\")\n"
      ]
    },
    {
      "cell_type": "code",
      "source": [
        "#Program-2\n",
        "#Calculate the road tax to be paid\n",
        "\n",
        "cost=int(input(\"Enter the cost of the bike: \"))\n",
        "tax=0\n",
        "\n",
        "if cost > 100000:\n",
        "  tax=cost*0.15\n",
        "elif cost <=100000 and cost > 50000:\n",
        "  tax=cost*0.10\n",
        "elif cost <= 50000:\n",
        "  tax=cost*0.5\n",
        "\n",
        "print(\"TAX payable is : \",tax)"
      ],
      "metadata": {
        "colab": {
          "base_uri": "https://localhost:8080/"
        },
        "id": "oozuAgH3aixk",
        "outputId": "d47a9a56-457b-4e2f-826f-f013b5a12de2"
      },
      "execution_count": 8,
      "outputs": [
        {
          "output_type": "stream",
          "name": "stdout",
          "text": [
            "Enter the cost of the bike: 84500\n",
            "TAX payable is :  8450.0\n"
          ]
        }
      ]
    },
    {
      "cell_type": "code",
      "source": [
        "#Program-3\n",
        "#Accept city name from the user and display the monument name\n",
        "\n",
        "city=input(\"Enter the city name: \")\n",
        "city= city.capitalize()\n",
        "\n",
        "if city == \"Delhi\":\n",
        "  print(\"Red Fort\")\n",
        "elif city == \"Agra\":\n",
        "  print(\"Taj Mahal\")\n",
        "elif city == \"Jaipur\":\n",
        "  print(\"Jal Mahal\")\n",
        "else:\n",
        "  print(\"Please enter valid city\")\n"
      ],
      "metadata": {
        "colab": {
          "base_uri": "https://localhost:8080/"
        },
        "id": "j7HMOinxdc3Z",
        "outputId": "1c12db0a-4ebb-470a-e2c6-0798661bc840"
      },
      "execution_count": 13,
      "outputs": [
        {
          "output_type": "stream",
          "name": "stdout",
          "text": [
            "Enter the city name: jaipur\n",
            "Jal Mahal\n"
          ]
        }
      ]
    },
    {
      "cell_type": "code",
      "source": [
        "#Program-3\n",
        "#Check how many times a number can be divided by three before it is equal to 10 or less than 10\n",
        "\n",
        "n=int(input(\"Enter the numer: \"))\n",
        "count=0\n",
        "\n",
        "while(n>10):\n",
        "  n= n//3\n",
        "  count+=1\n",
        "\n",
        "print(\"The number is divided \",count,\" times\")\n"
      ],
      "metadata": {
        "colab": {
          "base_uri": "https://localhost:8080/"
        },
        "id": "MLKcTMeiebfK",
        "outputId": "ca9eeeba-978d-41a7-fa54-e399bb573ab4"
      },
      "execution_count": 18,
      "outputs": [
        {
          "output_type": "stream",
          "name": "stdout",
          "text": [
            "Enter the numer: 500\n",
            "The number is divided  4  times\n"
          ]
        }
      ]
    },
    {
      "cell_type": "code",
      "source": [
        "#Program-4\n",
        "#Why and when to use while loop\n",
        "''' Firstly, all the loops can be written as while loop. \n",
        "It depends on the appropriateness of the usage. While loops are mainly used when we don't know how many times we need to iterate over\n",
        "the code written within the while loop.\n",
        "While loop will iterate over the code till the condition provided is satisfied.'''\n",
        "\n",
        "#Example:\n",
        "\n",
        "n=10\n",
        "i=1\n",
        "while(i<=n):\n",
        "  print(i*10)\n",
        "  i+=1\n",
        "\n"
      ],
      "metadata": {
        "colab": {
          "base_uri": "https://localhost:8080/"
        },
        "id": "Lko5SgoxgDPu",
        "outputId": "a4098283-3fe0-46dc-cc39-a28050742e5f"
      },
      "execution_count": 20,
      "outputs": [
        {
          "output_type": "stream",
          "name": "stdout",
          "text": [
            "10\n",
            "20\n",
            "30\n",
            "40\n",
            "50\n",
            "60\n",
            "70\n",
            "80\n",
            "90\n",
            "100\n"
          ]
        }
      ]
    },
    {
      "cell_type": "code",
      "source": [
        "#Program-5\n",
        "#Use nested while loops to print 3 different patterns\n",
        "\n",
        "#Pattern-1\n",
        "\n",
        "i=1\n",
        "j=1\n",
        "\n",
        "while(i<=5):\n",
        "  while(j<=5):\n",
        "    print(\"*\",end=\"\")\n",
        "    j+=1\n",
        "  print()\n",
        "  i+=1\n",
        "  j=1"
      ],
      "metadata": {
        "colab": {
          "base_uri": "https://localhost:8080/"
        },
        "id": "4Le07OaBh8rr",
        "outputId": "866fcb34-d94a-4bdd-b3ab-ef218a6ba234"
      },
      "execution_count": 25,
      "outputs": [
        {
          "output_type": "stream",
          "name": "stdout",
          "text": [
            "*****\n",
            "*****\n",
            "*****\n",
            "*****\n",
            "*****\n"
          ]
        }
      ]
    },
    {
      "cell_type": "code",
      "source": [
        "#Pattern-2\n",
        "\n",
        "i=1\n",
        "j=1\n",
        "\n",
        "while(i<=5):\n",
        "  while(j<=i):\n",
        "    print(\"*\",end=\"\")\n",
        "    j+=1\n",
        "  print()\n",
        "  j=1\n",
        "  i+=1"
      ],
      "metadata": {
        "colab": {
          "base_uri": "https://localhost:8080/"
        },
        "id": "YZjqf5w9ifJn",
        "outputId": "191e2d40-8d0a-4104-849b-66f765f3fe94"
      },
      "execution_count": 29,
      "outputs": [
        {
          "output_type": "stream",
          "name": "stdout",
          "text": [
            "*\n",
            "**\n",
            "***\n",
            "****\n",
            "*****\n"
          ]
        }
      ]
    },
    {
      "cell_type": "code",
      "source": [
        "#Pattern-3\n",
        "\n",
        "i=5\n",
        "j=1\n",
        "\n",
        "while(i>=1):\n",
        "  while(j<=i):\n",
        "    print(\"*\",end=\"\")\n",
        "    j+=1\n",
        "  print()\n",
        "  j=1\n",
        "  i-=1"
      ],
      "metadata": {
        "colab": {
          "base_uri": "https://localhost:8080/"
        },
        "id": "jO88wkImi18Z",
        "outputId": "dbac816c-4969-4a9f-c3ba-9cacedcc43c8"
      },
      "execution_count": 30,
      "outputs": [
        {
          "output_type": "stream",
          "name": "stdout",
          "text": [
            "*****\n",
            "****\n",
            "***\n",
            "**\n",
            "*\n"
          ]
        }
      ]
    },
    {
      "cell_type": "code",
      "source": [
        "#Program-7\n",
        "#Reverse a while to display 10 to 1\n",
        "#Program 7 and 8 in the assignment are the same\n",
        "\n",
        "n=10\n",
        "\n",
        "while(n>0):\n",
        "  print(n,end=\" \")\n",
        "  n=n-1"
      ],
      "metadata": {
        "colab": {
          "base_uri": "https://localhost:8080/"
        },
        "id": "O2yr4weQjStR",
        "outputId": "18bc3ff2-ba38-4629-a944-14b37ad9645e"
      },
      "execution_count": 31,
      "outputs": [
        {
          "output_type": "stream",
          "name": "stdout",
          "text": [
            "10 9 8 7 6 5 4 3 2 1 "
          ]
        }
      ]
    },
    {
      "cell_type": "code",
      "source": [],
      "metadata": {
        "id": "lVbj-uq4jstb"
      },
      "execution_count": null,
      "outputs": []
    }
  ]
}