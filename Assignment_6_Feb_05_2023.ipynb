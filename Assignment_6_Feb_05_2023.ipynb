{
  "nbformat": 4,
  "nbformat_minor": 0,
  "metadata": {
    "colab": {
      "provenance": [],
      "authorship_tag": "ABX9TyPUTSHSa6oe7mBxJ//UMj+w",
      "include_colab_link": true
    },
    "kernelspec": {
      "name": "python3",
      "display_name": "Python 3"
    },
    "language_info": {
      "name": "python"
    }
  },
  "cells": [
    {
      "cell_type": "markdown",
      "metadata": {
        "id": "view-in-github",
        "colab_type": "text"
      },
      "source": [
        "<a href=\"https://colab.research.google.com/github/pnp642001/Data-Science-Masters-Bootcamp/blob/main/Assignment_6_Feb_05_2023.ipynb\" target=\"_parent\"><img src=\"https://colab.research.google.com/assets/colab-badge.svg\" alt=\"Open In Colab\"/></a>"
      ]
    },
    {
      "cell_type": "markdown",
      "source": [
        "Q1. Explain Class and Object with respect to Object-Oriented Programming. Give a suitable example."
      ],
      "metadata": {
        "id": "T1R9zzqerni5"
      }
    },
    {
      "cell_type": "markdown",
      "source": [
        "ANS: <br>\n",
        "A class is a user-defined blueprint/template and we create objects from \n",
        "that class.\n",
        "In OOP, an object is a instance/element of class which inherits all the Data variables and functions of class. \n"
      ],
      "metadata": {
        "id": "BgS-1xQpr48r"
      }
    },
    {
      "cell_type": "code",
      "execution_count": 2,
      "metadata": {
        "colab": {
          "base_uri": "https://localhost:8080/"
        },
        "id": "qeCo22FGrdbz",
        "outputId": "4d00afe9-1a2f-416b-a124-bca95e3d61bc"
      },
      "outputs": [
        {
          "output_type": "stream",
          "name": "stdout",
          "text": [
            "5\n"
          ]
        }
      ],
      "source": [
        "class Example:\n",
        "  x=5\n",
        "\n",
        "obj=Example()\n",
        "print(obj.x)"
      ]
    },
    {
      "cell_type": "markdown",
      "source": [
        "Q2. Name the four pillars of OOPs.<br>\n",
        "\n",
        "ANS:<br>\n",
        "1. Abstraction.\n",
        "2. Encapsulation.\n",
        "3. Inheritance.\n",
        "4. Polymorphism"
      ],
      "metadata": {
        "id": "BxRpZQBWsVwi"
      }
    },
    {
      "cell_type": "markdown",
      "source": [
        "Q3. Explain why the __init__() function is used. Give a suitable example.<br>\n",
        "ANS: <br>\n",
        "\n",
        "The __init__ method is the Python equivalent of the C++ constructor in an object-oriented approach. The __init__ function is called every time an object is created from a class. <br>\n",
        "\n",
        "The __init__ method lets the class initialize the object's attributes and serves no other purpose. It is only used within classes."
      ],
      "metadata": {
        "id": "-SCgfnKzsr1g"
      }
    },
    {
      "cell_type": "code",
      "source": [
        "class MyClass:\n",
        "  def __init__(self,data):\n",
        "    self.data=data\n",
        "  \n",
        "  def printData(self):\n",
        "    return self.data\n",
        "\n",
        "obj=MyClass(10)\n",
        "print(obj.printData())"
      ],
      "metadata": {
        "colab": {
          "base_uri": "https://localhost:8080/"
        },
        "id": "qLSfRbp-sTpy",
        "outputId": "db626d14-f139-4b4e-df6b-5258dd39b9fd"
      },
      "execution_count": 3,
      "outputs": [
        {
          "output_type": "stream",
          "name": "stdout",
          "text": [
            "10\n"
          ]
        }
      ]
    },
    {
      "cell_type": "markdown",
      "source": [
        "Q4. Why self is used in OOPs?<br>\n",
        "\n",
        "ANS: <br>\n",
        "\n",
        "The self variable is used to represent the instance of the class which is often used in object-oriented programming. <br>It works as a reference to the object. <br>Python uses the self parameter to refer to instance attributes and methods of the class."
      ],
      "metadata": {
        "id": "IvCnBV3FtZg5"
      }
    },
    {
      "cell_type": "markdown",
      "source": [
        "Q5. What is inheritance? Give an example for each type of inheritance.\n",
        "<br>\n",
        "\n",
        "ANS:<br>\n",
        "\n",
        "Inheritance is a process of obtaining properties and characteristics(variables and methods) of another class. In this hierarchical order, the class which inherits another class is called subclass or child class, and the other class is the parent class.<br>\n",
        "\n",
        "Types of Inheritance:<br>\n",
        "1. Single Inheritance\n",
        "2. Multiple Inheritance\n",
        "3. Multilevel Inheritance\n",
        "4. Hierarchical Inheritance\n",
        "5. Hybrid Inheritance"
      ],
      "metadata": {
        "id": "pm6RFsICtruI"
      }
    },
    {
      "cell_type": "code",
      "source": [
        "#Single Inheritance\n",
        "\n",
        "class Parent_1:\n",
        "  x=10\n",
        "  def print_1(self):\n",
        "    print(\"Parent class-1\")\n",
        "\n",
        "class Child_1(Parent_1):\n",
        "\n",
        "  x=20\n",
        "\n",
        "obj_1=Child_1()\n",
        "\n",
        "print(obj_1.print_1())\n"
      ],
      "metadata": {
        "colab": {
          "base_uri": "https://localhost:8080/"
        },
        "id": "utyiNfTbtWjk",
        "outputId": "3aeb2556-e58e-491c-cd49-cad3b94797bf"
      },
      "execution_count": 4,
      "outputs": [
        {
          "output_type": "stream",
          "name": "stdout",
          "text": [
            "Parent class-1\n",
            "None\n"
          ]
        }
      ]
    },
    {
      "cell_type": "code",
      "source": [
        "#Multiple Inheritance\n",
        "class A:\n",
        "    demo1=0\n",
        "    def fun1(self):\n",
        "        print(self.demo1)\n",
        "\n",
        "class B:\n",
        "    demo2=0\n",
        "    def fun2(self):\n",
        "        print(self.demo2)\n",
        "\n",
        "class C(A, B):\n",
        "    def fun3(self):\n",
        "        print( \"the child class\")\n",
        "\n",
        "\n",
        "c = C()\n",
        "c.demo1 = 10\n",
        "c.demo2 = 5\n",
        "c.fun3()\n",
        "print(\"first number is : \",c.demo1)\n",
        "print(\"second number is : \",c.demo2)"
      ],
      "metadata": {
        "colab": {
          "base_uri": "https://localhost:8080/"
        },
        "id": "f6-Cy5fcupTJ",
        "outputId": "94f54444-7f59-4a5e-cece-18fba27e6d11"
      },
      "execution_count": 6,
      "outputs": [
        {
          "output_type": "stream",
          "name": "stdout",
          "text": [
            "the child class\n",
            "first number is :  10\n",
            "second number is :  5\n"
          ]
        }
      ]
    },
    {
      "cell_type": "code",
      "source": [
        "#Multilevel Inheritance\n",
        "\n",
        "class vehicle:\n",
        "    def functioning(self):\n",
        "        print(\"vehicles are used for transportation\")\n",
        "\n",
        "\n",
        "class car(vehicle):\n",
        "    def wheels(self):\n",
        "        print(\"car has 4 wheels\")\n",
        "       \n",
        "class electric_car(car):\n",
        "    def speciality(self):\n",
        "        print(\"electric car runs on electricity\")\n",
        "\n",
        "electric=electric_car()\n",
        "electric.speciality()\n",
        "electric.wheels()\n",
        "electric.functioning()"
      ],
      "metadata": {
        "colab": {
          "base_uri": "https://localhost:8080/"
        },
        "id": "Uz3AhRHRu6dP",
        "outputId": "236f5a2b-d340-4673-8efb-9fb8a3cff648"
      },
      "execution_count": 7,
      "outputs": [
        {
          "output_type": "stream",
          "name": "stdout",
          "text": [
            "electric car runs on electricity\n",
            "car has 4 wheels\n",
            "vehicles are used for transportation\n"
          ]
        }
      ]
    },
    {
      "cell_type": "code",
      "source": [
        "#Hierarchical Inheritance\n",
        "\n",
        "class Parent:\n",
        "    def fun1(self):\n",
        "        print(\"Hey there, you are in the parent class\")\n",
        " \n",
        "\n",
        "class child1(Parent):\n",
        "    def fun2(self):\n",
        "        print(\"Hey there, you are in the child class 1\")\n",
        "\n",
        "\n",
        "class child2(Parent):\n",
        "    def fun3(self):\n",
        "        print(\"Hey there, you are in the child class 2\")\n",
        " \n",
        "\n",
        "class child3(Parent):\n",
        "    def fun4(self):\n",
        "        print(\"Hey there, you are in the child class 3\")\n",
        " \n",
        "\n",
        "child_obj1 = child3()\n",
        "child_obj2 = child2()\n",
        "child_obj3 = child1()\n",
        "child_obj1.fun1()\n",
        "child_obj1.fun4()\n",
        "child_obj2.fun1()\n",
        "child_obj2.fun3()\n",
        "child_obj3.fun1()\n",
        "child_obj3.fun2()"
      ],
      "metadata": {
        "colab": {
          "base_uri": "https://localhost:8080/"
        },
        "id": "XxyyP1R3vKjT",
        "outputId": "c7826024-0930-444c-e15e-821b7a495fa8"
      },
      "execution_count": 8,
      "outputs": [
        {
          "output_type": "stream",
          "name": "stdout",
          "text": [
            "Hey there, you are in the parent class\n",
            "Hey there, you are in the child class 3\n",
            "Hey there, you are in the parent class\n",
            "Hey there, you are in the child class 2\n",
            "Hey there, you are in the parent class\n",
            "Hey there, you are in the child class 1\n"
          ]
        }
      ]
    },
    {
      "cell_type": "code",
      "source": [
        "#Hybrid Inheritance\n",
        "\n",
        "class A:\n",
        "  def fun1(self):\n",
        "    print(\"Hey there, you are in class A\")\n",
        "class B(A):\n",
        "  def fun2(self):\n",
        "    print(\"Hey there, you are in class B\")\n",
        "class C(A):\n",
        "  def fun3(self):\n",
        "    print(\"Hey there, you are in class C\")\n",
        "class D(C,A): \n",
        "  def fun4(self):\n",
        "    print(\"Hey there, you are in the class D\")\n",
        "\n",
        "ref = D()\n",
        "ref.fun4()\n",
        "ref.fun3()\n",
        "ref.fun1()"
      ],
      "metadata": {
        "colab": {
          "base_uri": "https://localhost:8080/"
        },
        "id": "eb6WRmFnvbvj",
        "outputId": "1b0e2f55-22e2-42c0-b0eb-d8273af7d092"
      },
      "execution_count": 10,
      "outputs": [
        {
          "output_type": "stream",
          "name": "stdout",
          "text": [
            "Hey there, you are in the class D\n",
            "Hey there, you are in class C\n",
            "Hey there, you are in class A\n"
          ]
        }
      ]
    },
    {
      "cell_type": "code",
      "source": [],
      "metadata": {
        "id": "rppRvnfcvs6N"
      },
      "execution_count": null,
      "outputs": []
    }
  ]
}