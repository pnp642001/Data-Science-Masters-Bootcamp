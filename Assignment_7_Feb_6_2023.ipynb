{
  "nbformat": 4,
  "nbformat_minor": 0,
  "metadata": {
    "colab": {
      "provenance": [],
      "authorship_tag": "ABX9TyML7FF3oyGspcC1OWNBXvRM",
      "include_colab_link": true
    },
    "kernelspec": {
      "name": "python3",
      "display_name": "Python 3"
    },
    "language_info": {
      "name": "python"
    }
  },
  "cells": [
    {
      "cell_type": "markdown",
      "metadata": {
        "id": "view-in-github",
        "colab_type": "text"
      },
      "source": [
        "<a href=\"https://colab.research.google.com/github/pnp642001/Data-Science-Masters-Bootcamp/blob/main/Assignment_7_Feb_6_2023.ipynb\" target=\"_parent\"><img src=\"https://colab.research.google.com/assets/colab-badge.svg\" alt=\"Open In Colab\"/></a>"
      ]
    },
    {
      "cell_type": "markdown",
      "source": [
        "Q1. Create a function which will take a list as an argument and return the product of all the numbers\n",
        "after creating a flat list.\n",
        "Use the below-given list as an argument for your function.<br>\n",
        "list1 = [1,2,3,4, [44,55,66, True], False, (34,56,78,89,34), {1,2,3,3,2,1}, {1:34, \"key2\": [55, 67, 78, 89], 4: (45,\n",
        "22, 61, 34)}, [56, 'data science'], 'Machine Learning']<br>\n",
        "Note: you must extract numeric keys and values of the dictionary also."
      ],
      "metadata": {
        "id": "ZHd--7jTyyel"
      }
    },
    {
      "cell_type": "code",
      "execution_count": 8,
      "metadata": {
        "colab": {
          "base_uri": "https://localhost:8080/"
        },
        "id": "QdoYrQBYya1_",
        "outputId": "6a365a9b-f0a1-4c89-ec24-1b7338b7c0a6"
      },
      "outputs": [
        {
          "output_type": "stream",
          "name": "stdout",
          "text": [
            "Product of the numbers in the list:  95111836553912942080677991478803070895784309571796242230511493807508544801287650065879015427157107187330404097179942787508671044648960000000000000\n"
          ]
        }
      ],
      "source": [
        "def product(list1):\n",
        "  ans=[]\n",
        "  product=1\n",
        "  for var in list1:\n",
        "\n",
        "    if type(var)==int:\n",
        "      ans.append(var)\n",
        "    elif type(var)==list:\n",
        "      for x in var:\n",
        "        if type(x)==int:\n",
        "          ans.append(x)\n",
        "    \n",
        "    elif type(var)==dict:\n",
        "      for key in var.keys():\n",
        "        if type(key)==int:\n",
        "          ans.append(key)\n",
        "      \n",
        "      for value in var.values():\n",
        "        if type(value)==int:\n",
        "          ans.append(value)\n",
        "        elif type(value)==list:\n",
        "          for x in value:\n",
        "            ans.append(x)\n",
        "        \n",
        "        elif type(value)==tuple:\n",
        "          for x in value:\n",
        "            ans.append(x)\n",
        "    \n",
        "    elif type(var)==tuple:\n",
        "\n",
        "      for x in var:\n",
        "        if type(x)==int:\n",
        "          ans.append(x)\n",
        "    elif type(var)==set:\n",
        "      \n",
        "      for x in var:\n",
        "        if type(x)==int:\n",
        "          ans.append(x)\n",
        "\n",
        "    for x in ans:\n",
        "      product*=x\n",
        "  \n",
        "  return product\n",
        "\n",
        "\n",
        "list1 = [1,2,3,4, [44,55,66, True], False, (34,56,78,89,34), {1,2,3,3,2,1}, {1:34, \"key2\": [55, 67, 78, 89], 4: (45,22, 61, 34)}, [56, 'data science'], 'Machine Learning']\n",
        "print(\"Product of the numbers in the list: \",product(list1))"
      ]
    },
    {
      "cell_type": "markdown",
      "source": [
        "Q2. Write a python program for encrypting a message sent to you by your friend. The logic of encryption\n",
        "should be such that, for a the output should be z. For b, the output should be y. For c, the output should\n",
        "be x respectively. Also, the whitespace should be replaced with a dollar sign. Keep the punctuation\n",
        "marks unchanged.<br><br>\n",
        "Input Sentence: I want to become a Data Scientist.\n",
        "Encrypt the above input sentence using the program you just created.<br><br>\n",
        "Note: Convert the given input sentence into lowercase before encrypting. The final output should be\n",
        "lowercase."
      ],
      "metadata": {
        "id": "GdeuHUhp4lKB"
      }
    },
    {
      "cell_type": "code",
      "source": [
        "def encrypt(str):\n",
        "  str=str.lower()\n",
        "  ans=\"\"\n",
        "  a=ord('a')\n",
        "  z=ord('z')\n",
        "\n",
        "  for ch in str:\n",
        "\n",
        "    if ch == \" \":\n",
        "      ans=ans+\"$\"\n",
        "    elif ch == '.':\n",
        "      ans=ans+\".\"\n",
        "    \n",
        "    else:\n",
        "      temp=a+z-ord(ch)\n",
        "      ans=ans+chr(temp)\n",
        "    \n",
        "  return ans\n",
        "\n",
        "\n",
        "input_str=\"I want to become a Data Scientist. Encrypt the above input sentence using the program you just created.\"\n",
        "\n",
        "print(\"Encrypted Message: \",encrypt(input_str))"
      ],
      "metadata": {
        "colab": {
          "base_uri": "https://localhost:8080/"
        },
        "id": "OEdhF4wN24UT",
        "outputId": "89ae292a-6a3d-482d-eba0-56dbd6751fab"
      },
      "execution_count": 21,
      "outputs": [
        {
          "output_type": "stream",
          "name": "stdout",
          "text": [
            "Encrypted Message:  r$dzmg$gl$yvxlnv$z$wzgz$hxrvmgrhg.$vmxibkg$gsv$zylev$rmkfg$hvmgvmxv$fhrmt$gsv$kiltizn$blf$qfhg$xivzgvw.\n"
          ]
        }
      ]
    },
    {
      "cell_type": "code",
      "source": [],
      "metadata": {
        "colab": {
          "base_uri": "https://localhost:8080/"
        },
        "id": "fdsgwP6P5c0c",
        "outputId": "f33ca8b3-b444-4426-e700-a91dbd4ee9ad"
      },
      "execution_count": 18,
      "outputs": [
        {
          "output_type": "stream",
          "name": "stdout",
          "text": [
            "b\n"
          ]
        }
      ]
    },
    {
      "cell_type": "code",
      "source": [],
      "metadata": {
        "id": "kc7LQRrC5eVl"
      },
      "execution_count": null,
      "outputs": []
    }
  ]
}