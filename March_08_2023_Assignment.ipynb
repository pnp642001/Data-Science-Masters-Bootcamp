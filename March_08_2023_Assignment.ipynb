{
  "nbformat": 4,
  "nbformat_minor": 0,
  "metadata": {
    "colab": {
      "provenance": [],
      "authorship_tag": "ABX9TyOLEOYvRiPkSGjOIPpNU+eM",
      "include_colab_link": true
    },
    "kernelspec": {
      "name": "python3",
      "display_name": "Python 3"
    },
    "language_info": {
      "name": "python"
    }
  },
  "cells": [
    {
      "cell_type": "markdown",
      "metadata": {
        "id": "view-in-github",
        "colab_type": "text"
      },
      "source": [
        "<a href=\"https://colab.research.google.com/github/pnp642001/Data-Science-Masters-Bootcamp/blob/main/March_08_2023_Assignment.ipynb\" target=\"_parent\"><img src=\"https://colab.research.google.com/assets/colab-badge.svg\" alt=\"Open In Colab\"/></a>"
      ]
    },
    {
      "cell_type": "markdown",
      "source": [
        "Q1. What is the Probability density function?<br>\n",
        "ANS:<br>\n",
        "In probability theory, a probability density function (PDF) is a function that describes the relative likelihood for a continuous random variable to take on a given value. The probability density function is used to specify the probability of the random variable falling within a particular range of values, as opposed to taking on any one value. The probability density function is denoted by f(x), where x is the random variable. It satisfies the following properties:\n",
        "\n",
        "* The area under the curve of the probability density function is equal to 1.\n",
        "\n",
        "\n",
        "* The probability of a value falling between a and b is given by the area under the curve between a and b."
      ],
      "metadata": {
        "id": "BcwrK6rQpLSB"
      }
    },
    {
      "cell_type": "markdown",
      "source": [
        "Q2. What are the types of Probability distribution?<br>\n",
        "ANS:<br>\n",
        "There are several types of probability distributions in statistics. Some of the most common ones are:\n",
        "\n",
        "* Normal distribution: \n",
        "\n",
        "It is a continuous probability distribution that is symmetric around the mean. Many real-world variables follow a normal distribution, such as heights, weights, and test scores.\n",
        "\n",
        "\n",
        "* Binomial distribution: \n",
        "\n",
        "It is a discrete probability distribution that describes the probability of a certain number of successes in a fixed number of independent trials with a known probability of success in each trial.\n",
        "\n",
        "\n",
        "* Poisson distribution: \n",
        "\n",
        "It is a discrete probability distribution that describes the probability of a certain number of events occurring in a fixed interval of time or space.\n",
        "\n",
        "* Uniform distribution: \n",
        "\n",
        "It is a continuous probability distribution where all outcomes have an equal probability of occurring."
      ],
      "metadata": {
        "id": "ILeG086BpWbP"
      }
    },
    {
      "cell_type": "markdown",
      "source": [
        "Q3. Write a Python function to calculate the probability density function of a normal distribution with\n",
        "given mean and standard deviation at a given point."
      ],
      "metadata": {
        "id": "qrXmXRHxprZ0"
      }
    },
    {
      "cell_type": "code",
      "execution_count": 1,
      "metadata": {
        "colab": {
          "base_uri": "https://localhost:8080/"
        },
        "id": "V5JqnsK9pGPc",
        "outputId": "cfb30408-01fa-413e-98a3-04e69acc5d82"
      },
      "outputs": [
        {
          "output_type": "stream",
          "name": "stdout",
          "text": [
            "0.03315904626424957\n"
          ]
        }
      ],
      "source": [
        "import math\n",
        "\n",
        "def pdf(x, mu, sigma):\n",
        "    \n",
        "    return (1 / (sigma * math.sqrt(2 * math.pi))) * math.exp(-(x - mu)**2 / (2 * sigma**2))\n",
        "\n",
        "print(pdf(10,5,3))"
      ]
    },
    {
      "cell_type": "markdown",
      "source": [
        "Q4. What are the properties of Binomial distribution? Give two examples of events where binomial\n",
        "distribution can be applied.<br>\n",
        "ANS:<br>\n",
        "\n",
        "The properties of the Binomial distribution are:\n",
        "\n",
        "* The experiment consists of a fixed number of trials, say n.\n",
        "* Each trial is independent of each other.\n",
        "* The probability of success, p, is constant for each trial.\n",
        "* There are only two possible outcomes of each trial, either success or failure.\n",
        "* The random variable X represents the number of successes in n trials.\n",
        "\n",
        "\n",
        "Two examples where the Binomial distribution can be applied are:\n",
        "\n",
        "* Tossing a coin: \n",
        "\n",
        "When a fair coin is tossed repeatedly, the probability of getting a head or tail is 0.5. Therefore, the Binomial distribution can be used to calculate the probability of getting a certain number of heads or tails in a fixed number of \n",
        "tosses.\n",
        "\n",
        "\n",
        "* Quality control: \n",
        "\n",
        "In a manufacturing process, a product can be classified as either defective or non-defective. If the probability of producing a defective product is constant, the Binomial distribution can be used to calculate the probability of producing a certain number of defective products in a fixed number of trials."
      ],
      "metadata": {
        "id": "zuzdS-_7p6-9"
      }
    },
    {
      "cell_type": "markdown",
      "source": [
        "Q5. Generate a random sample of size 1000 from a binomial distribution with probability of success 0.4\n",
        "and plot a histogram of the results using matplotlib."
      ],
      "metadata": {
        "id": "UuSUPA1lqKoM"
      }
    },
    {
      "cell_type": "code",
      "source": [
        "import numpy as np\n",
        "import matplotlib.pyplot as plt\n",
        "\n",
        "\n",
        "n = 10  \n",
        "p = 0.4  \n",
        "\n",
        "\n",
        "sample = np.random.binomial(n, p, size=1000)\n",
        "\n",
        "\n",
        "plt.hist(sample, bins='auto', alpha=0.7, rwidth=0.85)\n",
        "plt.xlabel('Number of successes')\n",
        "plt.ylabel('Frequency')\n",
        "plt.title('Binomial Distribution (n=10, p=0.4)')\n",
        "plt.show()\n"
      ],
      "metadata": {
        "colab": {
          "base_uri": "https://localhost:8080/",
          "height": 472
        },
        "id": "R0bvXnvip11_",
        "outputId": "884b39d9-db2e-4d76-b99d-da92b8f46f41"
      },
      "execution_count": 2,
      "outputs": [
        {
          "output_type": "display_data",
          "data": {
            "text/plain": [
              "<Figure size 640x480 with 1 Axes>"
            ],
            "image/png": "[encoded data removed]"
          },
          "metadata": {}
        }
      ]
    },
    {
      "cell_type": "markdown",
      "source": [
        "Q6. Write a Python function to calculate the cumulative distribution function of a Poisson distribution\n",
        "with given mean at a given point."
      ],
      "metadata": {
        "id": "ZXdhDG_mqWKw"
      }
    },
    {
      "cell_type": "code",
      "source": [
        "import math\n",
        "\n",
        "def poisson_cdf(mean, k):\n",
        "  \n",
        "    cdf = 0\n",
        "    for i in range(k + 1):\n",
        "        cdf += math.exp(-mean) * mean**i / math.factorial(i)\n",
        "    return cdf\n",
        "\n",
        "print(poisson_cdf(5,15))"
      ],
      "metadata": {
        "colab": {
          "base_uri": "https://localhost:8080/"
        },
        "id": "HxaVGzteqSW9",
        "outputId": "b39389d3-e6b4-4830-dbd4-c75809494a25"
      },
      "execution_count": 3,
      "outputs": [
        {
          "output_type": "stream",
          "name": "stdout",
          "text": [
            "0.9999309917581444\n"
          ]
        }
      ]
    },
    {
      "cell_type": "markdown",
      "source": [
        "Q7. How Binomial distribution different from Poisson distribution?<br>\n",
        "ANS:<br>\n",
        "\n",
        "The Binomial and Poisson distributions are both discrete probability distributions, but they have different characteristics and are used to model different types of events.\n",
        "\n",
        "The Binomial distribution is used to model the number of successes in a fixed number of independent trials, where each trial has the same probability of success. The key parameters of the Binomial distribution are the number of trials (n) and the probability of success in each trial (p).\n",
        "\n",
        "On the other hand, the Poisson distribution is used to model the number of events that occur in a fixed interval of time or space. The key parameter of the Poisson distribution is the expected number of events (lambda). The Poisson distribution assumes that the events occur independently and at a constant rate.\n",
        "\n",
        "The main difference between the two distributions is the way the events are generated. The Binomial distribution assumes a fixed number of trials, whereas the Poisson distribution assumes a fixed interval of time or space. Additionally, the Poisson distribution assumes that the events occur independently and at a constant rate, while the Binomial distribution assumes that each trial is independent but the probability of success can vary.\n",
        "\n",
        "In practice, the choice between the Binomial and Poisson distributions depends on the nature of the events being modeled and the available data. If the number of trials is fixed and the probability of success is small, the Binomial distribution is more appropriate. If the number of events per unit of time or space is being modeled, the Poisson distribution is more appropriate."
      ],
      "metadata": {
        "id": "FvHhJXyHqjW-"
      }
    },
    {
      "cell_type": "markdown",
      "source": [
        "Q8. Generate a random sample of size 1000 from a Poisson distribution with mean 5 and calculate the\n",
        "sample mean and variance."
      ],
      "metadata": {
        "id": "2_DK78bWqrKj"
      }
    },
    {
      "cell_type": "code",
      "source": [
        "import numpy as np\n",
        "\n",
        "sample = np.random.poisson(5, 1000)\n",
        "\n",
        "sample_mean = np.mean(sample)\n",
        "sample_var = np.var(sample)\n",
        "\n",
        "print(\"Sample Mean:\", sample_mean)\n",
        "print(\"Sample Variance:\", sample_var)\n"
      ],
      "metadata": {
        "colab": {
          "base_uri": "https://localhost:8080/"
        },
        "id": "23i4B-nyqfE8",
        "outputId": "15cb3925-789b-4d90-f896-b5d9f46f24ef"
      },
      "execution_count": 4,
      "outputs": [
        {
          "output_type": "stream",
          "name": "stdout",
          "text": [
            "Sample Mean: 4.989\n",
            "Sample Variance: 4.762878999999999\n"
          ]
        }
      ]
    },
    {
      "cell_type": "markdown",
      "source": [
        "Q9. How mean and variance are related in Binomial distribution and Poisson distribution?<br>\n",
        "ANS:<br>\n",
        "\n",
        "In a binomial distribution, the mean is equal to the product of the number of trials and the probability of success in each trial. The variance is equal to the product of the number of trials, the probability of success in each trial, and the probability of failure in each trial.\n",
        "\n",
        "In a Poisson distribution, both the mean and the variance are equal to λ, the rate parameter. Therefore, the mean and variance are equal in a Poisson distribution.\n",
        "\n",
        "Mathematically, in a binomial distribution with n trials and probability of success p, the mean is given by μ = np and the variance is given by σ^2 = np(1-p). In a Poisson distribution with rate parameter λ, both the mean and variance are given by μ = σ^2 = λ."
      ],
      "metadata": {
        "id": "KAI_7ITNqz4W"
      }
    },
    {
      "cell_type": "markdown",
      "source": [
        "Q10. In normal distribution with respect to mean position, where does the least frequent data appear?<br>\n",
        "ANS:<br>\n",
        "\n",
        "In a normal distribution, the least frequent data appears at the tails or the extreme ends of the distribution, farthest from the mean."
      ],
      "metadata": {
        "id": "KTwwTGSXq5--"
      }
    }
  ]
}