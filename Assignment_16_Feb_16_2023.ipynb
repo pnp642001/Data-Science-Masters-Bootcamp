{
  "nbformat": 4,
  "nbformat_minor": 0,
  "metadata": {
    "colab": {
      "provenance": [],
      "authorship_tag": "ABX9TyMGpChpHTDdC7zfihDovyLC",
      "include_colab_link": true
    },
    "kernelspec": {
      "name": "python3",
      "display_name": "Python 3"
    },
    "language_info": {
      "name": "python"
    }
  },
  "cells": [
    {
      "cell_type": "markdown",
      "metadata": {
        "id": "view-in-github",
        "colab_type": "text"
      },
      "source": [
        "<a href=\"https://colab.research.google.com/github/pnp642001/Data-Science-Masters-Bootcamp/blob/main/Assignment_16_Feb_16_2023.ipynb\" target=\"_parent\"><img src=\"https://colab.research.google.com/assets/colab-badge.svg\" alt=\"Open In Colab\"/></a>"
      ]
    },
    {
      "cell_type": "markdown",
      "source": [
        "Q1. What is a database? Differentiate between SQL and NoSQL databases.<br>\n",
        "ANS:<br>\n",
        "* A database is a structured collection of data that is organized and managed to enable efficient storage, retrieval, and updating of information. A database can store a wide variety of data types, including text, images, audio, video, and more. \n",
        "* Databases are used in a variety of applications, including websites, business applications, scientific research, and more.\n",
        "* SQL (Structured Query Language) and NoSQL (Not Only SQL) are two different types of databases.\n",
        "* SQL databases are relational databases that store data in tables with rows and columns. They use a structured query language, such as SQL, to interact with the data. \n",
        "* SQL databases are known for their ability to handle complex queries, support for transactions, and strong consistency guarantees. Examples of SQL databases include MySQL, PostgreSQL, and Oracle.\n",
        "* NoSQL databases, on the other hand, are non-relational databases that store data in a variety of ways, including key-value pairs, documents, and graphs. They do not use a structured query language like SQL, but instead use APIs to interact with the data. \n",
        "* NoSQL databases are known for their ability to handle large amounts of unstructured data, scale horizontally, and provide high availability. Examples of NoSQL databases include MongoDB, Cassandra, and Redis."
      ],
      "metadata": {
        "id": "ajgOrgB1Wq5T"
      }
    },
    {
      "cell_type": "markdown",
      "source": [
        "Q2. What is DDL? Explain why CREATE, DROP, ALTER, and TRUNCATE are used with an example.<br>\n",
        "ANS:<br>\n",
        "DDL stands for Data Definition Language, which is a subset of SQL that allows users to define and manage the structure of a database. DDL commands are used to create, modify, and delete database objects such as tables, indexes, and constraints.<br><br>\n",
        "\n",
        "The following are some of the commonly used DDL commands:<br>\n",
        "CREATE: This command is used to create a new database object, such as a table or an index.<br>\n",
        "DROP: This command is used to delete a database object, such as a table or an index. <br>\n",
        "ALTER: This command is used to modify the structure of an existing database object, such as a table or a column<br>\n",
        "TRUNCATE: This command is used to delete all data from a table while keeping its structure intact.<br>\n"
      ],
      "metadata": {
        "id": "1SJCwtT0XCj2"
      }
    },
    {
      "cell_type": "code",
      "execution_count": null,
      "metadata": {
        "id": "PBuIpxRzWmoZ"
      },
      "outputs": [],
      "source": [
        "CREATE TABLE customers (\n",
        "   id INT NOT NULL,\n",
        "   name VARCHAR(50) NOT NULL,\n",
        "   email VARCHAR(50),\n",
        "   PRIMARY KEY (id)\n",
        ");\n",
        "\n",
        "DROP TABLE customers;\n",
        "ALTER TABLE customers ADD phone VARCHAR(20);\n",
        "TRUNCATE TABLE customers;\n"
      ]
    },
    {
      "cell_type": "markdown",
      "source": [
        "Q3. What is DML? Explain INSERT, UPDATE, and DELETE with an example.<br>\n",
        "ANS: <br>\n",
        "DML stands for Data Manipulation Language, which is a subset of SQL that allows users to manipulate the data stored in a database. DML commands are used to insert, update, and delete data from database tables.<br><br>\n",
        "\n",
        "The following are some of the commonly used DML commands:<br>\n",
        "INSERT: This command is used to insert new data into a table<br>\n",
        "UPDATE: This command is used to modify existing data in a table<br>\n",
        "DELETE: This command is used to remove data from a table<br>\n",
        "\n"
      ],
      "metadata": {
        "id": "n-_CtuieYDOG"
      }
    },
    {
      "cell_type": "code",
      "source": [
        "INSERT INTO employees (id, name, salary)\n",
        "VALUES (101, 'Ramesh', 50000);\n",
        "\n",
        "UPDATE employees\n",
        "SET salary = 55000\n",
        "WHERE id = 101;\n",
        "\n",
        "DELETE FROM employees\n",
        "WHERE salary < 50000;\n",
        "\n"
      ],
      "metadata": {
        "id": "KXSe_ug6ZOv2"
      },
      "execution_count": null,
      "outputs": []
    },
    {
      "cell_type": "markdown",
      "source": [
        "Q4. What is DQL? Explain SELECT with an example.<br>\n",
        "ANS:<br>\n",
        "DQL stands for Data Query Language, which is a subset of SQL that allows users to retrieve and manipulate data stored in a database. DQL commands are used to query a database, retrieve data, and display the results.<br>\n",
        "The most commonly used DQL command is SELECT, which is used to retrieve data from one or more database tables. The SELECT statement specifies the columns to retrieve and the tables to retrieve them from.<br>\n"
      ],
      "metadata": {
        "id": "T5Iwjg9pZX58"
      }
    },
    {
      "cell_type": "code",
      "source": [
        "SELECT * FROM employees;"
      ],
      "metadata": {
        "id": "4JtxmbpQZwXz"
      },
      "execution_count": null,
      "outputs": []
    },
    {
      "cell_type": "markdown",
      "source": [
        "Q5. Explain Primary Key and Foreign Key.<br>\n",
        "ANS:<br>\n",
        "\n",
        "* A primary key is a unique identifier for a row in a table. It is a column or combination of columns that uniquely identifies each row in a table.  \n",
        "* primary key constraint ensures that the primary key value for each row is unique and not null.<br><br>\n",
        "* A foreign key is a column in a table that is used to establish a link to the primary key of another table.<br>\n",
        "* The foreign key constraint ensures that the values in the foreign key column match the values in the primary key column of the referenced table or are null "
      ],
      "metadata": {
        "id": "QLlmjM5dZ0La"
      }
    },
    {
      "cell_type": "markdown",
      "source": [
        "Q6. Write a python code to connect MySQL to python. Explain the cursor() and execute() method.<br>\n",
        "ANS:<br>\n",
        "* The cursor() method, which allows us to interact with the database. We then execute a SQL query using the execute() method, which takes a SQL statement as a parameter.\n"
      ],
      "metadata": {
        "id": "UpSjZen6aNpl"
      }
    },
    {
      "cell_type": "code",
      "source": [
        "import mysql.connector\n",
        "\n",
        "# establish a connection to the MySQL database\n",
        "mydb = mysql.connector.connect(\n",
        "  host=\"localhost\",\n",
        "  user=\"name\",\n",
        "  password=\"password\",\n",
        "  database=\"database\"\n",
        ")\n",
        "\n",
        "# create a cursor object to interact with the database\n",
        "mycursor = mydb.cursor()\n",
        "\n",
        "# execute a SQL query\n",
        "mycursor.execute(\"SELECT * FROM customers\")"
      ],
      "metadata": {
        "id": "e0qKnhV1aLF0"
      },
      "execution_count": null,
      "outputs": []
    },
    {
      "cell_type": "markdown",
      "source": [
        "Q7. Give the order of execution of SQL clauses in an SQL query.<br>\n",
        "ANS:<br>\n",
        "The order of execution of SQL clauses in an SQL query is as follows:\n",
        "<br>\n",
        "FROM: The FROM clause specifies the table or tables from which the data will be retrieved.\n",
        "<br>\n",
        "WHERE: The WHERE clause is used to filter the rows returned by the query based on a condition.\n",
        "<br>\n",
        "GROUP BY: The GROUP BY clause is used to group the result set by one or more columns.\n",
        "<br>\n",
        "HAVING: The HAVING clause is used to filter the groups created by the GROUP BY clause based on a condition.\n",
        "<br>\n",
        "SELECT: The SELECT clause specifies the columns to be retrieved from the result set.\n",
        "<br>\n",
        "DISTINCT: The DISTINCT keyword is used to remove duplicates from the result set.\n",
        "<br>\n",
        "ORDER BY: The ORDER BY clause is used to sort the result set by one or more columns.\n",
        "<br>\n",
        "LIMIT/OFFSET: The LIMIT/OFFSET clause is used to limit the number of rows returned by the query and to specify the starting row for the result set."
      ],
      "metadata": {
        "id": "AxCndj4GaqZi"
      }
    }
  ]
}