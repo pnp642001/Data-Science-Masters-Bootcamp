{
  "nbformat": 4,
  "nbformat_minor": 0,
  "metadata": {
    "colab": {
      "provenance": [],
      "authorship_tag": "ABX9TyOjTi45jBHkKSwsx+MCF5Pj",
      "include_colab_link": true
    },
    "kernelspec": {
      "name": "python3",
      "display_name": "Python 3"
    },
    "language_info": {
      "name": "python"
    }
  },
  "cells": [
    {
      "cell_type": "markdown",
      "metadata": {
        "id": "view-in-github",
        "colab_type": "text"
      },
      "source": [
        "<a href=\"https://colab.research.google.com/github/pnp642001/Data-Science-Masters-Bootcamp/blob/main/Assignment_11_Feb_10_2023.ipynb\" target=\"_parent\"><img src=\"https://colab.research.google.com/assets/colab-badge.svg\" alt=\"Open In Colab\"/></a>"
      ]
    },
    {
      "cell_type": "markdown",
      "source": [
        "Q1. Which function is used to open a file? What are the different modes of opening a file? Explain each mode\n",
        "of file opening.<br>\n",
        "ANS: <br>\n",
        "* In most programming languages, including Python, the function used to open a file is typically open(). \n",
        "* This function takes at least one argument, which is the file name, and can also take an optional second argument that specifies the mode in which to open the file.\n",
        "<br>\n",
        "The different modes of opening a file in Python are:\n",
        "<br>\n",
        "r: Read mode (default). Opens a file for reading only. The file pointer is placed at the beginning of the file. If the file does not exist, an error is raised.<br>\n",
        "w: Write mode. Opens a file for writing only. Overwrites the file if it exists. If the file does not exist, a new file is created.<br>\n",
        "a: Append mode. Opens a file for writing only. The file pointer is placed at the end of the file. If the file does not exist, a new file is created.<br>\n",
        "x: Exclusive creation mode. Creates a new file and opens it for writing only. If the file already exists, an error is raised.<br>\n",
        "b: Binary mode. Opens a file in binary mode. This mode should be used when working with non-text files, such as images or sound files.<br>\n",
        "t: Text mode (default). Opens a file in text mode. This mode should be used when working with text files.<br>"
      ],
      "metadata": {
        "id": "OaR65A_UtAJ0"
      }
    },
    {
      "cell_type": "markdown",
      "source": [
        "Q2. Why close() function is used? Why is it important to close a file?<br>\n",
        "ANS:<br>\n",
        "* In Python, you can close a file by calling the close() method on the file object.<br>\n",
        "There are several reasons why it's important to close a file:<br>\n",
        "1. Free up system resources\n",
        "2. Save changes\n",
        "3. Avoid data corruption\n",
        "4. Prevent file locking"
      ],
      "metadata": {
        "id": "T66ZGLoQtg-l"
      }
    },
    {
      "cell_type": "markdown",
      "source": [
        "Q3. Write a python program to create a text file. Write ‘I want to become a Data Scientist’ in that file. Then\n",
        "close the file. Open this file and read the content of the file."
      ],
      "metadata": {
        "id": "QE6z445MuKY7"
      }
    },
    {
      "cell_type": "code",
      "execution_count": 1,
      "metadata": {
        "id": "SXJ5aqY_qt8W"
      },
      "outputs": [],
      "source": [
        "file=open(\"sample.txt\",mode='w')"
      ]
    },
    {
      "cell_type": "code",
      "source": [
        "file.write(\"I want to become a Data Scientist\")\n",
        "file.close()\n"
      ],
      "metadata": {
        "id": "XjxyeTFxt7Tt"
      },
      "execution_count": 2,
      "outputs": []
    },
    {
      "cell_type": "code",
      "source": [
        "file=open(\"sample.txt\",mode=\"r\")"
      ],
      "metadata": {
        "id": "8BfOUUHy1vZT"
      },
      "execution_count": 10,
      "outputs": []
    },
    {
      "cell_type": "code",
      "source": [
        "file.read()\n"
      ],
      "metadata": {
        "colab": {
          "base_uri": "https://localhost:8080/",
          "height": 35
        },
        "id": "pp6ZU0T81y_e",
        "outputId": "c7de0043-aed9-4fb5-f296-d76ff88a941d"
      },
      "execution_count": 11,
      "outputs": [
        {
          "output_type": "execute_result",
          "data": {
            "text/plain": [
              "'I want to become a Data Scientist'"
            ],
            "application/vnd.google.colaboratory.intrinsic+json": {
              "type": "string"
            }
          },
          "metadata": {},
          "execution_count": 11
        }
      ]
    },
    {
      "cell_type": "code",
      "source": [
        "file.close()"
      ],
      "metadata": {
        "id": "SVG9bKP52OQu"
      },
      "execution_count": 12,
      "outputs": []
    },
    {
      "cell_type": "markdown",
      "source": [
        "Q4. Explain the following with python code: read(), readline() and readlines()."
      ],
      "metadata": {
        "id": "SwZ1BBKc2FUY"
      }
    },
    {
      "cell_type": "code",
      "source": [
        "file=open(\"sample_2.txt\",mode=\"w\")"
      ],
      "metadata": {
        "id": "MEYxQpnG2B58"
      },
      "execution_count": 13,
      "outputs": []
    },
    {
      "cell_type": "code",
      "source": [
        "file.write(\"The sun was setting behind the mountains, casting long shadows over the valley. Birds were singing in the trees, their melodies filling the air with a sweet, melodious sound. A cool breeze was blowing, carrying with it the scent of pine needles and wildflowers. In the distance, a group of deer were grazing in a meadow, their graceful forms silhouetted against the orange and pink sky. It was a peaceful scene, one that made you forget about the worries and stresses of everyday life.\")\n",
        "file.close()"
      ],
      "metadata": {
        "id": "eOWOlfMQ2ltI"
      },
      "execution_count": 14,
      "outputs": []
    },
    {
      "cell_type": "code",
      "source": [
        "file=open(\"sample_2.txt\",mode=\"r\")"
      ],
      "metadata": {
        "id": "cb3fVWtH2qAf"
      },
      "execution_count": 15,
      "outputs": []
    },
    {
      "cell_type": "code",
      "source": [
        "file.read()"
      ],
      "metadata": {
        "colab": {
          "base_uri": "https://localhost:8080/",
          "height": 87
        },
        "id": "UZ5oTP672tvH",
        "outputId": "30fa0306-ca50-480d-8fc3-55ff3a8ff973"
      },
      "execution_count": 16,
      "outputs": [
        {
          "output_type": "execute_result",
          "data": {
            "text/plain": [
              "'The sun was setting behind the mountains, casting long shadows over the valley. Birds were singing in the trees, their melodies filling the air with a sweet, melodious sound. A cool breeze was blowing, carrying with it the scent of pine needles and wildflowers. In the distance, a group of deer were grazing in a meadow, their graceful forms silhouetted against the orange and pink sky. It was a peaceful scene, one that made you forget about the worries and stresses of everyday life.'"
            ],
            "application/vnd.google.colaboratory.intrinsic+json": {
              "type": "string"
            }
          },
          "metadata": {},
          "execution_count": 16
        }
      ]
    },
    {
      "cell_type": "code",
      "source": [
        "file.seek(0)"
      ],
      "metadata": {
        "colab": {
          "base_uri": "https://localhost:8080/"
        },
        "id": "dzNXHTvX2vjU",
        "outputId": "40d04842-9d9e-4129-aaef-4f4d8f73b1a5"
      },
      "execution_count": 17,
      "outputs": [
        {
          "output_type": "execute_result",
          "data": {
            "text/plain": [
              "0"
            ]
          },
          "metadata": {},
          "execution_count": 17
        }
      ]
    },
    {
      "cell_type": "code",
      "source": [
        "file.readline()"
      ],
      "metadata": {
        "colab": {
          "base_uri": "https://localhost:8080/",
          "height": 87
        },
        "id": "c6vZ6gvt2wd4",
        "outputId": "b18ca749-a2e2-4fd6-c96c-bfe7ba459c38"
      },
      "execution_count": 18,
      "outputs": [
        {
          "output_type": "execute_result",
          "data": {
            "text/plain": [
              "'The sun was setting behind the mountains, casting long shadows over the valley. Birds were singing in the trees, their melodies filling the air with a sweet, melodious sound. A cool breeze was blowing, carrying with it the scent of pine needles and wildflowers. In the distance, a group of deer were grazing in a meadow, their graceful forms silhouetted against the orange and pink sky. It was a peaceful scene, one that made you forget about the worries and stresses of everyday life.'"
            ],
            "application/vnd.google.colaboratory.intrinsic+json": {
              "type": "string"
            }
          },
          "metadata": {},
          "execution_count": 18
        }
      ]
    },
    {
      "cell_type": "code",
      "source": [
        "file.seek(0)"
      ],
      "metadata": {
        "colab": {
          "base_uri": "https://localhost:8080/"
        },
        "id": "tn4SD14o20NC",
        "outputId": "f8124024-4486-491a-ebc0-bc3160a6eafc"
      },
      "execution_count": 19,
      "outputs": [
        {
          "output_type": "execute_result",
          "data": {
            "text/plain": [
              "0"
            ]
          },
          "metadata": {},
          "execution_count": 19
        }
      ]
    },
    {
      "cell_type": "code",
      "source": [
        "file.readlines(3)"
      ],
      "metadata": {
        "colab": {
          "base_uri": "https://localhost:8080/"
        },
        "id": "BJ039n6d21_x",
        "outputId": "0ad148ff-149d-4330-a677-29e1e4e7293a"
      },
      "execution_count": 20,
      "outputs": [
        {
          "output_type": "execute_result",
          "data": {
            "text/plain": [
              "['The sun was setting behind the mountains, casting long shadows over the valley. Birds were singing in the trees, their melodies filling the air with a sweet, melodious sound. A cool breeze was blowing, carrying with it the scent of pine needles and wildflowers. In the distance, a group of deer were grazing in a meadow, their graceful forms silhouetted against the orange and pink sky. It was a peaceful scene, one that made you forget about the worries and stresses of everyday life.']"
            ]
          },
          "metadata": {},
          "execution_count": 20
        }
      ]
    },
    {
      "cell_type": "code",
      "source": [
        "file.close()"
      ],
      "metadata": {
        "id": "T4zgKa5g3Ne4"
      },
      "execution_count": 21,
      "outputs": []
    },
    {
      "cell_type": "markdown",
      "source": [
        "Q5. Explain why with statement is used with open(). What is the advantage of using with statement and\n",
        "open() together?<br>\n",
        "ANS: <br>\n",
        "* The with statement is used with the open() function to ensure that a file is properly closed after it has been used. \n",
        "* When you use the with statement with open(), Python takes care of closing the file for you, even if an error occurs while the file is being processed.\n",
        "* The advantage of using the with statement and open() together is that it helps to avoid common errors that can occur when working with files."
      ],
      "metadata": {
        "id": "2Tv23-De28RT"
      }
    },
    {
      "cell_type": "code",
      "source": [
        "with open(\"sample_2.txt\",mode=\"r\") as file:\n",
        "\n",
        "  for line in file:\n",
        "    print(line)\n",
        "file.close()"
      ],
      "metadata": {
        "colab": {
          "base_uri": "https://localhost:8080/"
        },
        "id": "o0F6hor0239d",
        "outputId": "1f86e700-7913-46fc-b609-f004f26424dc"
      },
      "execution_count": 23,
      "outputs": [
        {
          "output_type": "stream",
          "name": "stdout",
          "text": [
            "The sun was setting behind the mountains, casting long shadows over the valley. Birds were singing in the trees, their melodies filling the air with a sweet, melodious sound. A cool breeze was blowing, carrying with it the scent of pine needles and wildflowers. In the distance, a group of deer were grazing in a meadow, their graceful forms silhouetted against the orange and pink sky. It was a peaceful scene, one that made you forget about the worries and stresses of everyday life.\n"
          ]
        }
      ]
    },
    {
      "cell_type": "markdown",
      "source": [
        "Q6. Explain the write() and writelines() functions. Give a suitable example.<br>\n",
        "ANS: <br>\n",
        "* The write() function is used to write a string to a file. It takes a single argument, which is the string to be written to the file. \n",
        "* If the file does not exist, it will be created, and if it does exist, the function will overwrite the contents of the file.\n",
        "\n",
        "* The writelines() function, on the other hand, is used to write a list of strings to a file. It takes a single argument, which is a list of strings to be written to the file. Each string in the list is written to the file as a separate line, and the function does not add any line breaks between the strings.\n"
      ],
      "metadata": {
        "id": "UtjLEFD13v8b"
      }
    },
    {
      "cell_type": "code",
      "source": [
        "f = open('example.txt', mode='w')\n",
        "f.write('This is a test.')\n",
        "f.close()"
      ],
      "metadata": {
        "id": "A4Jc9SgL3nIn"
      },
      "execution_count": 27,
      "outputs": []
    },
    {
      "cell_type": "code",
      "source": [
        "f = open('example.txt', 'w')\n",
        "lines = ['This is line 1.', 'This is line 2.', 'This is line 3.']\n",
        "f.writelines(lines)\n",
        "f.close()"
      ],
      "metadata": {
        "id": "D0x_sKGe5TVO"
      },
      "execution_count": 28,
      "outputs": []
    },
    {
      "cell_type": "code",
      "source": [],
      "metadata": {
        "id": "i7gRQ1rm5amn"
      },
      "execution_count": null,
      "outputs": []
    }
  ]
}