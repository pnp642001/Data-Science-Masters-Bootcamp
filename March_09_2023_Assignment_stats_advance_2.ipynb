{
  "nbformat": 4,
  "nbformat_minor": 0,
  "metadata": {
    "colab": {
      "provenance": [],
      "authorship_tag": "ABX9TyPrnU2mAtmRnQu2bbrZKcNg",
      "include_colab_link": true
    },
    "kernelspec": {
      "name": "python3",
      "display_name": "Python 3"
    },
    "language_info": {
      "name": "python"
    }
  },
  "cells": [
    {
      "cell_type": "markdown",
      "metadata": {
        "id": "view-in-github",
        "colab_type": "text"
      },
      "source": [
        "<a href=\"https://colab.research.google.com/github/pnp642001/Data-Science-Masters-Bootcamp/blob/main/March_09_2023_Assignment_stats_advance_2.ipynb\" target=\"_parent\"><img src=\"https://colab.research.google.com/assets/colab-badge.svg\" alt=\"Open In Colab\"/></a>"
      ]
    },
    {
      "cell_type": "markdown",
      "source": [
        "Q1: What are the Probability Mass Function (PMF) and Probability Density Function (PDF)? Explain with\n",
        "an example.<br>\n",
        "ANS:<br>\n",
        "The Probability Mass Function (PMF) and Probability Density Function (PDF) are two types of functions used in probability theory and statistics to describe the distribution of a random variable.\n",
        "\n",
        "A Probability Mass Function (PMF) is used for discrete random variables, and it gives the probability of a specific outcome. It maps each possible value of the random variable to the probability of that value occurring. For example, consider a coin flip where we are interested in the number of heads obtained. The PMF for this random variable would give the probability of getting 0, 1, or 2 heads in two flips of the coin.\n",
        "\n",
        "On the other hand, a Probability Density Function (PDF) is used for continuous random variables, and it gives the probability density of an outcome. It is the derivative of the cumulative distribution function (CDF) of the random variable. The PDF represents the relative likelihood of the variable taking on a given value. For example, consider the height of adult humans. The PDF for this variable would give the probability density of a person having a height between a certain range, such as 5'10\" to 6'0\"."
      ],
      "metadata": {
        "id": "xcMcKgMGwkUj"
      }
    },
    {
      "cell_type": "markdown",
      "source": [
        "Q2: What is Cumulative Density Function (CDF)? Explain with an example. Why CDF is used?<br>\n",
        "ANS:<br>\n",
        "The Cumulative Density Function (CDF) is a function used in probability theory that describes the cumulative probability of a random variable taking a value less than or equal to a given value. It gives the probability that a random variable X is less than or equal to a certain value x, and is denoted as F(x).\n",
        "\n",
        "For example, let's consider the rolling of a fair six-sided die. The probability of getting a 1 is 1/6, the probability of getting a 2 is 1/6, and so on. The CDF of the random variable X, which represents the outcome of rolling the die, is:\n",
        "\n",
        "F(x) = P(X ≤ x)\n",
        "\n",
        "If x is less than 1, then F(x) is 0 because the probability of rolling a number less than 1 is impossible. If x is between 1 and 2, then F(x) is 1/6 because there is a probability of 1/6 of rolling a number less than or equal to 1, and a probability of 1/6 of rolling a number less than or equal to 2. Similarly, if x is between 2 and 3, then F(x) is 2/6 or 1/3, because there is a probability of 1/6 of rolling a 2, and a probability of 1/6 of rolling a 3, both of which are less than or equal to x.\n",
        "\n",
        "The CDF is used to calculate various probabilities, such as the probability that a random variable falls within a certain range of values or the probability that a certain value of the random variable will be observed or exceeded. It is also useful for comparing different random variables and their distributions."
      ],
      "metadata": {
        "id": "CovLgbsywtQy"
      }
    },
    {
      "cell_type": "markdown",
      "source": [
        "Q3: What are some examples of situations where the normal distribution might be used as a model?\n",
        "Explain how the parameters of the normal distribution relate to the shape of the distribution.<br>\n",
        "ANS:<br>\n",
        "The normal distribution is a widely used probability distribution in statistics that is used to model many real-world situations. Some examples of situations where the normal distribution might be used as a model include:\n",
        "\n",
        "Heights of a population: The distribution of heights of adult humans tends to follow a normal distribution.\n",
        "\n",
        "IQ scores: IQ scores tend to follow a normal distribution.\n",
        "\n",
        "Errors in measurement: The errors in measurement of a physical quantity tend to follow a normal distribution.\n",
        "\n",
        "The normal distribution is characterized by two parameters: the mean (μ) and the standard deviation (σ). The mean determines the center of the distribution, while the standard deviation determines the spread of the distribution. Specifically, about 68% of the data falls within one standard deviation of the mean, about 95% of the data falls within two standard deviations of the mean, and about 99.7% of the data falls within three standard deviations of the mean.\n",
        "\n",
        "The shape of the normal distribution is bell-shaped, with the majority of the data clustering around the mean, and the tails of the distribution tapering off towards infinity in both directions. The symmetry of the distribution is determined by the mean, while the steepness of the curve is determined by the standard deviation."
      ],
      "metadata": {
        "id": "HhnM6FBWxEKo"
      }
    },
    {
      "cell_type": "markdown",
      "source": [
        "Q4: Explain the importance of Normal Distribution. Give a few real-life examples of Normal\n",
        "Distribution.<br>\n",
        "ANS:<br>\n",
        "The Normal Distribution is an essential concept in statistics that plays a significant role in many areas of data analysis. One of the most important reasons for the importance of the Normal Distribution is its ability to model a wide range of real-world phenomena. The Normal Distribution is often used as a model because many natural processes tend to follow this distribution. It allows us to make probabilistic statements about events, such as the likelihood of a particular value occurring.\n",
        "\n",
        "Some real-life examples of Normal Distribution include:\n",
        "\n",
        "Heights of Adult Humans: The heights of adult humans follow a normal distribution. The mean height of the population can be determined from the normal distribution, and it can be used to predict the probability of an individual being a certain height.\n",
        "\n",
        "Test Scores: In educational testing, the scores of students on standardized tests are often modeled using a normal distribution. The mean and standard deviation of the test scores can be used to make predictions about the scores of future students.\n",
        "\n",
        "Stock Market Returns: The returns of the stock market over a long period of time follow a normal distribution. This is important for investors who use statistical analysis to make investment decisions.\n",
        "\n",
        "Errors in Measurements: In many scientific experiments, there is always some level of error in the measurements. The errors often follow a normal distribution, which can be used to estimate the accuracy of the measurements.\n",
        "\n",
        "The parameters of the normal distribution are the mean (μ) and the standard deviation (σ). The mean represents the center of the distribution, while the standard deviation represents the spread or variability of the distribution. The shape of the normal distribution is determined by these two parameters. If the mean is shifted to the right or left, the distribution is shifted along the x-axis. If the standard deviation is increased or decreased, the distribution becomes wider or narrower, respectively."
      ],
      "metadata": {
        "id": "bROZNKtqxLTS"
      }
    },
    {
      "cell_type": "markdown",
      "source": [
        "Q5: What is Bernaulli Distribution? Give an Example. What is the difference between Bernoulli\n",
        "Distribution and Binomial Distribution?<br>\n",
        "ANS:<br>\n",
        "The Bernoulli distribution is a discrete probability distribution that describes a random experiment with two possible outcomes: success (with probability p) or failure (with probability 1-p). The probability mass function (PMF) of a Bernoulli distribution is given by:\n",
        "\n",
        "P(X = 1) = p\n",
        "P(X = 0) = 1 - p\n",
        "\n",
        "where X is the random variable representing the outcome of the experiment.\n",
        "\n",
        "An example of a Bernoulli distribution is flipping a coin, where the outcome of heads can be considered a success and the outcome of tails can be considered a failure. If the coin is fair, then the probability of heads (success) is 0.5, and the probability of tails (failure) is also 0.5.\n",
        "\n",
        "The main difference between the Bernoulli distribution and the binomial distribution is that the Bernoulli distribution describes a single trial with two possible outcomes, while the binomial distribution describes the number of successes in a fixed number of independent Bernoulli trials.\n",
        "\n",
        "For example, suppose we conduct 10 independent Bernoulli trials, each with a probability of success of 0.2. The number of successes in these trials follows a binomial distribution with parameters n=10 and p=0.2. The binomial distribution gives the probability of obtaining k successes in n trials, and its probability mass function is given by:\n",
        "\n",
        "P(X = k) = (n choose k) * p^k * (1-p)^(n-k)\n",
        "\n",
        "where X is the random variable representing the number of successes, and \"n choose k\" is the binomial coefficient."
      ],
      "metadata": {
        "id": "2zt9KmKMxa7w"
      }
    },
    {
      "cell_type": "markdown",
      "source": [
        "Q6. Consider a dataset with a mean of 50 and a standard deviation of 10. If we assume that the dataset\n",
        "is normally distributed, what is the probability that a randomly selected observation will be greater\n",
        "than 60? Use the appropriate formula and show your calculations.<br>\n",
        "ANS:<br>\n",
        "Given,\n",
        "Mean (μ) = 50\n",
        "Standard Deviation (σ) = 10\n",
        "Value for which we need to find probability, X = 60\n",
        "\n",
        "We can use the standard normal distribution formula to calculate the probability:\n",
        "Z = (X - μ) / σ\n",
        "\n",
        "Substituting the values, we get:\n",
        "Z = (60 - 50) / 10 = 1\n",
        "\n",
        "Using a standard normal distribution table or calculator, we can find that the probability of a randomly selected observation being greater than 60 is approximately 0.1587.\n",
        "\n",
        "Therefore, the probability that a randomly selected observation will be greater than 60 is 0.1587 or 15.87%."
      ],
      "metadata": {
        "id": "OlV8U6azxnGX"
      }
    },
    {
      "cell_type": "markdown",
      "source": [
        "Q7: Explain uniform Distribution with an example.<br>\n",
        "ANS:<br>\n",
        "In probability theory and statistics, the uniform distribution is a probability distribution where all outcomes have an equal chance of occurring. The distribution is characterized by a constant probability density function (PDF) over a range of values, with zero probability outside that range.\n",
        "\n",
        "For example, suppose a fair six-sided die is rolled. Each of the six possible outcomes has an equal probability of 1/6 of occurring. This is an example of a discrete uniform distribution.\n",
        "\n",
        "Similarly, consider a random variable X that is uniformly distributed over the interval [0, 1]. The PDF of X is constant over the interval [0, 1] and equal to 1, and zero outside the interval. The cumulative distribution function (CDF) of X is given by:\n",
        "\n",
        "F(x) = 0, for x < 0\n",
        "F(x) = x, for 0 ≤ x < 1\n",
        "F(x) = 1, for x ≥ 1\n",
        "\n",
        "This means that the probability of X taking a value between a and b, where 0 ≤ a < b ≤ 1, is given by:\n",
        "\n",
        "P(a ≤ X ≤ b) = F(b) - F(a) = b - a\n",
        "\n",
        "The uniform distribution is often used in simulations and Monte Carlo methods, as well as in the analysis of randomized experiments and in cryptography."
      ],
      "metadata": {
        "id": "a0EV1I89yP2G"
      }
    },
    {
      "cell_type": "markdown",
      "source": [
        "Q8: What is the z score? State the importance of the z score.<br>\n",
        "ANS:<br>\n",
        "The z-score, also known as the standard score, is a statistical measure that indicates how many standard deviations an observation or data point is from the mean of the dataset. The formula to calculate the z-score is:\n",
        "\n",
        "z = (x - μ) / σ\n",
        "\n",
        "where x is the observation or data point, μ is the mean of the dataset, and σ is the standard deviation of the dataset.\n",
        "\n",
        "The z-score is important because it allows us to standardize data from different datasets or distributions, making it easier to compare them. A z-score of 0 indicates that the observation or data point is at the mean of the dataset, while a positive z-score indicates that the observation is above the mean and a negative z-score indicates that the observation is below the mean.\n",
        "\n",
        "Z-scores are also useful in hypothesis testing and in determining the probability of a certain observation occurring in a normally distributed dataset.\n"
      ],
      "metadata": {
        "id": "0Xm0nQAQyqkq"
      }
    },
    {
      "cell_type": "markdown",
      "source": [
        "Q9: What is Central Limit Theorem? State the significance of the Central Limit Theorem.<br>\n",
        "ANS:<br>\n",
        "The Central Limit Theorem (CLT) is a fundamental concept in statistics that states that the sampling distribution of the sample mean approaches a normal distribution as the sample size increases, regardless of the shape of the underlying population distribution. This means that even if the population distribution is not normal, the distribution of the sample means will be approximately normal with a mean equal to the population mean and a standard deviation equal to the population standard deviation divided by the square root of the sample size.\n",
        "\n",
        "The significance of the Central Limit Theorem is that it allows us to make statistical inferences about the population using sample data. For example, if we want to estimate the mean height of all people in a city, we can take a random sample of people, calculate their heights, and use the CLT to infer the population mean height. The CLT also forms the basis for many statistical techniques such as hypothesis testing, confidence intervals, and regression analysis."
      ],
      "metadata": {
        "id": "cJMfdXuVyyMn"
      }
    },
    {
      "cell_type": "markdown",
      "source": [
        "Q10: State the assumptions of the Central Limit Theorem.<br>\n",
        "ANS:<br>\n",
        "The Central Limit Theorem (CLT) makes certain assumptions about the underlying population:\n",
        "\n",
        "* The population should be large enough (typically, a sample size of at least 30 is considered sufficient).\n",
        "\n",
        "* The sample should be selected randomly from the population.\n",
        "\n",
        "* The samples should be independent of each other.\n",
        "\n",
        "* The population should have a finite mean and a finite variance.\n",
        "\n",
        "Under these assumptions, the CLT states that the sampling distribution of the mean of any independent, random variable will be approximately normally distributed, regardless of the shape of the original population."
      ],
      "metadata": {
        "id": "9U1UNoA0zDb-"
      }
    }
  ]
}